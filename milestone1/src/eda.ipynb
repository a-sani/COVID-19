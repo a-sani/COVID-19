{
 "cells": [
  {
   "cell_type": "markdown",
   "metadata": {},
   "source": [
    "# TASK 1.1: Visualizing the Data\n",
    "\n",
    "In this notebook, we have stored all the visualizations of the training and location datasets. We only plotted the attributes which made sense to visualize. \n",
    "\n",
    "***Note: We have removed the images from the plots folder because of file size limitation, running this entire notebook will produce and output the images to the plots folder as well***"
   ]
  },
  {
   "cell_type": "markdown",
   "metadata": {},
   "source": [
    "\n",
    "#### First we import the data files and python libraries"
   ]
  },
  {
   "cell_type": "code",
   "execution_count": null,
   "metadata": {},
   "outputs": [],
   "source": [
    "import matplotlib.pyplot as plt\n",
    "import pandas as pd\n",
    "import numpy as np\n",
    "import re\n",
    "import statistics\n",
    "import matplotlib as mpl\n",
    "import seaborn as sns\n",
    "%matplotlib inline\n",
    "\n",
    "train = pd.read_csv('../data/cases_train.csv')\n",
    "test = pd.read_csv('../data/cases_test.csv')\n",
    "location = pd.read_csv('../data/location.csv')"
   ]
  },
  {
   "cell_type": "markdown",
   "metadata": {},
   "source": [
    "## The missing values in the 3 datasets"
   ]
  },
  {
   "cell_type": "code",
   "execution_count": null,
   "metadata": {},
   "outputs": [],
   "source": [
    "# the missing values for each attribute in the training dataset\n",
    "train.isnull().sum()"
   ]
  },
  {
   "cell_type": "code",
   "execution_count": null,
   "metadata": {},
   "outputs": [],
   "source": [
    "# the missing values for each attribute in the testing dataset\n",
    "test.isnull().sum()"
   ]
  },
  {
   "cell_type": "code",
   "execution_count": null,
   "metadata": {},
   "outputs": [],
   "source": [
    "# the missing values in the locations dataset\n",
    "location.isnull().sum()"
   ]
  },
  {
   "cell_type": "markdown",
   "metadata": {},
   "source": [
    "## The Visualizations of the attributes in the \"Training\" Dataset:\n",
    "\n",
    "***The distribution of gender in the data***"
   ]
  },
  {
   "cell_type": "code",
   "execution_count": null,
   "metadata": {},
   "outputs": [],
   "source": [
    "train['sex'] = train['sex'].replace(np.nan, 'unidentified') # label the NaN values\n",
    "gender = train['sex'].value_counts() # Count of all unique values \n",
    "colour = ['#b9edd3','#76b6e3', '#dac5ed']\n",
    "figure = gender.plot(kind='pie', shadow = True, title='COVID-19 cases distributed by Gender', autopct='%1.1f%%',startangle=45, colors = colour,figsize=(6, 5)).get_figure()\n",
    "\n",
    "figure.savefig('../plots/pie_gender.png') # save output figure as an image"
   ]
  },
  {
   "source": [
    "***The distribution of age in the data***\n",
    "\n",
    "1. Convert all the different age formats into one type \n"
   ],
   "cell_type": "markdown",
   "metadata": {}
  },
  {
   "cell_type": "code",
   "execution_count": null,
   "metadata": {},
   "outputs": [],
   "source": [
    "import math\n",
    "def fixAge(age):\n",
    "    #pattern to match if age is between a range\n",
    "    range_pat = \"(\\d+)-(\\d+)\"\n",
    "    #pattern to match if range is float or int\n",
    "    single_pat = \"(\\d+)\"\n",
    "    #pattern to match months\n",
    "    month_pat = \"(\\d+) month\"\n",
    "\n",
    "    #create regex patterns\n",
    "    pat1 = re.compile(range_pat)\n",
    "    pat2 = re.compile(single_pat)\n",
    "    pat3 = re.compile(month_pat)\n",
    "\n",
    "    #match the age format to the regex pattern\n",
    "    result1 = pat1.match(age)\n",
    "    result2 = pat2.match(age)\n",
    "    result3 = pat3.match(age)\n",
    "\n",
    "    if result1: #if age is a range value, return the average\n",
    "        i = int(result1.group(1))\n",
    "        j = int(result1.group(2))\n",
    "        return math.ceil((i+j)//2)\n",
    "\n",
    "    if result2: #if age is float/int, return int\n",
    "        #if age is in months, consider them 1 years old\n",
    "        if result3:\n",
    "            return 1\n",
    "        else:\n",
    "            return int(result2.group(1))\n"
   ]
  },
  {
   "cell_type": "code",
   "execution_count": null,
   "metadata": {},
   "outputs": [],
   "source": [
    "temp = train[\"age\"].dropna() #drop all NaN age values\n",
    "train['age'] = temp.apply(fixAge) #fix the ages\""
   ]
  },
  {
   "source": [
    "2. Plot the cases age distribution on a histogram. (Does not include Null values)"
   ],
   "cell_type": "markdown",
   "metadata": {}
  },
  {
   "cell_type": "code",
   "execution_count": null,
   "metadata": {},
   "outputs": [],
   "source": [
    "# here to plot the age distributions\n",
    "plt.hist(train['age'], bins=10,color='#5c1b43', edgecolor='black')\n",
    "plt.xlabel('Age')\n",
    "plt.ylabel('Cases')\n",
    "plt.title('Age Distribution of COVID-19 Cases')\n",
    "\n",
    "plt.savefig('../plots/cases_age.png') # save output figure as an image\n"
   ]
  },
  {
   "source": [
    "***The location points (longitude and latitude coordinates) of recorded cases plotted on a basemap***"
   ],
   "cell_type": "markdown",
   "metadata": {}
  },
  {
   "cell_type": "code",
   "execution_count": null,
   "metadata": {},
   "outputs": [],
   "source": [
    "from shapely.geometry import Point\n",
    "import geopandas as gpd\n",
    "from geopandas import GeoDataFrame\n",
    "\n",
    "geometry = [Point(xy) for xy in zip(train['longitude'], train['latitude'])]\n",
    "gdf = GeoDataFrame(train, geometry=geometry)   \n",
    "\n",
    "world = gpd.read_file(gpd.datasets.get_path('naturalearth_lowres')) #geopandas basemap\n",
    "fig= gdf.plot(ax=world.plot(figsize=(12, 7),color='#8494a3'), marker='o', color='#5c1b43', markersize=10)\n",
    "\n",
    "fig.set_title(\"Coordinates of COVID-19 Cases\")\n",
    "fig.set_xlabel('Longitude')\n",
    "fig.set_ylabel('Latitude')\n",
    "fig.figure.savefig('../plots/cases_coordinates.png') # save output figure as an image"
   ]
  },
  {
   "source": [
    "***The total cases of COVID-19 by country uptil September 20th, 2020***"
   ],
   "cell_type": "markdown",
   "metadata": {}
  },
  {
   "cell_type": "code",
   "execution_count": null,
   "metadata": {},
   "outputs": [],
   "source": [
    "# COVID-19 Cases by Country\n",
    "#sns.set_style(\"dark\")\n",
    "countries = pd.value_counts(train['country'].dropna())\n",
    "fig = countries.plot.barh(color=['#edca2d','#eb8149', '#ada9a3'], figsize=(15,32))  \n",
    "fig.set_title(\"Recorded cases of COVID-19 by Countries (as of Sept.20, 2020)\")\n",
    "fig.set_xlabel('Cases')\n",
    "fig.set_ylabel('Country')\n",
    "plt.tight_layout()\n",
    "fig.figure.savefig('../plots/cases_by_country.png')"
   ]
  },
  {
   "source": [
    "***Because India has the largest number of cases from the training data, the cases of COVID-19 in different Indian States was plotted to understand how the disease's spread differs between provinces.***"
   ],
   "cell_type": "markdown",
   "metadata": {}
  },
  {
   "cell_type": "code",
   "execution_count": null,
   "metadata": {
    "tags": []
   },
   "outputs": [],
   "source": [
    "# COVID-19 Cases In India\n",
    "df = train.set_index('province').eq('India')\n",
    "provinces = df.index[df['country']].value_counts()\n",
    "\n",
    "fig = provinces.plot.barh(color=['#edca2d','#eb8149'], figsize=(15,20))  \n",
    "fig.set_title(\"Recorded cases of COVID-19 in India (as of Sept.20, 2020)\")\n",
    "fig.set_xlabel('Cases')\n",
    "fig.set_ylabel('States of India')\n",
    "plt.tight_layout()\n",
    "fig.figure.savefig('../plots/cases_by_indian_states.png')"
   ]
  },
  {
   "source": [
    "***The distribution of the types of outcomes of the COVID-19 cases, shown in a pie chart***"
   ],
   "cell_type": "markdown",
   "metadata": {}
  },
  {
   "cell_type": "code",
   "execution_count": null,
   "metadata": {},
   "outputs": [],
   "source": [
    "outcomes = train['outcome'].value_counts()\n",
    "colour = ['#76b6e3', '#dac5ed','#b9edd3','#fabbd1']\n",
    "figure = outcomes.plot(kind='pie', shadow = True, title='The Outcome Distributions of all COVID-19 cases', autopct='%1.1f%%',startangle=45, colors = colour,figsize=(6, 5)).get_figure()\n",
    "plt.tight_layout()\n",
    "figure.savefig('../plots/pie_outcomes.png') # save output figure as an image"
   ]
  },
  {
   "source": [
    "## The Visualizations of the attributes in the \"Location\" Dataset:\n",
    "\n",
    "***Countries shown on the stacked bar, depicting the COVID-19 cases of Recovered, Active, and Deaths***"
   ],
   "cell_type": "markdown",
   "metadata": {}
  },
  {
   "cell_type": "code",
   "execution_count": null,
   "metadata": {
    "tags": []
   },
   "outputs": [],
   "source": [
    "# Combining all the cases of the same country\n",
    "for i,name in enumerate(location['Country_Region'].value_counts().index.tolist()):\n",
    "    confirmed_sum = 0\n",
    "    recovered_sum = 0\n",
    "    death_sum = 0\n",
    "    active_sum = 0\n",
    "    if location['Country_Region'].value_counts()[i] != 1: # if the country has cases by provinces\n",
    "        # sum up the values from all the rows \n",
    "        confirmed_sum = location.groupby('Country_Region')['Confirmed'].sum()[name]\n",
    "        recovered_sum = location.loc[location['Country_Region'] == name, 'Recovered'].sum()\n",
    "        death_sum = location.loc[location['Country_Region'] == name, 'Deaths'].sum()\n",
    "        active_sum = location.loc[location['Country_Region'] == name, 'Active'].sum()\n",
    "        new_fatality = death_sum/confirmed_sum*100\n",
    "        #replace the rows with these new sums\n",
    "        location.loc[location['Country_Region'] == name, 'Confirmed'] = confirmed_sum\n",
    "        location.loc[location['Country_Region'] == name, 'Recovered'] = recovered_sum\n",
    "        location.loc[location['Country_Region'] == name, 'Deaths'] = death_sum\n",
    "        location.loc[location['Country_Region'] == name, 'Active'] = active_sum\n",
    "        location.loc[location['Country_Region'] == name, 'Case-Fatality_Ratio'] = new_fatality\n"
   ]
  },
  {
   "cell_type": "code",
   "execution_count": null,
   "metadata": {},
   "outputs": [],
   "source": [
    "\n",
    "# Plot the graph\n",
    "\n",
    "sns.set_style(\"darkgrid\")\n",
    "sns.set_context({\"figure.figsize\": (45, 15)})\n",
    "\n",
    "deaths = location[\"Confirmed\"]\n",
    "actives = location[\"Recovered\"] + location[\"Active\"].dropna()\n",
    "\n",
    "#Plot 1 - \"top\" series - \"Deaths\"\n",
    "sns.barplot(x = location[\"Country_Region\"], y = deaths, color = \"red\")\n",
    "\n",
    "#Plot 2 - \"middle\" series - \"Active\"\n",
    "middle_plot = sns.barplot(x = location[\"Country_Region\"], y = actives, color = \"#0000A3\")\n",
    "\n",
    "#Plot 3 - \"bottom\" series - \"Recovered\"\n",
    "bottom_plot = sns.barplot(x = location[\"Country_Region\"], y = location[\"Recovered\"], color = \"green\")\n",
    "\n",
    "# Legend\n",
    "top = plt.Rectangle((0,0),1,1,fc=\"red\", edgecolor = 'none')\n",
    "middle = plt.Rectangle((0,0),1,1,fc='#0000A3',  edgecolor = 'none')\n",
    "bottom = plt.Rectangle((0,0),1,1,fc='green',  edgecolor = 'none')\n",
    "l = plt.legend([bottom, middle, top], ['Recovered', 'Active', 'Deaths'], loc=1, ncol = 1, prop={'size':16})\n",
    "\n",
    "# Labels\n",
    "bottom_plot.set_ylabel(\"Cases\")\n",
    "bottom_plot.set_xlabel(\"Country\")\n",
    "bottom_plot.set_title(\"The Recovered, Active, and Death cases of COVID-19 in each Country\")\n",
    "plt.xticks(rotation=80)\n",
    "plt.tight_layout()\n",
    "plt.savefig('../plots/location_country_stackedbar.png') # save output figure as an image\n"
   ]
  },
  {
   "source": [
    "***The Incidence Rate of Countries with COVID-19 cases***"
   ],
   "cell_type": "markdown",
   "metadata": {}
  },
  {
   "cell_type": "code",
   "execution_count": null,
   "metadata": {},
   "outputs": [],
   "source": [
    "sns.set_style(\"white\")\n",
    "sns.set_context({\"figure.figsize\": (30, 15)})\n",
    "sns.barplot(x = location[\"Country_Region\"], y = location['Incidence_Rate'].dropna(), color = \"#460a73\")\n",
    "plt.xlabel('Country')\n",
    "plt.ylabel('Incidence Rate')\n",
    "plt.title('The Incidence Rate of Countries with COVID-19 cases')\n",
    "plt.xticks(rotation=80)\n",
    "plt.tight_layout()\n",
    "plt.savefig('../plots/location_incidence_rate.png') "
   ]
  },
  {
   "source": [
    "***The Case - Fatality Ratio of each Country in regards of COVID-19***"
   ],
   "cell_type": "markdown",
   "metadata": {}
  },
  {
   "cell_type": "code",
   "execution_count": null,
   "metadata": {},
   "outputs": [],
   "source": [
    "sns.set_style(\"white\")\n",
    "sns.set_context({\"figure.figsize\": (30, 15)})\n",
    "sns.barplot(x = location[\"Country_Region\"], y = location['Case-Fatality_Ratio'].dropna(), color = \"#700b3e\")\n",
    "plt.xlabel('Country')\n",
    "plt.ylabel('Case-Fatality Ratio')\n",
    "plt.title('The Case-Fatality Ratio of Countries with COVID-19 cases')\n",
    "plt.xticks(rotation=80)\n",
    "plt.tight_layout()\n",
    "plt.savefig('../plots/location_case-fatality.png') \n"
   ]
  }
 ],
 "metadata": {
  "kernelspec": {
   "display_name": "Python 3",
   "language": "python",
   "name": "python3"
  },
  "language_info": {
   "codemirror_mode": {
    "name": "ipython",
    "version": 3
   },
   "file_extension": ".py",
   "mimetype": "text/x-python",
   "name": "python",
   "nbconvert_exporter": "python",
   "pygments_lexer": "ipython3",
   "version": "3.8.3-final"
  }
 },
 "nbformat": 4,
 "nbformat_minor": 2
}