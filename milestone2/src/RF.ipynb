{
 "cells": [
  {
   "cell_type": "code",
   "execution_count": 1,
   "metadata": {},
   "outputs": [],
   "source": [
    "import numpy as np\n",
    "import pandas as pd\n",
    "import matplotlib.pyplot as plt\n",
    "import seaborn as sns\n",
    "from sklearn.ensemble import RandomForestClassifier\n",
    "from sklearn.model_selection import train_test_split\n",
    "#from sklearn.cross_validation import train_test_split\n",
    "from sklearn.metrics import accuracy_score\n",
    "from sklearn.metrics import classification_report\n",
    "from sklearn.preprocessing import LabelEncoder"
   ]
  },
  {
   "cell_type": "code",
   "execution_count": 2,
   "metadata": {},
   "outputs": [],
   "source": [
    "file = pd.read_csv(\"cases_train_processed.csv\")"
   ]
  },
  {
   "cell_type": "code",
   "execution_count": 4,
   "metadata": {},
   "outputs": [],
   "source": [
    "file[\"date_confirmation\"] = pd.to_datetime(file[\"date_confirmation\"]).dt.strftime(\"%Y%m%d\").astype(int)"
   ]
  },
  {
   "cell_type": "code",
   "execution_count": 5,
   "metadata": {},
   "outputs": [],
   "source": [
    "file[\"additional_information\"] = file[\"additional_information\"].astype(\"category\")\n",
    "file[\"source\"] = file[\"source\"].astype(\"category\")"
   ]
  },
  {
   "cell_type": "code",
   "execution_count": 6,
   "metadata": {},
   "outputs": [],
   "source": [
    "le = LabelEncoder()\n",
    "categories = [\"sex\", \"province\", \"country\", \"additional_information\", \"source\", \"key\"]\n",
    "for i in categories:\n",
    "    file[i] = le.fit_transform(file[i])"
   ]
  },
  {
   "cell_type": "code",
   "execution_count": 8,
   "metadata": {},
   "outputs": [],
   "source": [
    "y = file[\"outcome\"]\n",
    "X = file.drop([\"outcome\"], axis = 1)"
   ]
  },
  {
   "cell_type": "code",
   "execution_count": 9,
   "metadata": {},
   "outputs": [],
   "source": [
    "# Split dataset into training set and test set\n",
    "X_train, X_validation, y_train, y_validation = train_test_split(X, y, train_size = 0.8, test_size = 0.20, random_state = 11)"
   ]
  },
  {
   "cell_type": "code",
   "execution_count": 10,
   "metadata": {},
   "outputs": [],
   "source": [
    "#Create a Gaussian Classifier\n",
    "RF_clf = RandomForestClassifier(max_depth = 22)"
   ]
  },
  {
   "cell_type": "code",
   "execution_count": 11,
   "metadata": {},
   "outputs": [
    {
     "data": {
      "text/plain": [
       "RandomForestClassifier(bootstrap=True, ccp_alpha=0.0, class_weight=None,\n",
       "                       criterion='gini', max_depth=22, max_features='auto',\n",
       "                       max_leaf_nodes=None, max_samples=None,\n",
       "                       min_impurity_decrease=0.0, min_impurity_split=None,\n",
       "                       min_samples_leaf=1, min_samples_split=2,\n",
       "                       min_weight_fraction_leaf=0.0, n_estimators=100,\n",
       "                       n_jobs=None, oob_score=False, random_state=None,\n",
       "                       verbose=0, warm_start=False)"
      ]
     },
     "execution_count": 11,
     "metadata": {},
     "output_type": "execute_result"
    }
   ],
   "source": [
    "#Train the model using the training sets y_pred=clf.predict(X_test)\n",
    "RF_clf.fit(X_train,y_train)"
   ]
  },
  {
   "cell_type": "code",
   "execution_count": 12,
   "metadata": {},
   "outputs": [],
   "source": [
    "# prediction on test set\n",
    "RF_validation_prediction = RF_clf.predict(X_validation)\n",
    "RF_training_prediction = RF_clf.predict(X_train)"
   ]
  },
  {
   "cell_type": "code",
   "execution_count": 13,
   "metadata": {},
   "outputs": [
    {
     "name": "stdout",
     "output_type": "stream",
     "text": [
      "Random Forest training accuracy score: 0.8780\n",
      "Training metrics: \n",
      "                  precision    recall  f1-score   support\n",
      "\n",
      "       deceased       0.98      0.25      0.40      3586\n",
      "   hospitalized       0.79      0.88      0.84    100092\n",
      "nonhospitalized       1.00      1.00      1.00    119928\n",
      "      recovered       0.79      0.70      0.74     70494\n",
      "\n",
      "       accuracy                           0.88    294100\n",
      "      macro avg       0.89      0.71      0.74    294100\n",
      "   weighted avg       0.88      0.88      0.87    294100\n",
      "\n"
     ]
    }
   ],
   "source": [
    "RF_training_accuracy = accuracy_score(RF_training_prediction, y_train)\n",
    "print(\"Random Forest training accuracy score: {0:0.4f}\".format(RF_training_accuracy))\n",
    "RF_training_metrics = classification_report(y_train, RF_training_prediction)\n",
    "print(\"Training metrics: \\n\", RF_training_metrics)"
   ]
  },
  {
   "cell_type": "code",
   "execution_count": 14,
   "metadata": {},
   "outputs": [
    {
     "name": "stdout",
     "output_type": "stream",
     "text": [
      "Random Forest validation accuracy score: 0.8652\n",
      "Validation metrics: \n",
      "                  precision    recall  f1-score   support\n",
      "\n",
      "       deceased       0.71      0.11      0.19       913\n",
      "   hospitalized       0.78      0.88      0.83     24908\n",
      "nonhospitalized       0.99      0.99      0.99     30062\n",
      "      recovered       0.77      0.67      0.72     17643\n",
      "\n",
      "       accuracy                           0.87     73526\n",
      "      macro avg       0.81      0.66      0.68     73526\n",
      "   weighted avg       0.86      0.87      0.86     73526\n",
      "\n"
     ]
    }
   ],
   "source": [
    "RF_validation_accuracy = accuracy_score(RF_validation_prediction, y_validation)\n",
    "print(\"Random Forest validation accuracy score: {0:0.4f}\".format(RF_validation_accuracy))\n",
    "RF_validation_metrics = classification_report(y_validation, RF_validation_prediction)\n",
    "print(\"Validation metrics: \\n\", RF_validation_metrics)"
   ]
  },
  {
   "cell_type": "code",
   "execution_count": 159,
   "metadata": {},
   "outputs": [],
   "source": [
    "RF_max_depth = np.arange(1, 31) \n",
    "RF_train_accuracy = np.empty(len(RF_max_depth)) \n",
    "RF_test_accuracy = np.empty(len(RF_max_depth)) "
   ]
  },
  {
   "cell_type": "code",
   "execution_count": 161,
   "metadata": {},
   "outputs": [],
   "source": [
    "for i, depth in enumerate(RF_max_depth):\n",
    "    \n",
    "    RF_classifier = RandomForestClassifier(max_depth = depth)\n",
    "    RF_classifier.fit(X_train, y_train) \n",
    "\n",
    "    RF_validation_pred = RF_classifier.predict(X_validation)\n",
    "    RF_training_pred = RF_classifier.predict(X_train)\n",
    "    \n",
    "    RF_train_accuracy[i] = accuracy_score(RF_training_pred, y_train)\n",
    "    RF_test_accuracy[i] = accuracy_score(RF_validation_pred, y_validation)"
   ]
  },
  {
   "cell_type": "code",
   "execution_count": 162,
   "metadata": {},
   "outputs": [
    {
     "data": {
      "image/png": "[encoded data removed]",
      "text/plain": [
       "<Figure size 432x288 with 1 Axes>"
      ]
     },
     "metadata": {
      "needs_background": "light"
     },
     "output_type": "display_data"
    }
   ],
   "source": [
    "# Generate plot \n",
    "plt.plot(RF_max_depth, RF_test_accuracy, label = 'Testing dataset Accuracy') \n",
    "plt.plot(RF_max_depth, RF_train_accuracy, label = 'Training dataset Accuracy') \n",
    "  \n",
    "plt.legend() \n",
    "plt.xlabel('Tree Max Depth') \n",
    "plt.ylabel('Accuracy') \n",
    "plt.show() "
   ]
  }
 ],
 "metadata": {
  "kernelspec": {
   "display_name": "Python 3",
   "language": "python",
   "name": "python3"
  },
  "language_info": {
   "codemirror_mode": {
    "name": "ipython",
    "version": 3
   },
   "file_extension": ".py",
   "mimetype": "text/x-python",
   "name": "python",
   "nbconvert_exporter": "python",
   "pygments_lexer": "ipython3",
   "version": "3.7.6"
  }
 },
 "nbformat": 4,
 "nbformat_minor": 4
}
