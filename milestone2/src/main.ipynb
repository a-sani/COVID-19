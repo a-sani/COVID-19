{
 "metadata": {
  "language_info": {
   "codemirror_mode": {
    "name": "ipython",
    "version": 3
   },
   "file_extension": ".py",
   "mimetype": "text/x-python",
   "name": "python",
   "nbconvert_exporter": "python",
   "pygments_lexer": "ipython3",
   "version": "3.8.3-final"
  },
  "orig_nbformat": 2,
  "kernelspec": {
   "name": "python3",
   "display_name": "Python 3.8.3 64-bit ('base': conda)",
   "metadata": {
    "interpreter": {
     "hash": "dd9b7ae739fe05fd14e489c593dddcdef34b4828e46eb743d56b94c2d60eb567"
    }
   }
  }
 },
 "nbformat": 4,
 "nbformat_minor": 2,
 "cells": [
  {
   "cell_type": "code",
   "execution_count": 56,
   "metadata": {},
   "outputs": [],
   "source": [
    "import lightgbm as lgb\n",
    "import pandas as pd\n",
    "import numpy as np\n",
    "from sklearn.model_selection import train_test_split\n",
    "from sklearn.metrics import accuracy_score"
   ]
  },
  {
   "source": [
    "***First, add the dataset and drop the irrelevant columns***"
   ],
   "cell_type": "markdown",
   "metadata": {}
  },
  {
   "cell_type": "code",
   "execution_count": 25,
   "metadata": {},
   "outputs": [
    {
     "output_type": "execute_result",
     "data": {
      "text/plain": [
       "    age      sex           province  country  date_confirmation  \\\n",
       "0  44.0  Unknown              Delhi    India           20200526   \n",
       "1  44.0  Unknown      Uttar Pradesh    India           20200520   \n",
       "2  44.0  Unknown        Maharashtra    India           20200526   \n",
       "3  24.0   female  Baden-Wurttemberg  Germany           20200315   \n",
       "4  44.0  Unknown            Gujarat    India           20200520   \n",
       "\n",
       "   additional_information  source          outcome  \\\n",
       "0                       0       1        recovered   \n",
       "1                       0       1     hospitalized   \n",
       "2                       0       1     hospitalized   \n",
       "3                       0       0  nonhospitalized   \n",
       "4                       0       1     hospitalized   \n",
       "\n",
       "                          key  latitude_y  longitude_y  confirmed_sum  \\\n",
       "0                Delhi, India   28.646519    77.108980       238828.0   \n",
       "1        Uttar Pradesh, India   26.925425    80.560982       342788.0   \n",
       "2          Maharashtra, India   19.449759    76.108221      1167496.0   \n",
       "3  Baden-Wurttemberg, Germany   48.661600     9.350100        46779.0   \n",
       "4              Gujarat, India   22.694884    71.590923       120336.0   \n",
       "\n",
       "   death_sum  recovered_sum  incidence_rate_avg  active_sum  \\\n",
       "0     4907.0       201671.0         1276.409575     32250.0   \n",
       "1     4869.0       270094.0          144.099577     67825.0   \n",
       "2    31791.0       834432.0          948.072083    301273.0   \n",
       "3     1871.0        41228.0          422.592353      3680.0   \n",
       "4     3286.0       100974.0          188.400627     16076.0   \n",
       "\n",
       "   Case-Fatality_Ratio  \n",
       "0             2.054617  \n",
       "1             1.420411  \n",
       "2             2.723007  \n",
       "3             3.999658  \n",
       "4             2.730687  "
      ],
      "text/html": "<div>\n<style scoped>\n    .dataframe tbody tr th:only-of-type {\n        vertical-align: middle;\n    }\n\n    .dataframe tbody tr th {\n        vertical-align: top;\n    }\n\n    .dataframe thead th {\n        text-align: right;\n    }\n</style>\n<table border=\"1\" class=\"dataframe\">\n  <thead>\n    <tr style=\"text-align: right;\">\n      <th></th>\n      <th>age</th>\n      <th>sex</th>\n      <th>province</th>\n      <th>country</th>\n      <th>date_confirmation</th>\n      <th>additional_information</th>\n      <th>source</th>\n      <th>outcome</th>\n      <th>key</th>\n      <th>latitude_y</th>\n      <th>longitude_y</th>\n      <th>confirmed_sum</th>\n      <th>death_sum</th>\n      <th>recovered_sum</th>\n      <th>incidence_rate_avg</th>\n      <th>active_sum</th>\n      <th>Case-Fatality_Ratio</th>\n    </tr>\n  </thead>\n  <tbody>\n    <tr>\n      <th>0</th>\n      <td>44.0</td>\n      <td>Unknown</td>\n      <td>Delhi</td>\n      <td>India</td>\n      <td>20200526</td>\n      <td>0</td>\n      <td>1</td>\n      <td>recovered</td>\n      <td>Delhi, India</td>\n      <td>28.646519</td>\n      <td>77.108980</td>\n      <td>238828.0</td>\n      <td>4907.0</td>\n      <td>201671.0</td>\n      <td>1276.409575</td>\n      <td>32250.0</td>\n      <td>2.054617</td>\n    </tr>\n    <tr>\n      <th>1</th>\n      <td>44.0</td>\n      <td>Unknown</td>\n      <td>Uttar Pradesh</td>\n      <td>India</td>\n      <td>20200520</td>\n      <td>0</td>\n      <td>1</td>\n      <td>hospitalized</td>\n      <td>Uttar Pradesh, India</td>\n      <td>26.925425</td>\n      <td>80.560982</td>\n      <td>342788.0</td>\n      <td>4869.0</td>\n      <td>270094.0</td>\n      <td>144.099577</td>\n      <td>67825.0</td>\n      <td>1.420411</td>\n    </tr>\n    <tr>\n      <th>2</th>\n      <td>44.0</td>\n      <td>Unknown</td>\n      <td>Maharashtra</td>\n      <td>India</td>\n      <td>20200526</td>\n      <td>0</td>\n      <td>1</td>\n      <td>hospitalized</td>\n      <td>Maharashtra, India</td>\n      <td>19.449759</td>\n      <td>76.108221</td>\n      <td>1167496.0</td>\n      <td>31791.0</td>\n      <td>834432.0</td>\n      <td>948.072083</td>\n      <td>301273.0</td>\n      <td>2.723007</td>\n    </tr>\n    <tr>\n      <th>3</th>\n      <td>24.0</td>\n      <td>female</td>\n      <td>Baden-Wurttemberg</td>\n      <td>Germany</td>\n      <td>20200315</td>\n      <td>0</td>\n      <td>0</td>\n      <td>nonhospitalized</td>\n      <td>Baden-Wurttemberg, Germany</td>\n      <td>48.661600</td>\n      <td>9.350100</td>\n      <td>46779.0</td>\n      <td>1871.0</td>\n      <td>41228.0</td>\n      <td>422.592353</td>\n      <td>3680.0</td>\n      <td>3.999658</td>\n    </tr>\n    <tr>\n      <th>4</th>\n      <td>44.0</td>\n      <td>Unknown</td>\n      <td>Gujarat</td>\n      <td>India</td>\n      <td>20200520</td>\n      <td>0</td>\n      <td>1</td>\n      <td>hospitalized</td>\n      <td>Gujarat, India</td>\n      <td>22.694884</td>\n      <td>71.590923</td>\n      <td>120336.0</td>\n      <td>3286.0</td>\n      <td>100974.0</td>\n      <td>188.400627</td>\n      <td>16076.0</td>\n      <td>2.730687</td>\n    </tr>\n  </tbody>\n</table>\n</div>"
     },
     "metadata": {},
     "execution_count": 25
    }
   ],
   "source": [
    "df = pd.read_csv('../data/cases_train_processed.csv')\n",
    "\n",
    "# Some preprocessing\n",
    "df = df.drop(['latitude_x', 'longitude_x'], axis=1) # drop these columns with inconsistent/irrelevant data\n",
    "df[\"date_confirmation\"] = pd.to_datetime(df[\"date_confirmation\"]).dt.strftime(\"%Y%m%d\").astype(int) # convert date from object type to int type\n",
    "df.head(5)"
   ]
  },
  {
   "source": [
    "## LightGBM Model\n"
   ],
   "cell_type": "markdown",
   "metadata": {}
  },
  {
   "cell_type": "code",
   "execution_count": 28,
   "metadata": {},
   "outputs": [],
   "source": [
    "for c in df.columns:\n",
    "    col_type = df[c].dtype\n",
    "    if col_type == 'object' or col_type.name == 'category':\n",
    "        df[c] = df[c].astype('category')"
   ]
  },
  {
   "cell_type": "code",
   "execution_count": 44,
   "metadata": {},
   "outputs": [
    {
     "output_type": "execute_result",
     "data": {
      "text/plain": [
       "age                        float64\n",
       "sex                       category\n",
       "province                  category\n",
       "country                   category\n",
       "date_confirmation            int64\n",
       "additional_information       int64\n",
       "source                       int64\n",
       "outcome                   category\n",
       "key                       category\n",
       "latitude_y                 float64\n",
       "longitude_y                float64\n",
       "confirmed_sum              float64\n",
       "death_sum                  float64\n",
       "recovered_sum              float64\n",
       "incidence_rate_avg         float64\n",
       "active_sum                 float64\n",
       "Case-Fatality_Ratio        float64\n",
       "dtype: object"
      ]
     },
     "metadata": {},
     "execution_count": 44
    }
   ],
   "source": [
    "df.dtypes"
   ]
  },
  {
   "cell_type": "code",
   "execution_count": 48,
   "metadata": {},
   "outputs": [
    {
     "output_type": "execute_result",
     "data": {
      "text/plain": [
       "         age      sex     province    country  date_confirmation  \\\n",
       "15005   44.0  Unknown   Tamil Nadu      India           20200516   \n",
       "175052  44.0  Unknown  Maharashtra      India           20200522   \n",
       "335676  36.0   female   Santa Cruz  Argentina           20201004   \n",
       "292089  44.0  Unknown  Maharashtra      India           20200523   \n",
       "311460  36.0   female    Bogota DC   Colombia           20200426   \n",
       "\n",
       "        additional_information  source                    key  latitude_y  \\\n",
       "15005                        0       1      Tamil Nadu, India   11.006091   \n",
       "175052                       0       1     Maharashtra, India   19.449759   \n",
       "335676                       0       0  Santa Cruz, Argentina  -38.416100   \n",
       "292089                       0       1     Maharashtra, India   19.449759   \n",
       "311460                       0       0    Bogota DC, Colombia    5.349139   \n",
       "\n",
       "        longitude_y  confirmed_sum  death_sum  recovered_sum  \\\n",
       "15005     78.400624       530908.0     8685.0       475717.0   \n",
       "175052    76.108221      1167496.0    31791.0       834432.0   \n",
       "335676   -63.616700       622934.0    12799.0       478077.0   \n",
       "292089    76.108221      1167496.0    31791.0       834432.0   \n",
       "311460   -74.190797       758398.0    24039.0       627685.0   \n",
       "\n",
       "        incidence_rate_avg  active_sum  Case-Fatality_Ratio  \n",
       "15005           682.039258     46506.0             1.635877  \n",
       "175052          948.072083    301273.0             2.723007  \n",
       "335676         1378.301340    132058.0             2.054632  \n",
       "292089          948.072083    301273.0             2.723007  \n",
       "311460         1218.239013    106674.0             3.169708  "
      ],
      "text/html": "<div>\n<style scoped>\n    .dataframe tbody tr th:only-of-type {\n        vertical-align: middle;\n    }\n\n    .dataframe tbody tr th {\n        vertical-align: top;\n    }\n\n    .dataframe thead th {\n        text-align: right;\n    }\n</style>\n<table border=\"1\" class=\"dataframe\">\n  <thead>\n    <tr style=\"text-align: right;\">\n      <th></th>\n      <th>age</th>\n      <th>sex</th>\n      <th>province</th>\n      <th>country</th>\n      <th>date_confirmation</th>\n      <th>additional_information</th>\n      <th>source</th>\n      <th>key</th>\n      <th>latitude_y</th>\n      <th>longitude_y</th>\n      <th>confirmed_sum</th>\n      <th>death_sum</th>\n      <th>recovered_sum</th>\n      <th>incidence_rate_avg</th>\n      <th>active_sum</th>\n      <th>Case-Fatality_Ratio</th>\n    </tr>\n  </thead>\n  <tbody>\n    <tr>\n      <th>15005</th>\n      <td>44.0</td>\n      <td>Unknown</td>\n      <td>Tamil Nadu</td>\n      <td>India</td>\n      <td>20200516</td>\n      <td>0</td>\n      <td>1</td>\n      <td>Tamil Nadu, India</td>\n      <td>11.006091</td>\n      <td>78.400624</td>\n      <td>530908.0</td>\n      <td>8685.0</td>\n      <td>475717.0</td>\n      <td>682.039258</td>\n      <td>46506.0</td>\n      <td>1.635877</td>\n    </tr>\n    <tr>\n      <th>175052</th>\n      <td>44.0</td>\n      <td>Unknown</td>\n      <td>Maharashtra</td>\n      <td>India</td>\n      <td>20200522</td>\n      <td>0</td>\n      <td>1</td>\n      <td>Maharashtra, India</td>\n      <td>19.449759</td>\n      <td>76.108221</td>\n      <td>1167496.0</td>\n      <td>31791.0</td>\n      <td>834432.0</td>\n      <td>948.072083</td>\n      <td>301273.0</td>\n      <td>2.723007</td>\n    </tr>\n    <tr>\n      <th>335676</th>\n      <td>36.0</td>\n      <td>female</td>\n      <td>Santa Cruz</td>\n      <td>Argentina</td>\n      <td>20201004</td>\n      <td>0</td>\n      <td>0</td>\n      <td>Santa Cruz, Argentina</td>\n      <td>-38.416100</td>\n      <td>-63.616700</td>\n      <td>622934.0</td>\n      <td>12799.0</td>\n      <td>478077.0</td>\n      <td>1378.301340</td>\n      <td>132058.0</td>\n      <td>2.054632</td>\n    </tr>\n    <tr>\n      <th>292089</th>\n      <td>44.0</td>\n      <td>Unknown</td>\n      <td>Maharashtra</td>\n      <td>India</td>\n      <td>20200523</td>\n      <td>0</td>\n      <td>1</td>\n      <td>Maharashtra, India</td>\n      <td>19.449759</td>\n      <td>76.108221</td>\n      <td>1167496.0</td>\n      <td>31791.0</td>\n      <td>834432.0</td>\n      <td>948.072083</td>\n      <td>301273.0</td>\n      <td>2.723007</td>\n    </tr>\n    <tr>\n      <th>311460</th>\n      <td>36.0</td>\n      <td>female</td>\n      <td>Bogota DC</td>\n      <td>Colombia</td>\n      <td>20200426</td>\n      <td>0</td>\n      <td>0</td>\n      <td>Bogota DC, Colombia</td>\n      <td>5.349139</td>\n      <td>-74.190797</td>\n      <td>758398.0</td>\n      <td>24039.0</td>\n      <td>627685.0</td>\n      <td>1218.239013</td>\n      <td>106674.0</td>\n      <td>3.169708</td>\n    </tr>\n  </tbody>\n</table>\n</div>"
     },
     "metadata": {},
     "execution_count": 48
    }
   ],
   "source": [
    "y = df['outcome']\n",
    "X = df.drop(['outcome'], axis=1)\n",
    "#X_train, X_test, y_train, y_test = train_test_split(X, y, test_size = 0.3, random_state = 0)\n",
    "training_data, validation_data, training_truth, validation_truth = train_test_split(X, y, train_size=0.8, test_size=0.20, random_state=11)\n",
    "training_data.head(5)"
   ]
  },
  {
   "cell_type": "code",
   "execution_count": 49,
   "metadata": {},
   "outputs": [
    {
     "output_type": "execute_result",
     "data": {
      "text/plain": [
       "LGBMClassifier()"
      ]
     },
     "metadata": {},
     "execution_count": 49
    }
   ],
   "source": [
    "clf = lgb.LGBMClassifier()\n",
    "clf.fit(training_data, training_truth)"
   ]
  },
  {
   "cell_type": "code",
   "execution_count": 52,
   "metadata": {},
   "outputs": [],
   "source": [
    "validation_prediction = clf.predict(validation_data)\n",
    "training_prediction = clf.predict(training_data)"
   ]
  },
  {
   "cell_type": "code",
   "execution_count": 54,
   "metadata": {},
   "outputs": [
    {
     "output_type": "stream",
     "name": "stdout",
     "text": [
      "LightGBM Model accuracy score: 0.8441\n"
     ]
    }
   ],
   "source": [
    "accuracy2 = accuracy_score(training_prediction, training_truth)\n",
    "print('LightGBM Training accuracy score: {0:0.4f}'.format(accuracy_score(training_truth, training_prediction)))"
   ]
  },
  {
   "cell_type": "code",
   "execution_count": 53,
   "metadata": {},
   "outputs": [
    {
     "output_type": "stream",
     "name": "stdout",
     "text": [
      "LightGBM Model accuracy score: 0.8414\n"
     ]
    }
   ],
   "source": [
    "accuracy=accuracy_score(validation_prediction, validation_truth)\n",
    "print('LightGBM Validation accuracy score: {0:0.4f}'.format(accuracy_score(validation_truth, validation_prediction)))"
   ]
  },
  {
   "cell_type": "code",
   "execution_count": null,
   "metadata": {},
   "outputs": [],
   "source": []
  }
 ]
}