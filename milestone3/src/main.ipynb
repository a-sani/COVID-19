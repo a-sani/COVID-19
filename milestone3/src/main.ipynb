{
 "metadata": {
  "language_info": {
   "codemirror_mode": {
    "name": "ipython",
    "version": 3
   },
   "file_extension": ".py",
   "mimetype": "text/x-python",
   "name": "python",
   "nbconvert_exporter": "python",
   "pygments_lexer": "ipython3",
   "version": "3.8.3"
  },
  "orig_nbformat": 2,
  "kernelspec": {
   "name": "python383jvsc74a57bd0dd9b7ae739fe05fd14e489c593dddcdef34b4828e46eb743d56b94c2d60eb567",
   "display_name": "Python 3.8.3 64-bit ('base': conda)"
  }
 },
 "nbformat": 4,
 "nbformat_minor": 2,
 "cells": [
  {
   "source": [
    "***Import all the libraries***"
   ],
   "cell_type": "markdown",
   "metadata": {}
  },
  {
   "cell_type": "code",
   "execution_count": 329,
   "metadata": {},
   "outputs": [],
   "source": [
    "import lightgbm as lgb\n",
    "import pandas as pd\n",
    "import numpy as np\n",
    "import pickle\n",
    "import matplotlib.pyplot as plt  \n",
    "from sklearn.model_selection import train_test_split\n",
    "from sklearn import metrics\n",
    "from sklearn.neighbors import KNeighborsClassifier\n",
    "from sklearn.ensemble import RandomForestClassifier\n",
    "from sklearn.preprocessing import LabelEncoder\n",
    "from sklearn.model_selection import GridSearchCV\n",
    "from sklearn.model_selection import KFold\n",
    "\n",
    "from imblearn.over_sampling import SMOTE\n",
    "from imblearn.under_sampling import RandomUnderSampler\n"
   ]
  },
  {
   "source": [
    "# Preprocessing Steps\n",
    "***Add the dataset and convert the date format to integer type.***"
   ],
   "cell_type": "markdown",
   "metadata": {}
  },
  {
   "cell_type": "code",
   "execution_count": 328,
   "metadata": {},
   "outputs": [],
   "source": [
    "train_df = pd.read_csv('../data/cases_train_processed.csv')\n",
    "test_df = pd.read_csv('../data/cases_test_processed.csv')\n",
    "\n",
    "# Some preprocessing\n",
    "# convert date from object type to int type\n",
    "train_df[\"date_confirmation\"] = pd.to_datetime(train_df[\"date_confirmation\"]).dt.strftime(\"%Y%m%d\").astype(int) \n",
    "test_df[\"date_confirmation\"] = pd.to_datetime(test_df[\"date_confirmation\"]).dt.strftime(\"%Y%m%d\").astype(int) \n"
   ]
  },
  {
   "cell_type": "code",
   "execution_count": 318,
   "metadata": {},
   "outputs": [],
   "source": [
    "#use label encoder to normalize categorical features in dataframe\n",
    "le = LabelEncoder()\n",
    "categoricalFeatures = ['sex','province', 'country','key','additional_information', 'source']\n",
    "for feat in categoricalFeatures:\n",
    "    train_df[feat]= le.fit_transform(train_df[feat])\n",
    "    test_df[feat]= le.fit_transform(test_df[feat])\n"
   ]
  },
  {
   "cell_type": "code",
   "execution_count": 319,
   "metadata": {},
   "outputs": [
    {
     "output_type": "execute_result",
     "data": {
      "text/plain": [
       "nonhospitalized    149990\n",
       "hospitalized       125000\n",
       "recovered           88137\n",
       "deceased             4499\n",
       "Name: outcome, dtype: int64"
      ]
     },
     "metadata": {},
     "execution_count": 319
    }
   ],
   "source": [
    "train_df[\"outcome\"].value_counts()"
   ]
  },
  {
   "cell_type": "code",
   "execution_count": 320,
   "metadata": {},
   "outputs": [],
   "source": [
    "y = train_df['outcome']\n",
    "X = train_df.drop(['outcome'], axis=1)"
   ]
  },
  {
   "cell_type": "code",
   "execution_count": 321,
   "metadata": {},
   "outputs": [],
   "source": [
    "#split data into training and validation sets\n",
    "training_data, validation_data, training_truth, validation_truth = train_test_split(X, y, train_size=0.8, test_size=0.2, random_state=11)"
   ]
  },
  {
   "cell_type": "code",
   "execution_count": 322,
   "metadata": {},
   "outputs": [
    {
     "output_type": "execute_result",
     "data": {
      "text/plain": [
       "nonhospitalized    119928\n",
       "hospitalized       100092\n",
       "recovered           70494\n",
       "deceased             3586\n",
       "Name: outcome, dtype: int64"
      ]
     },
     "metadata": {},
     "execution_count": 322
    }
   ],
   "source": [
    "training_truth.value_counts()"
   ]
  },
  {
   "source": [
    "***Using SMOTE for (partial) oversampling to solve the imbalanced labels problem.***"
   ],
   "cell_type": "markdown",
   "metadata": {}
  },
  {
   "cell_type": "code",
   "execution_count": 34,
   "metadata": {},
   "outputs": [],
   "source": [
    "# oversample = SMOTE(random_state=0)\n",
    "# training_data, training_truth = oversample.fit_resample(training_data, training_truth)"
   ]
  },
  {
   "cell_type": "code",
   "execution_count": 324,
   "metadata": {},
   "outputs": [],
   "source": [
    "strategy = {'deceased':6000, 'recovered':100500, 'hospitalized':109000} \n",
    "os = SMOTE(sampling_strategy=strategy)\n",
    "training_data, training_truth = os.fit_resample(training_data, training_truth)\n"
   ]
  },
  {
   "cell_type": "code",
   "execution_count": 325,
   "metadata": {},
   "outputs": [
    {
     "output_type": "execute_result",
     "data": {
      "text/plain": [
       "nonhospitalized    119928\n",
       "hospitalized       109000\n",
       "recovered          100500\n",
       "deceased             6000\n",
       "Name: outcome, dtype: int64"
      ]
     },
     "metadata": {},
     "execution_count": 325
    }
   ],
   "source": [
    "training_truth.value_counts()"
   ]
  },
  {
   "source": [
    "***Functions to calculate the recall, precision, and F1 score of the \"deceased\" label.***"
   ],
   "cell_type": "markdown",
   "metadata": {}
  },
  {
   "cell_type": "code",
   "execution_count": 53,
   "metadata": {},
   "outputs": [],
   "source": [
    "# Scoring Functions\n",
    "def calc_deceasedRecall(truth, prediction):\n",
    "    return metrics.recall_score(truth,prediction, average=None)[0]\n",
    "\n",
    "def calc_deceasedPrecision(truth, prediction):\n",
    "    return metrics.precision_score(truth,prediction, average=None)[0]\n",
    "\n",
    "def calc_deceasedF1(truth, prediction):\n",
    "    return metrics.f1_score(truth,prediction, average=None)[0]\n",
    "\n",
    "\n",
    "scoring_metrics = {\n",
    "    'f1_deceased' : metrics.make_scorer(calc_deceasedF1),\n",
    "    'recall_deceased' : metrics.make_scorer(calc_deceasedRecall),\n",
    "    'overall_accuracy': metrics.make_scorer(metrics.accuracy_score),\n",
    "    'overall_recall': metrics.make_scorer(metrics.recall_score , average='macro'),\n",
    "}"
   ]
  },
  {
   "source": [
    "# Hyperparameter Tuning\n",
    "***Tuning the parameters and outputting the hyperparameter combinations as a dataframe.***\n",
    "## 1. K-Nearest Neighbours Classifier"
   ],
   "cell_type": "markdown",
   "metadata": {}
  },
  {
   "cell_type": "code",
   "execution_count": null,
   "metadata": {},
   "outputs": [],
   "source": [
    "param_grid = {\n",
    "    'n_neighbors': [9, 30, 50],\n",
    "    'weights': ['distance','uniform'],\n",
    "    'metric': ['euclidean']\n",
    "    }\n",
    "\n",
    "knn_model = KNeighborsClassifier()\n",
    "knn_grid_search = GridSearchCV(knn_model, param_grid=param_grid, scoring=scoring_metrics, cv = 2, refit='f1_deceased', n_jobs = -1, verbose = -1)\n",
    "knn_grid_search.fit(training_data, training_truth)"
   ]
  },
  {
   "cell_type": "code",
   "execution_count": null,
   "metadata": {},
   "outputs": [],
   "source": [
    "\n",
    "knn_results = pd.DataFrame(knn_grid_search.cv_results_)[['param_n_neighbors', 'param_weights', 'param_metric', 'mean_test_f1_deceased', 'rank_test_f1_deceased', 'mean_test_recall_deceased', 'mean_test_overall_accuracy', 'mean_test_overall_recall']]\n",
    "\n",
    "# print(knn_grid_search.best_score_)\n",
    "# knn_results.to_csv('../results/smote_knn.csv', index=False)\n",
    "\n",
    "# Save as a csv file\n",
    "knn_results.to_csv('../results/knn_params.csv')\n",
    "knn_results"
   ]
  },
  {
   "source": [
    "## 2. Random Forests Classifier"
   ],
   "cell_type": "markdown",
   "metadata": {}
  },
  {
   "cell_type": "code",
   "execution_count": 55,
   "metadata": {},
   "outputs": [],
   "source": [
    "#RF parameter grid\n",
    "rf_param_grid = {\n",
    "        'max_depth': [29, 30],\n",
    "        'n_estimators': [200, 250],\n",
    "        'max_features': [10, 12]\n",
    "        }"
   ]
  },
  {
   "cell_type": "code",
   "execution_count": 56,
   "metadata": {},
   "outputs": [
    {
     "output_type": "execute_result",
     "data": {
      "text/plain": [
       "GridSearchCV(cv=3, estimator=RandomForestClassifier(), n_jobs=-1,\n",
       "             param_grid={'max_depth': [29, 30], 'max_features': [10, 12],\n",
       "                         'n_estimators': [200, 250]},\n",
       "             refit='f1_deceased',\n",
       "             scoring={'f1_deceased': make_scorer(calc_deceasedF1),\n",
       "                      'overall_accuracy': make_scorer(accuracy_score),\n",
       "                      'overall_recall': make_scorer(recall_score, average=macro),\n",
       "                      'recall_deceased': make_scorer(calc_deceasedRecall)})"
      ]
     },
     "metadata": {},
     "execution_count": 56
    }
   ],
   "source": [
    "rf_model = RandomForestClassifier()\n",
    "rf_grid_search = GridSearchCV(rf_model, param_grid = rf_param_grid, scoring = scoring_metrics, cv = 3, refit = 'f1_deceased', n_jobs = -1)\n",
    "rf_grid_search.fit(training_data, training_truth)"
   ]
  },
  {
   "cell_type": "code",
   "execution_count": 67,
   "metadata": {},
   "outputs": [
    {
     "output_type": "execute_result",
     "data": {
      "text/plain": [
       "  param_max_depth param_n_estimators param_max_features  \\\n",
       "0              29                200                 10   \n",
       "1              29                250                 10   \n",
       "2              29                200                 12   \n",
       "3              29                250                 12   \n",
       "4              30                200                 10   \n",
       "5              30                250                 10   \n",
       "6              30                200                 12   \n",
       "7              30                250                 12   \n",
       "\n",
       "   mean_test_f1_deceased  rank_test_f1_deceased  mean_test_recall_deceased  \\\n",
       "0               0.746093                      1                   0.799922   \n",
       "1               0.746018                      2                   0.799563   \n",
       "2               0.745096                      8                   0.797787   \n",
       "3               0.745856                      3                   0.799638   \n",
       "4               0.745638                      4                   0.798304   \n",
       "5               0.745595                      6                   0.798187   \n",
       "6               0.745363                      7                   0.796420   \n",
       "7               0.745610                      5                   0.798045   \n",
       "\n",
       "   mean_test_overall_accuracy  mean_test_overall_recall  \n",
       "0                    0.788746                  0.788746  \n",
       "1                    0.788650                  0.788650  \n",
       "2                    0.788444                  0.788444  \n",
       "3                    0.788688                  0.788688  \n",
       "4                    0.788679                  0.788679  \n",
       "5                    0.788621                  0.788621  \n",
       "6                    0.788525                  0.788525  \n",
       "7                    0.788563                  0.788563  "
      ],
      "text/html": "<div>\n<style scoped>\n    .dataframe tbody tr th:only-of-type {\n        vertical-align: middle;\n    }\n\n    .dataframe tbody tr th {\n        vertical-align: top;\n    }\n\n    .dataframe thead th {\n        text-align: right;\n    }\n</style>\n<table border=\"1\" class=\"dataframe\">\n  <thead>\n    <tr style=\"text-align: right;\">\n      <th></th>\n      <th>param_max_depth</th>\n      <th>param_n_estimators</th>\n      <th>param_max_features</th>\n      <th>mean_test_f1_deceased</th>\n      <th>rank_test_f1_deceased</th>\n      <th>mean_test_recall_deceased</th>\n      <th>mean_test_overall_accuracy</th>\n      <th>mean_test_overall_recall</th>\n    </tr>\n  </thead>\n  <tbody>\n    <tr>\n      <th>0</th>\n      <td>29</td>\n      <td>200</td>\n      <td>10</td>\n      <td>0.746093</td>\n      <td>1</td>\n      <td>0.799922</td>\n      <td>0.788746</td>\n      <td>0.788746</td>\n    </tr>\n    <tr>\n      <th>1</th>\n      <td>29</td>\n      <td>250</td>\n      <td>10</td>\n      <td>0.746018</td>\n      <td>2</td>\n      <td>0.799563</td>\n      <td>0.788650</td>\n      <td>0.788650</td>\n    </tr>\n    <tr>\n      <th>2</th>\n      <td>29</td>\n      <td>200</td>\n      <td>12</td>\n      <td>0.745096</td>\n      <td>8</td>\n      <td>0.797787</td>\n      <td>0.788444</td>\n      <td>0.788444</td>\n    </tr>\n    <tr>\n      <th>3</th>\n      <td>29</td>\n      <td>250</td>\n      <td>12</td>\n      <td>0.745856</td>\n      <td>3</td>\n      <td>0.799638</td>\n      <td>0.788688</td>\n      <td>0.788688</td>\n    </tr>\n    <tr>\n      <th>4</th>\n      <td>30</td>\n      <td>200</td>\n      <td>10</td>\n      <td>0.745638</td>\n      <td>4</td>\n      <td>0.798304</td>\n      <td>0.788679</td>\n      <td>0.788679</td>\n    </tr>\n    <tr>\n      <th>5</th>\n      <td>30</td>\n      <td>250</td>\n      <td>10</td>\n      <td>0.745595</td>\n      <td>6</td>\n      <td>0.798187</td>\n      <td>0.788621</td>\n      <td>0.788621</td>\n    </tr>\n    <tr>\n      <th>6</th>\n      <td>30</td>\n      <td>200</td>\n      <td>12</td>\n      <td>0.745363</td>\n      <td>7</td>\n      <td>0.796420</td>\n      <td>0.788525</td>\n      <td>0.788525</td>\n    </tr>\n    <tr>\n      <th>7</th>\n      <td>30</td>\n      <td>250</td>\n      <td>12</td>\n      <td>0.745610</td>\n      <td>5</td>\n      <td>0.798045</td>\n      <td>0.788563</td>\n      <td>0.788563</td>\n    </tr>\n  </tbody>\n</table>\n</div>"
     },
     "metadata": {},
     "execution_count": 67
    }
   ],
   "source": [
    "rf_results = pd.DataFrame(rf_grid_search.cv_results_)[['param_max_depth', 'param_n_estimators', 'param_max_features', 'mean_test_f1_deceased', 'rank_test_f1_deceased', 'mean_test_recall_deceased', 'mean_test_overall_accuracy', 'mean_test_overall_recall']]\n",
    "# Save as a csv file\n",
    "rf_results.to_csv('../results/rf_params.csv')\n",
    "rf_results"
   ]
  },
  {
   "source": [
    "## 3. LightGBM Classifier"
   ],
   "cell_type": "markdown",
   "metadata": {}
  },
  {
   "cell_type": "code",
   "execution_count": 38,
   "metadata": {},
   "outputs": [],
   "source": [
    "#Parameter grid for LGBM\n",
    "param_grid = {\n",
    "    'num_leaves': [60,90,120],\n",
    "    'n_estimators': [100,200,300],\n",
    "    'min_data_in_leaf': [60,80]\n",
    "    }\n",
    "    # took 1.5 hours"
   ]
  },
  {
   "cell_type": "code",
   "execution_count": 39,
   "metadata": {},
   "outputs": [
    {
     "output_type": "stream",
     "name": "stdout",
     "text": [
      "[LightGBM] [Warning] min_data_in_leaf is set=60, min_child_samples=20 will be ignored. Current value: min_data_in_leaf=60\n"
     ]
    },
    {
     "output_type": "execute_result",
     "data": {
      "text/plain": [
       "GridSearchCV(cv=3, estimator=LGBMClassifier(), n_jobs=-1,\n",
       "             param_grid={'min_data_in_leaf': [60, 80],\n",
       "                         'n_estimators': [100, 200, 300],\n",
       "                         'num_leaves': [60, 90, 120]},\n",
       "             refit='f1_deceased',\n",
       "             scoring={'f1_deceased': make_scorer(calc_deceasedF1),\n",
       "                      'overall_accuracy': make_scorer(accuracy_score),\n",
       "                      'overall_recall': make_scorer(recall_score, average=macro),\n",
       "                      'recall_deceased': make_scorer(calc_deceasedRecall)},\n",
       "             verbose=-1)"
      ]
     },
     "metadata": {},
     "execution_count": 39
    }
   ],
   "source": [
    "lgb_model = lgb.LGBMClassifier()\n",
    "lgb_grid_search = GridSearchCV(lgb_model, param_grid=param_grid, scoring=scoring_metrics, cv=3, n_jobs=-1, refit='f1_deceased',verbose=-1)\n",
    "lgb_grid_search.fit(training_data, training_truth)"
   ]
  },
  {
   "cell_type": "code",
   "execution_count": 70,
   "metadata": {},
   "outputs": [
    {
     "output_type": "execute_result",
     "data": {
      "text/plain": [
       "   param_num_leaves param_n_estimators param_min_data_in_leaf  \\\n",
       "0                60                100                     60   \n",
       "1                90                100                     60   \n",
       "2               120                100                     60   \n",
       "3                60                200                     60   \n",
       "4                90                200                     60   \n",
       "5               120                200                     60   \n",
       "6                60                300                     60   \n",
       "7                90                300                     60   \n",
       "8               120                300                     60   \n",
       "9                60                100                     80   \n",
       "10               90                100                     80   \n",
       "11              120                100                     80   \n",
       "12               60                200                     80   \n",
       "13               90                200                     80   \n",
       "14              120                200                     80   \n",
       "15               60                300                     80   \n",
       "16               90                300                     80   \n",
       "17              120                300                     80   \n",
       "\n",
       "    mean_test_f1_deceased  rank_test_f1_deceased  mean_test_recall_deceased  \\\n",
       "0                0.736306                     17                   0.774540   \n",
       "1                0.748635                     15                   0.793109   \n",
       "2                0.756528                     11                   0.797737   \n",
       "3                0.756363                     12                   0.796495   \n",
       "4                0.761691                      9                   0.804341   \n",
       "5                0.764905                      5                   0.804816   \n",
       "6                0.761737                      8                   0.800188   \n",
       "7                0.766705                      3                   0.811996   \n",
       "8                0.769125                      1                   0.811045   \n",
       "9                0.735540                     18                   0.770095   \n",
       "10               0.747396                     16                   0.791133   \n",
       "11               0.754094                     14                   0.793376   \n",
       "12               0.755945                     13                   0.792634   \n",
       "13               0.760496                     10                   0.801147   \n",
       "14               0.764197                      6                   0.801539   \n",
       "15               0.761870                      7                   0.801831   \n",
       "16               0.766398                      4                   0.805558   \n",
       "17               0.768025                      2                   0.809019   \n",
       "\n",
       "    mean_test_overall_accuracy  mean_test_overall_recall  \n",
       "0                     0.781033                  0.781033  \n",
       "1                     0.789301                  0.789301  \n",
       "2                     0.794746                  0.794746  \n",
       "3                     0.794668                  0.794668  \n",
       "4                     0.799311                  0.799311  \n",
       "5                     0.802513                  0.802513  \n",
       "6                     0.799388                  0.799388  \n",
       "7                     0.803784                  0.803784  \n",
       "8                     0.805519                  0.805519  \n",
       "9                     0.779726                  0.779726  \n",
       "10                    0.788575                  0.788575  \n",
       "11                    0.793678                  0.793678  \n",
       "12                    0.794114                  0.794114  \n",
       "13                    0.798992                  0.798992  \n",
       "14                    0.801723                  0.801723  \n",
       "15                    0.799086                  0.799086  \n",
       "16                    0.803157                  0.803157  \n",
       "17                    0.804837                  0.804837  "
      ],
      "text/html": "<div>\n<style scoped>\n    .dataframe tbody tr th:only-of-type {\n        vertical-align: middle;\n    }\n\n    .dataframe tbody tr th {\n        vertical-align: top;\n    }\n\n    .dataframe thead th {\n        text-align: right;\n    }\n</style>\n<table border=\"1\" class=\"dataframe\">\n  <thead>\n    <tr style=\"text-align: right;\">\n      <th></th>\n      <th>param_num_leaves</th>\n      <th>param_n_estimators</th>\n      <th>param_min_data_in_leaf</th>\n      <th>mean_test_f1_deceased</th>\n      <th>rank_test_f1_deceased</th>\n      <th>mean_test_recall_deceased</th>\n      <th>mean_test_overall_accuracy</th>\n      <th>mean_test_overall_recall</th>\n    </tr>\n  </thead>\n  <tbody>\n    <tr>\n      <th>0</th>\n      <td>60</td>\n      <td>100</td>\n      <td>60</td>\n      <td>0.736306</td>\n      <td>17</td>\n      <td>0.774540</td>\n      <td>0.781033</td>\n      <td>0.781033</td>\n    </tr>\n    <tr>\n      <th>1</th>\n      <td>90</td>\n      <td>100</td>\n      <td>60</td>\n      <td>0.748635</td>\n      <td>15</td>\n      <td>0.793109</td>\n      <td>0.789301</td>\n      <td>0.789301</td>\n    </tr>\n    <tr>\n      <th>2</th>\n      <td>120</td>\n      <td>100</td>\n      <td>60</td>\n      <td>0.756528</td>\n      <td>11</td>\n      <td>0.797737</td>\n      <td>0.794746</td>\n      <td>0.794746</td>\n    </tr>\n    <tr>\n      <th>3</th>\n      <td>60</td>\n      <td>200</td>\n      <td>60</td>\n      <td>0.756363</td>\n      <td>12</td>\n      <td>0.796495</td>\n      <td>0.794668</td>\n      <td>0.794668</td>\n    </tr>\n    <tr>\n      <th>4</th>\n      <td>90</td>\n      <td>200</td>\n      <td>60</td>\n      <td>0.761691</td>\n      <td>9</td>\n      <td>0.804341</td>\n      <td>0.799311</td>\n      <td>0.799311</td>\n    </tr>\n    <tr>\n      <th>5</th>\n      <td>120</td>\n      <td>200</td>\n      <td>60</td>\n      <td>0.764905</td>\n      <td>5</td>\n      <td>0.804816</td>\n      <td>0.802513</td>\n      <td>0.802513</td>\n    </tr>\n    <tr>\n      <th>6</th>\n      <td>60</td>\n      <td>300</td>\n      <td>60</td>\n      <td>0.761737</td>\n      <td>8</td>\n      <td>0.800188</td>\n      <td>0.799388</td>\n      <td>0.799388</td>\n    </tr>\n    <tr>\n      <th>7</th>\n      <td>90</td>\n      <td>300</td>\n      <td>60</td>\n      <td>0.766705</td>\n      <td>3</td>\n      <td>0.811996</td>\n      <td>0.803784</td>\n      <td>0.803784</td>\n    </tr>\n    <tr>\n      <th>8</th>\n      <td>120</td>\n      <td>300</td>\n      <td>60</td>\n      <td>0.769125</td>\n      <td>1</td>\n      <td>0.811045</td>\n      <td>0.805519</td>\n      <td>0.805519</td>\n    </tr>\n    <tr>\n      <th>9</th>\n      <td>60</td>\n      <td>100</td>\n      <td>80</td>\n      <td>0.735540</td>\n      <td>18</td>\n      <td>0.770095</td>\n      <td>0.779726</td>\n      <td>0.779726</td>\n    </tr>\n    <tr>\n      <th>10</th>\n      <td>90</td>\n      <td>100</td>\n      <td>80</td>\n      <td>0.747396</td>\n      <td>16</td>\n      <td>0.791133</td>\n      <td>0.788575</td>\n      <td>0.788575</td>\n    </tr>\n    <tr>\n      <th>11</th>\n      <td>120</td>\n      <td>100</td>\n      <td>80</td>\n      <td>0.754094</td>\n      <td>14</td>\n      <td>0.793376</td>\n      <td>0.793678</td>\n      <td>0.793678</td>\n    </tr>\n    <tr>\n      <th>12</th>\n      <td>60</td>\n      <td>200</td>\n      <td>80</td>\n      <td>0.755945</td>\n      <td>13</td>\n      <td>0.792634</td>\n      <td>0.794114</td>\n      <td>0.794114</td>\n    </tr>\n    <tr>\n      <th>13</th>\n      <td>90</td>\n      <td>200</td>\n      <td>80</td>\n      <td>0.760496</td>\n      <td>10</td>\n      <td>0.801147</td>\n      <td>0.798992</td>\n      <td>0.798992</td>\n    </tr>\n    <tr>\n      <th>14</th>\n      <td>120</td>\n      <td>200</td>\n      <td>80</td>\n      <td>0.764197</td>\n      <td>6</td>\n      <td>0.801539</td>\n      <td>0.801723</td>\n      <td>0.801723</td>\n    </tr>\n    <tr>\n      <th>15</th>\n      <td>60</td>\n      <td>300</td>\n      <td>80</td>\n      <td>0.761870</td>\n      <td>7</td>\n      <td>0.801831</td>\n      <td>0.799086</td>\n      <td>0.799086</td>\n    </tr>\n    <tr>\n      <th>16</th>\n      <td>90</td>\n      <td>300</td>\n      <td>80</td>\n      <td>0.766398</td>\n      <td>4</td>\n      <td>0.805558</td>\n      <td>0.803157</td>\n      <td>0.803157</td>\n    </tr>\n    <tr>\n      <th>17</th>\n      <td>120</td>\n      <td>300</td>\n      <td>80</td>\n      <td>0.768025</td>\n      <td>2</td>\n      <td>0.809019</td>\n      <td>0.804837</td>\n      <td>0.804837</td>\n    </tr>\n  </tbody>\n</table>\n</div>"
     },
     "metadata": {},
     "execution_count": 70
    }
   ],
   "source": [
    "# output the parameter variations and scores in a table\n",
    "lgbm_results = pd.DataFrame(lgb_grid_search.cv_results_)[['param_num_leaves', 'param_n_estimators', 'param_min_data_in_leaf','mean_test_f1_deceased', 'rank_test_f1_deceased','mean_test_recall_deceased', 'mean_test_overall_accuracy','mean_test_overall_recall']]\n",
    "# Save as a csv file\n",
    "lgbm_results.to_csv('../results/lgbm_params.csv')\n",
    "lgbm_results"
   ]
  },
  {
   "source": [
    "### Predicting on the models with the best parameters"
   ],
   "cell_type": "markdown",
   "metadata": {}
  },
  {
   "cell_type": "code",
   "execution_count": 124,
   "metadata": {},
   "outputs": [
    {
     "output_type": "execute_result",
     "data": {
      "text/plain": [
       "KNeighborsClassifier(metric='euclidean', n_neighbors=30, weights='distance')"
      ]
     },
     "metadata": {},
     "execution_count": 124
    }
   ],
   "source": [
    "best_knn = KNeighborsClassifier(n_neighbors = 30, weights = 'distance', metric = 'euclidean')\n",
    "best_knn.fit(training_data, training_truth)"
   ]
  },
  {
   "cell_type": "code",
   "execution_count": 125,
   "metadata": {},
   "outputs": [],
   "source": [
    "training_prediction = best_knn.predict(training_data)\n",
    "validation_prediction = best_knn.predict(validation_data)"
   ]
  },
  {
   "cell_type": "code",
   "execution_count": 127,
   "metadata": {},
   "outputs": [
    {
     "output_type": "stream",
     "name": "stdout",
     "text": [
      "K-Nearest Neighbours Model Predictions (Post-Hyperparameter Tuning):\n\nTRAINING\nAccuracy score: 0.79504\nClassification report: \n                  precision    recall  f1-score   support\n\n       deceased       0.69      0.78      0.73    119928\n   hospitalized       0.74      0.69      0.71    119928\nnonhospitalized       1.00      1.00      1.00    119928\n      recovered       0.76      0.71      0.74    119928\n\n       accuracy                           0.80    479712\n      macro avg       0.80      0.80      0.79    479712\n   weighted avg       0.80      0.80      0.79    479712\n\n\nVALIDATION\nAccuracy score: 0.79604\nClassification report: \n                  precision    recall  f1-score   support\n\n       deceased       0.06      0.54      0.10       913\n   hospitalized       0.85      0.66      0.75     24908\nnonhospitalized       0.99      0.98      0.99     30062\n      recovered       0.76      0.68      0.72     17643\n\n       accuracy                           0.80     73526\n      macro avg       0.67      0.72      0.64     73526\n   weighted avg       0.88      0.80      0.83     73526\n\n"
     ]
    }
   ],
   "source": [
    "training_accuracy = metrics.accuracy_score(training_prediction, training_truth)\n",
    "scores_training = metrics.classification_report(training_truth,training_prediction)\n",
    "validation_accuracy = metrics.accuracy_score(validation_prediction, validation_truth)\n",
    "scores_validation = metrics.classification_report(validation_truth,validation_prediction)\n",
    "print(\"K-Nearest Neighbours Model Predictions (Post-Hyperparameter Tuning):\\n\")\n",
    "\n",
    "print('TRAINING\\nAccuracy score: {0:0.5f}'.format(training_accuracy))\n",
    "print('Classification report: \\n',scores_training)\n",
    "print('\\nVALIDATION\\nAccuracy score: {0:0.5f}'.format(validation_accuracy))\n",
    "print('Classification report: \\n',scores_validation)"
   ]
  },
  {
   "cell_type": "code",
   "execution_count": 51,
   "metadata": {},
   "outputs": [
    {
     "output_type": "stream",
     "name": "stdout",
     "text": [
      "K-Nearest Neighbours Model Predictions:\n\nTRAINING\nAccuracy score: 0.78873\nClassification report: \n                  precision    recall  f1-score   support\n\n       deceased       0.69      0.78      0.73    119928\n   hospitalized       0.74      0.68      0.71    119928\nnonhospitalized       1.00      1.00      1.00    119928\n      recovered       0.74      0.70      0.72    119928\n\n       accuracy                           0.79    479712\n      macro avg       0.79      0.79      0.79    479712\n   weighted avg       0.79      0.79      0.79    479712\n\n\nVALIDATION\nAccuracy score: 0.79084\nClassification report: \n                  precision    recall  f1-score   support\n\n       deceased       0.05      0.49      0.09       913\n   hospitalized       0.85      0.66      0.74     24908\nnonhospitalized       0.99      0.99      0.99     30062\n      recovered       0.73      0.66      0.70     17643\n\n       accuracy                           0.79     73526\n      macro avg       0.66      0.70      0.63     73526\n   weighted avg       0.87      0.79      0.82     73526\n\n"
     ]
    }
   ],
   "source": [
    "training_accuracy = metrics.accuracy_score(training_prediction, training_truth)\n",
    "scores_training = metrics.classification_report(training_truth,training_prediction)\n",
    "validation_accuracy = metrics.accuracy_score(validation_prediction, validation_truth)\n",
    "scores_validation = metrics.classification_report(validation_truth,validation_prediction)\n",
    "print(\"K-Nearest Neighbours Model Predictions:\\n\")\n",
    "\n",
    "print('TRAINING\\nAccuracy score: {0:0.5f}'.format(training_accuracy))\n",
    "print('Classification report: \\n',scores_training)\n",
    "print('\\nVALIDATION\\nAccuracy score: {0:0.5f}'.format(validation_accuracy))\n",
    "print('Classification report: \\n',scores_validation)"
   ]
  },
  {
   "source": [
    "### Predicting on the models with the best parameters\n",
    "## TECHNICALLY WE DONT NEED THIS PART"
   ],
   "cell_type": "markdown",
   "metadata": {}
  },
  {
   "cell_type": "code",
   "execution_count": 61,
   "metadata": {},
   "outputs": [
    {
     "output_type": "execute_result",
     "data": {
      "text/plain": [
       "RandomForestClassifier(max_depth=29, max_features=10, n_estimators=200)"
      ]
     },
     "metadata": {},
     "execution_count": 61
    }
   ],
   "source": [
    "# Fit the model on the training dataset\n",
    "best_rf = RandomForestClassifier(max_depth=29, n_estimators=200, max_features=10)\n",
    "#fit_params={'feature_name': 'auto', 'categorical_feature': 'auto'}\n",
    "best_rf.fit(training_data, training_truth)"
   ]
  },
  {
   "cell_type": "code",
   "execution_count": 64,
   "metadata": {},
   "outputs": [],
   "source": [
    "# predict on the training data\n",
    "RF_training_prediction = best_rf.predict(training_data)\n",
    "#predict on the validation data\n",
    "RF_validation_prediction = best_rf.predict(validation_data)"
   ]
  },
  {
   "cell_type": "code",
   "execution_count": 65,
   "metadata": {},
   "outputs": [
    {
     "output_type": "stream",
     "name": "stdout",
     "text": [
      "Random Forest Model Predictions (Post-Hyperparameter Tuning):\n\nTRAINING\nAccuracy score: 0.82080\nClassification report: \n                  precision    recall  f1-score   support\n\n       deceased       0.76      0.81      0.78    119928\n   hospitalized       0.80      0.70      0.74    119928\nnonhospitalized       1.00      1.00      1.00    119928\n      recovered       0.74      0.77      0.75    119928\n\n       accuracy                           0.82    479712\n      macro avg       0.82      0.82      0.82    479712\n   weighted avg       0.82      0.82      0.82    479712\n\n\nVALIDATION\nAccuracy score: 0.81196\nClassification report: \n                  precision    recall  f1-score   support\n\n       deceased       0.06      0.45      0.11       913\n   hospitalized       0.85      0.68      0.76     24908\nnonhospitalized       0.99      0.99      0.99     30062\n      recovered       0.73      0.71      0.72     17643\n\n       accuracy                           0.81     73526\n      macro avg       0.66      0.71      0.65     73526\n   weighted avg       0.87      0.81      0.84     73526\n\n"
     ]
    }
   ],
   "source": [
    "training_accuracy = metrics.accuracy_score(RF_training_prediction, training_truth)\n",
    "scores_training = metrics.classification_report(training_truth,RF_training_prediction)\n",
    "validation_accuracy = metrics.accuracy_score(RF_validation_prediction, validation_truth)\n",
    "scores_validation = metrics.classification_report(validation_truth,RF_validation_prediction)\n",
    "print(\"Random Forest Model Predictions (Post-Hyperparameter Tuning):\\n\")\n",
    "\n",
    "print('TRAINING\\nAccuracy score: {0:0.5f}'.format(training_accuracy))\n",
    "print('Classification report: \\n',scores_training)\n",
    "print('\\nVALIDATION\\nAccuracy score: {0:0.5f}'.format(validation_accuracy))\n",
    "print('Classification report: \\n',scores_validation)"
   ]
  },
  {
   "cell_type": "code",
   "execution_count": null,
   "metadata": {},
   "outputs": [],
   "source": [
    "fig, ax = plt.subplots(figsize = (20, 15), nrows = 1, ncols = 2) \n",
    "metrics.plot_confusion_matrix(best_rf, training_data, training_truth, cmap = plt.cm.Blues, ax = ax[0], values_format = '.6g') \n",
    "ax[0].set_title('RF - Confusion Matrix of Training Data')\n",
    "metrics.plot_confusion_matrix(best_rf, validation_data, validation_truth, cmap = plt.cm.Blues, ax = ax[1], values_format = '.6g') \n",
    "ax[1].set_title('RF - Confusion Matrix of Validation Data')\n",
    "\n",
    "# figure settings\n",
    "fig.tight_layout()\n",
    "fig.subplots_adjust(top=0.4)\n",
    "fig.subplots_adjust(right=0.9)\n",
    "#fig.savefig('../plots/lgbm_cm.png', bbox_inches='tight', pad_inches=0.3)"
   ]
  },
  {
   "source": [
    "### Create and fit the LightGBM Classifier on the best parameters and record the scores"
   ],
   "cell_type": "markdown",
   "metadata": {}
  },
  {
   "cell_type": "code",
   "execution_count": 308,
   "metadata": {},
   "outputs": [
    {
     "output_type": "stream",
     "name": "stdout",
     "text": [
      "[LightGBM] [Warning] min_data_in_leaf is set=60, min_child_samples=20 will be ignored. Current value: min_data_in_leaf=60\n"
     ]
    },
    {
     "output_type": "execute_result",
     "data": {
      "text/plain": [
       "LGBMClassifier(min_data_in_leaf=60, n_estimators=300, num_leaves=120)"
      ]
     },
     "metadata": {},
     "execution_count": 308
    }
   ],
   "source": [
    "# Fit the model on the training dataset\n",
    "best_lgbm = lgb.LGBMClassifier(num_leaves = 120, n_estimators=300,min_data_in_leaf=60)\n",
    "#fit_params={'feature_name': 'auto', 'categorical_feature': 'auto'}\n",
    "best_lgbm.fit(training_data, training_truth)"
   ]
  },
  {
   "cell_type": "code",
   "execution_count": 157,
   "metadata": {},
   "outputs": [],
   "source": [
    "# predict on the training data\n",
    "training_prediction = best_lgbm.predict(training_data)\n",
    "#predict on the validation data\n",
    "validation_prediction = best_lgbm.predict(validation_data)"
   ]
  },
  {
   "source": [
    "### 3.2 Evaluating the model\n",
    "*The metrics used to evaluate the model are the Accuracy score, Precision, Recall, F1-score, and the support count.*"
   ],
   "cell_type": "markdown",
   "metadata": {}
  },
  {
   "cell_type": "code",
   "execution_count": 102,
   "metadata": {},
   "outputs": [
    {
     "output_type": "stream",
     "name": "stdout",
     "text": [
      "LightGBM Model Predictions (Post-Hyperparameter Tuning):\n\nTRAINING\nAccuracy score: 0.82156\nClassification report: \n                  precision    recall  f1-score   support\n\n       deceased       0.76      0.81      0.79    119928\n   hospitalized       0.79      0.71      0.75    119928\nnonhospitalized       1.00      1.00      1.00    119928\n      recovered       0.74      0.77      0.75    119928\n\n       accuracy                           0.82    479712\n      macro avg       0.82      0.82      0.82    479712\n   weighted avg       0.82      0.82      0.82    479712\n\n\nVALIDATION\nAccuracy score: 0.82590\nClassification report: \n                  precision    recall  f1-score   support\n\n       deceased       0.07      0.43      0.12       913\n   hospitalized       0.86      0.71      0.78     24908\nnonhospitalized       0.99      0.99      0.99     30062\n      recovered       0.74      0.73      0.74     17643\n\n       accuracy                           0.83     73526\n      macro avg       0.67      0.72      0.66     73526\n   weighted avg       0.88      0.83      0.85     73526\n\n"
     ]
    }
   ],
   "source": [
    "# SMOTE\n",
    "training_accuracy = metrics.accuracy_score(training_prediction, training_truth)\n",
    "scores_training = metrics.classification_report(training_truth,training_prediction)\n",
    "validation_accuracy = metrics.accuracy_score(validation_prediction, validation_truth)\n",
    "scores_validation = metrics.classification_report(validation_truth,validation_prediction)\n",
    "print(\"LightGBM Model Predictions (Post-Hyperparameter Tuning):\\n\")\n",
    "print('TRAINING\\nAccuracy score: {0:0.5f}'.format(training_accuracy))\n",
    "print('Classification report: \\n',scores_training)\n",
    "print('\\nVALIDATION\\nAccuracy score: {0:0.5f}'.format(validation_accuracy))\n",
    "print('Classification report: \\n',scores_validation)\n",
    "# lgb.LGBMClassifier(num_leaves = 120, n_estimators=300,min_data_in_leaf=60)\n"
   ]
  },
  {
   "cell_type": "code",
   "execution_count": 326,
   "metadata": {},
   "outputs": [
    {
     "output_type": "stream",
     "name": "stdout",
     "text": [
      "[LightGBM] [Warning] min_data_in_leaf is set=60, min_child_samples=20 will be ignored. Current value: min_data_in_leaf=60\n",
      "LightGBM Model Predictions (Post-Hyperparameter Tuning):\n",
      "\n",
      "TRAINING\n",
      "Accuracy score: 0.87634\n",
      "Classification report: \n",
      "                  precision    recall  f1-score   support\n",
      "\n",
      "       deceased       0.95      0.32      0.47      6000\n",
      "   hospitalized       0.82      0.82      0.82    109000\n",
      "nonhospitalized       1.00      1.00      1.00    119928\n",
      "      recovered       0.79      0.83      0.81    100500\n",
      "\n",
      "       accuracy                           0.88    335428\n",
      "      macro avg       0.89      0.74      0.78    335428\n",
      "   weighted avg       0.88      0.88      0.87    335428\n",
      "\n",
      "\n",
      "VALIDATION\n",
      "Accuracy score: 0.87107\n",
      "Classification report: \n",
      "                  precision    recall  f1-score   support\n",
      "\n",
      "       deceased       0.57      0.12      0.20       913\n",
      "   hospitalized       0.83      0.82      0.82     24908\n",
      "nonhospitalized       0.99      0.99      0.99     30062\n",
      "      recovered       0.73      0.78      0.76     17643\n",
      "\n",
      "       accuracy                           0.87     73526\n",
      "      macro avg       0.78      0.68      0.69     73526\n",
      "   weighted avg       0.87      0.87      0.87     73526\n",
      "\n"
     ]
    }
   ],
   "source": [
    "### TRIAL\n",
    "\n",
    "best_lgbm.fit(train_d, train_t)\n",
    "#  predict on the training data\n",
    "training_p = best_lgbm.predict(train_d)\n",
    "#predict on the validation data\n",
    "validation_p = best_lgbm.predict(validation_data)\n",
    "# SMOTE on deceased and recovered\n",
    "training_accuracy = metrics.accuracy_score(training_p, train_t)\n",
    "scores_training = metrics.classification_report(train_t,training_p)\n",
    "validation_accuracy = metrics.accuracy_score(validation_p, validation_truth)\n",
    "scores_validation = metrics.classification_report(validation_truth,validation_p)\n",
    "print(\"LightGBM Model Predictions (Post-Hyperparameter Tuning):\\n\")\n",
    "print('TRAINING\\nAccuracy score: {0:0.5f}'.format(training_accuracy))\n",
    "print('Classification report: \\n',scores_training)\n",
    "print('\\nVALIDATION\\nAccuracy score: {0:0.5f}'.format(validation_accuracy))\n",
    "print('Classification report: \\n',scores_validation)\n",
    "# lgb.LGBMClassifier(num_leaves = 120, n_estimators=300,min_data_in_leaf=60)\n",
    "\n",
    "# with about 10 values from age column changed to '35'"
   ]
  },
  {
   "cell_type": "code",
   "execution_count": null,
   "metadata": {},
   "outputs": [],
   "source": [
    "deceased = 6000\n",
    "precision = 58%\n",
    "recall = 13%\n",
    "f1 = 21%"
   ]
  },
  {
   "source": [
    "*Also created a confusion matrix to provide a good insight to the predictions.*"
   ],
   "cell_type": "markdown",
   "metadata": {}
  },
  {
   "cell_type": "code",
   "execution_count": 103,
   "metadata": {},
   "outputs": [
    {
     "output_type": "display_data",
     "data": {
      "text/plain": "<Figure size 1440x1080 with 4 Axes>",
      "image/svg+xml": "<?xml version=\"1.0\" encoding=\"utf-8\" standalone=\"no\"?>\n<!DOCTYPE svg PUBLIC \"-//W3C//DTD SVG 1.1//EN\"\n  \"http://www.w3.org/Graphics/SVG/1.1/DTD/svg11.dtd\">\n<!-- Created with matplotlib (https://matplotlib.org/) -->\n<svg height=\"475.074375pt\" version=\"1.1\" viewBox=\"0 0 1262.725771 475.074375\" width=\"1262.725771pt\" xmlns=\"http://www.w3.org/2000/svg\" xmlns:xlink=\"http://www.w3.org/1999/xlink\">\n <defs>\n  <style type=\"text/css\">\n*{stroke-linecap:butt;stroke-linejoin:round;}\n  </style>\n </defs>\n <g id=\"figure_1\">\n  <g id=\"patch_1\">\n   <path d=\"M 0 475.074375 \nL 1262.725771 475.074375 \nL 1262.725771 0 \nL 0 0 \nz\n\" style=\"fill:none;\"/>\n  </g>\n  <g id=\"axes_1\">\n   <g id=\"patch_2\">\n    <path d=\"M 106.81875 437.518125 \nL 522.01875 437.518125 \nL 522.01875 22.318125 \nL 106.81875 22.318125 \nz\n\" style=\"fill:#ffffff;\"/>\n   </g>\n   <g clip-path=\"url(#p38da0577ff)\">\n    <image height=\"416\" id=\"image264cdd1e1c\" transform=\"scale(1 -1)translate(0 -416)\" width=\"416\" x=\"106.81875\" xlink:href=\"data:image/png;base64,\niVBORw0KGgoAAAANSUhEUgAAAaAAAAGgCAYAAADsNrNZAAAABHNCSVQICAgIfAhkiAAABmhJREFUeJzt16FNg1EYhlFKSgKKVLEBGxC2wLAGBsUcTboIrICsxoPANdTxC8TPBlfUPDScM8GbXPHcb/G+m+YT4CBXl+f1BAauH1/qCQyc1gMA+J8ECICEAAGQECAAEgIEQEKAAEgIEAAJAQIgIUAAJAQIgIQAAZAQIAASAgRAQoAASAgQAAkBAiAhQAAkBAiAhAABkBAgABICBEBCgABICBAACQECICFAACQECICEAAGQECAAEgIEQEKAAEgIEAAJAQIgIUAAJAQIgIQAAZAQIAASAgRAQoAASAgQAAkBAiAhQAAkBAiAhAABkBAgABICBEBCgABICBAACQECICFAACQECICEAAGQECAAEgIEQEKAAEgIEAAJAQIgIUAAJAQIgIQAAZAQIAASAgRAQoAASAgQAAkBAiAhQAAkBAiAhAABkBAgABICBEBCgABICBAACQECICFAACQECICEAAGQECAAEgIEQEKAAEgIEAAJAQIgIUAAJAQIgIQAAZAQIAASAgRAQoAASAgQAAkBAiAhQAAkBAiAhAABkBAgABICBEBCgABICBAACQECICFAACQECICEAAGQECAAEgIEQEKAAEgIEACJxfQzz/UIOFarm4d6AgP77aaewIALCICEAAGQECAAEgIEQEKAAEgIEAAJAQIgIUAAJAQIgIQAAZAQIAASAgRAQoAASAgQAAkBAiAhQAAkBAiAhAABkBAgABICBEBCgABICBAACQECICFAACQECICEAAGQECAAEgIEQEKAAEgIEAAJAQIgIUAAJAQIgIQAAZAQIAASAgRAQoAASAgQAAkBAiAhQAAkBAiAhAABkBAgABICBEBCgABICBAACQECICFAACQECICEAAGQECAAEgIEQEKAAEgIEAAJAQIgIUAAJAQIgIQAAZAQIAASAgRAQoAASAgQAAkBAiAhQAAkBAiAhAABkBAgABICBEBCgABICBAACQECICFAACQECICEAAGQECAAEgIEQEKAAEgIEAAJAQIgIUAAJAQIgIQAAZAQIAASAgRAQoAASAgQAAkBAiAhQAAkBAiAhAABkBAgABICBEBCgABICBAACQECICFAACQECICEAAGQECAAEgIEQEKAAEgIEAAJAQIgsfz8muoNDNytX+sJDOy3m3oCAx+773oCAy4gABICBEBCgABICBAACQECICFAACQECICEAAGQECAAEgIEQEKAAEgIEAAJAQIgIUAAJAQIgIQAAZAQIAASAgRAQoAASAgQAAkBAiAhQAAkBAiAhAABkBAgABICBEBCgABICBAACQECICFAACQECICEAAGQECAAEgIEQEKAAEgIEAAJAQIgIUAAJAQIgIQAAZAQIAASAgRAQoAASAgQAAkBAiAhQAAkBAiAhAABkBAgABICBEBCgABICBAACQECICFAACQECICEAAGQECAAEgIEQEKAAEgIEAAJAQIgIUAAJAQIgIQAAZAQIAASAgRAQoAASAgQAAkBAiAhQAAkBAiAhAABkBAgABICBEBCgABICBAACQECICFAACQECICEAAGQECAAEgIEQEKAAEgIEAAJAQIgIUAAJAQIgIQAAZAQIAASAgRAQoAASAgQAAkBAiAhQAAkBAiAhAABkBAgABICBEBCgABICBAACQECICFAACQECIDE8vbpud7AwNv6vp4AR+vizB/7L/M6ACQECICEAAGQECAAEgIEQEKAAEgIEAAJAQIgIUAAJAQIgIQAAZAQIAASAgRAQoAASAgQAAkBAiAhQAAkBAiAhAABkBAgABICBEBCgABICBAACQECICFAACQECICEAAGQECAAEgIEQEKAAEgIEAAJAQIgIUAAJAQIgIQAAZAQIAASAgRAQoAASAgQAAkBAiAhQAAkBAiAhAABkBAgABICBEBCgABICBAACQECICFAACQECICEAAGQECAAEgIEQEKAAEgIEAAJAQIgIUAAJAQIgIQAAZAQIAASAgRAQoAASAgQAAkBAiAhQAAkBAiAhAABkBAgABICBEBCgABICBAACQECICFAACQECICEAAGQECAAEgIEQEKAAEgIEAAJAQIgIUAAJAQIgIQAAZAQIAASAgRAQoAASAgQAAkBAiAhQAAkBAiAhAABkBAgABICBEBCgABICBAACQECICFAACQECICEAAGQECAAEgIEQEKAAEgIEACJX8fNHBHvqu7ZAAAAAElFTkSuQmCC\" y=\"-21.518125\"/>\n   </g>\n   <g id=\"matplotlib.axis_1\">\n    <g id=\"xtick_1\">\n     <g id=\"line2d_1\">\n      <defs>\n       <path d=\"M 0 0 \nL 0 3.5 \n\" id=\"m2ff9996a3a\" style=\"stroke:#000000;stroke-width:0.8;\"/>\n      </defs>\n      <g>\n       <use style=\"stroke:#000000;stroke-width:0.8;\" x=\"158.71875\" xlink:href=\"#m2ff9996a3a\" y=\"437.518125\"/>\n      </g>\n     </g>\n     <g id=\"text_1\">\n      <!-- deceased -->\n      <defs>\n       <path d=\"M 45.40625 46.390625 \nL 45.40625 75.984375 \nL 54.390625 75.984375 \nL 54.390625 0 \nL 45.40625 0 \nL 45.40625 8.203125 \nQ 42.578125 3.328125 38.25 0.953125 \nQ 33.9375 -1.421875 27.875 -1.421875 \nQ 17.96875 -1.421875 11.734375 6.484375 \nQ 5.515625 14.40625 5.515625 27.296875 \nQ 5.515625 40.1875 11.734375 48.09375 \nQ 17.96875 56 27.875 56 \nQ 33.9375 56 38.25 53.625 \nQ 42.578125 51.265625 45.40625 46.390625 \nz\nM 14.796875 27.296875 \nQ 14.796875 17.390625 18.875 11.75 \nQ 22.953125 6.109375 30.078125 6.109375 \nQ 37.203125 6.109375 41.296875 11.75 \nQ 45.40625 17.390625 45.40625 27.296875 \nQ 45.40625 37.203125 41.296875 42.84375 \nQ 37.203125 48.484375 30.078125 48.484375 \nQ 22.953125 48.484375 18.875 42.84375 \nQ 14.796875 37.203125 14.796875 27.296875 \nz\n\" id=\"DejaVuSans-100\"/>\n       <path d=\"M 56.203125 29.59375 \nL 56.203125 25.203125 \nL 14.890625 25.203125 \nQ 15.484375 15.921875 20.484375 11.0625 \nQ 25.484375 6.203125 34.421875 6.203125 \nQ 39.59375 6.203125 44.453125 7.46875 \nQ 49.3125 8.734375 54.109375 11.28125 \nL 54.109375 2.78125 \nQ 49.265625 0.734375 44.1875 -0.34375 \nQ 39.109375 -1.421875 33.890625 -1.421875 \nQ 20.796875 -1.421875 13.15625 6.1875 \nQ 5.515625 13.8125 5.515625 26.8125 \nQ 5.515625 40.234375 12.765625 48.109375 \nQ 20.015625 56 32.328125 56 \nQ 43.359375 56 49.78125 48.890625 \nQ 56.203125 41.796875 56.203125 29.59375 \nz\nM 47.21875 32.234375 \nQ 47.125 39.59375 43.09375 43.984375 \nQ 39.0625 48.390625 32.421875 48.390625 \nQ 24.90625 48.390625 20.390625 44.140625 \nQ 15.875 39.890625 15.1875 32.171875 \nz\n\" id=\"DejaVuSans-101\"/>\n       <path d=\"M 48.78125 52.59375 \nL 48.78125 44.1875 \nQ 44.96875 46.296875 41.140625 47.34375 \nQ 37.3125 48.390625 33.40625 48.390625 \nQ 24.65625 48.390625 19.8125 42.84375 \nQ 14.984375 37.3125 14.984375 27.296875 \nQ 14.984375 17.28125 19.8125 11.734375 \nQ 24.65625 6.203125 33.40625 6.203125 \nQ 37.3125 6.203125 41.140625 7.25 \nQ 44.96875 8.296875 48.78125 10.40625 \nL 48.78125 2.09375 \nQ 45.015625 0.34375 40.984375 -0.53125 \nQ 36.96875 -1.421875 32.421875 -1.421875 \nQ 20.0625 -1.421875 12.78125 6.34375 \nQ 5.515625 14.109375 5.515625 27.296875 \nQ 5.515625 40.671875 12.859375 48.328125 \nQ 20.21875 56 33.015625 56 \nQ 37.15625 56 41.109375 55.140625 \nQ 45.0625 54.296875 48.78125 52.59375 \nz\n\" id=\"DejaVuSans-99\"/>\n       <path d=\"M 34.28125 27.484375 \nQ 23.390625 27.484375 19.1875 25 \nQ 14.984375 22.515625 14.984375 16.5 \nQ 14.984375 11.71875 18.140625 8.90625 \nQ 21.296875 6.109375 26.703125 6.109375 \nQ 34.1875 6.109375 38.703125 11.40625 \nQ 43.21875 16.703125 43.21875 25.484375 \nL 43.21875 27.484375 \nz\nM 52.203125 31.203125 \nL 52.203125 0 \nL 43.21875 0 \nL 43.21875 8.296875 \nQ 40.140625 3.328125 35.546875 0.953125 \nQ 30.953125 -1.421875 24.3125 -1.421875 \nQ 15.921875 -1.421875 10.953125 3.296875 \nQ 6 8.015625 6 15.921875 \nQ 6 25.140625 12.171875 29.828125 \nQ 18.359375 34.515625 30.609375 34.515625 \nL 43.21875 34.515625 \nL 43.21875 35.40625 \nQ 43.21875 41.609375 39.140625 45 \nQ 35.0625 48.390625 27.6875 48.390625 \nQ 23 48.390625 18.546875 47.265625 \nQ 14.109375 46.140625 10.015625 43.890625 \nL 10.015625 52.203125 \nQ 14.9375 54.109375 19.578125 55.046875 \nQ 24.21875 56 28.609375 56 \nQ 40.484375 56 46.34375 49.84375 \nQ 52.203125 43.703125 52.203125 31.203125 \nz\n\" id=\"DejaVuSans-97\"/>\n       <path d=\"M 44.28125 53.078125 \nL 44.28125 44.578125 \nQ 40.484375 46.53125 36.375 47.5 \nQ 32.28125 48.484375 27.875 48.484375 \nQ 21.1875 48.484375 17.84375 46.4375 \nQ 14.5 44.390625 14.5 40.28125 \nQ 14.5 37.15625 16.890625 35.375 \nQ 19.28125 33.59375 26.515625 31.984375 \nL 29.59375 31.296875 \nQ 39.15625 29.25 43.1875 25.515625 \nQ 47.21875 21.78125 47.21875 15.09375 \nQ 47.21875 7.46875 41.1875 3.015625 \nQ 35.15625 -1.421875 24.609375 -1.421875 \nQ 20.21875 -1.421875 15.453125 -0.5625 \nQ 10.6875 0.296875 5.421875 2 \nL 5.421875 11.28125 \nQ 10.40625 8.6875 15.234375 7.390625 \nQ 20.0625 6.109375 24.8125 6.109375 \nQ 31.15625 6.109375 34.5625 8.28125 \nQ 37.984375 10.453125 37.984375 14.40625 \nQ 37.984375 18.0625 35.515625 20.015625 \nQ 33.0625 21.96875 24.703125 23.78125 \nL 21.578125 24.515625 \nQ 13.234375 26.265625 9.515625 29.90625 \nQ 5.8125 33.546875 5.8125 39.890625 \nQ 5.8125 47.609375 11.28125 51.796875 \nQ 16.75 56 26.8125 56 \nQ 31.78125 56 36.171875 55.265625 \nQ 40.578125 54.546875 44.28125 53.078125 \nz\n\" id=\"DejaVuSans-115\"/>\n      </defs>\n      <g transform=\"translate(134.722656 452.116563)scale(0.1 -0.1)\">\n       <use xlink:href=\"#DejaVuSans-100\"/>\n       <use x=\"63.476562\" xlink:href=\"#DejaVuSans-101\"/>\n       <use x=\"125\" xlink:href=\"#DejaVuSans-99\"/>\n       <use x=\"179.980469\" xlink:href=\"#DejaVuSans-101\"/>\n       <use x=\"241.503906\" xlink:href=\"#DejaVuSans-97\"/>\n       <use x=\"302.783203\" xlink:href=\"#DejaVuSans-115\"/>\n       <use x=\"354.882812\" xlink:href=\"#DejaVuSans-101\"/>\n       <use x=\"416.40625\" xlink:href=\"#DejaVuSans-100\"/>\n      </g>\n     </g>\n    </g>\n    <g id=\"xtick_2\">\n     <g id=\"line2d_2\">\n      <g>\n       <use style=\"stroke:#000000;stroke-width:0.8;\" x=\"262.51875\" xlink:href=\"#m2ff9996a3a\" y=\"437.518125\"/>\n      </g>\n     </g>\n     <g id=\"text_2\">\n      <!-- hospitalized -->\n      <defs>\n       <path d=\"M 54.890625 33.015625 \nL 54.890625 0 \nL 45.90625 0 \nL 45.90625 32.71875 \nQ 45.90625 40.484375 42.875 44.328125 \nQ 39.84375 48.1875 33.796875 48.1875 \nQ 26.515625 48.1875 22.3125 43.546875 \nQ 18.109375 38.921875 18.109375 30.90625 \nL 18.109375 0 \nL 9.078125 0 \nL 9.078125 75.984375 \nL 18.109375 75.984375 \nL 18.109375 46.1875 \nQ 21.34375 51.125 25.703125 53.5625 \nQ 30.078125 56 35.796875 56 \nQ 45.21875 56 50.046875 50.171875 \nQ 54.890625 44.34375 54.890625 33.015625 \nz\n\" id=\"DejaVuSans-104\"/>\n       <path d=\"M 30.609375 48.390625 \nQ 23.390625 48.390625 19.1875 42.75 \nQ 14.984375 37.109375 14.984375 27.296875 \nQ 14.984375 17.484375 19.15625 11.84375 \nQ 23.34375 6.203125 30.609375 6.203125 \nQ 37.796875 6.203125 41.984375 11.859375 \nQ 46.1875 17.53125 46.1875 27.296875 \nQ 46.1875 37.015625 41.984375 42.703125 \nQ 37.796875 48.390625 30.609375 48.390625 \nz\nM 30.609375 56 \nQ 42.328125 56 49.015625 48.375 \nQ 55.71875 40.765625 55.71875 27.296875 \nQ 55.71875 13.875 49.015625 6.21875 \nQ 42.328125 -1.421875 30.609375 -1.421875 \nQ 18.84375 -1.421875 12.171875 6.21875 \nQ 5.515625 13.875 5.515625 27.296875 \nQ 5.515625 40.765625 12.171875 48.375 \nQ 18.84375 56 30.609375 56 \nz\n\" id=\"DejaVuSans-111\"/>\n       <path d=\"M 18.109375 8.203125 \nL 18.109375 -20.796875 \nL 9.078125 -20.796875 \nL 9.078125 54.6875 \nL 18.109375 54.6875 \nL 18.109375 46.390625 \nQ 20.953125 51.265625 25.265625 53.625 \nQ 29.59375 56 35.59375 56 \nQ 45.5625 56 51.78125 48.09375 \nQ 58.015625 40.1875 58.015625 27.296875 \nQ 58.015625 14.40625 51.78125 6.484375 \nQ 45.5625 -1.421875 35.59375 -1.421875 \nQ 29.59375 -1.421875 25.265625 0.953125 \nQ 20.953125 3.328125 18.109375 8.203125 \nz\nM 48.6875 27.296875 \nQ 48.6875 37.203125 44.609375 42.84375 \nQ 40.53125 48.484375 33.40625 48.484375 \nQ 26.265625 48.484375 22.1875 42.84375 \nQ 18.109375 37.203125 18.109375 27.296875 \nQ 18.109375 17.390625 22.1875 11.75 \nQ 26.265625 6.109375 33.40625 6.109375 \nQ 40.53125 6.109375 44.609375 11.75 \nQ 48.6875 17.390625 48.6875 27.296875 \nz\n\" id=\"DejaVuSans-112\"/>\n       <path d=\"M 9.421875 54.6875 \nL 18.40625 54.6875 \nL 18.40625 0 \nL 9.421875 0 \nz\nM 9.421875 75.984375 \nL 18.40625 75.984375 \nL 18.40625 64.59375 \nL 9.421875 64.59375 \nz\n\" id=\"DejaVuSans-105\"/>\n       <path d=\"M 18.3125 70.21875 \nL 18.3125 54.6875 \nL 36.8125 54.6875 \nL 36.8125 47.703125 \nL 18.3125 47.703125 \nL 18.3125 18.015625 \nQ 18.3125 11.328125 20.140625 9.421875 \nQ 21.96875 7.515625 27.59375 7.515625 \nL 36.8125 7.515625 \nL 36.8125 0 \nL 27.59375 0 \nQ 17.1875 0 13.234375 3.875 \nQ 9.28125 7.765625 9.28125 18.015625 \nL 9.28125 47.703125 \nL 2.6875 47.703125 \nL 2.6875 54.6875 \nL 9.28125 54.6875 \nL 9.28125 70.21875 \nz\n\" id=\"DejaVuSans-116\"/>\n       <path d=\"M 9.421875 75.984375 \nL 18.40625 75.984375 \nL 18.40625 0 \nL 9.421875 0 \nz\n\" id=\"DejaVuSans-108\"/>\n       <path d=\"M 5.515625 54.6875 \nL 48.1875 54.6875 \nL 48.1875 46.484375 \nL 14.40625 7.171875 \nL 48.1875 7.171875 \nL 48.1875 0 \nL 4.296875 0 \nL 4.296875 8.203125 \nL 38.09375 47.515625 \nL 5.515625 47.515625 \nz\n\" id=\"DejaVuSans-122\"/>\n      </defs>\n      <g transform=\"translate(232.445313 452.116563)scale(0.1 -0.1)\">\n       <use xlink:href=\"#DejaVuSans-104\"/>\n       <use x=\"63.378906\" xlink:href=\"#DejaVuSans-111\"/>\n       <use x=\"124.560547\" xlink:href=\"#DejaVuSans-115\"/>\n       <use x=\"176.660156\" xlink:href=\"#DejaVuSans-112\"/>\n       <use x=\"240.136719\" xlink:href=\"#DejaVuSans-105\"/>\n       <use x=\"267.919922\" xlink:href=\"#DejaVuSans-116\"/>\n       <use x=\"307.128906\" xlink:href=\"#DejaVuSans-97\"/>\n       <use x=\"368.408203\" xlink:href=\"#DejaVuSans-108\"/>\n       <use x=\"396.191406\" xlink:href=\"#DejaVuSans-105\"/>\n       <use x=\"423.974609\" xlink:href=\"#DejaVuSans-122\"/>\n       <use x=\"476.464844\" xlink:href=\"#DejaVuSans-101\"/>\n       <use x=\"537.988281\" xlink:href=\"#DejaVuSans-100\"/>\n      </g>\n     </g>\n    </g>\n    <g id=\"xtick_3\">\n     <g id=\"line2d_3\">\n      <g>\n       <use style=\"stroke:#000000;stroke-width:0.8;\" x=\"366.31875\" xlink:href=\"#m2ff9996a3a\" y=\"437.518125\"/>\n      </g>\n     </g>\n     <g id=\"text_3\">\n      <!-- nonhospitalized -->\n      <defs>\n       <path d=\"M 54.890625 33.015625 \nL 54.890625 0 \nL 45.90625 0 \nL 45.90625 32.71875 \nQ 45.90625 40.484375 42.875 44.328125 \nQ 39.84375 48.1875 33.796875 48.1875 \nQ 26.515625 48.1875 22.3125 43.546875 \nQ 18.109375 38.921875 18.109375 30.90625 \nL 18.109375 0 \nL 9.078125 0 \nL 9.078125 54.6875 \nL 18.109375 54.6875 \nL 18.109375 46.1875 \nQ 21.34375 51.125 25.703125 53.5625 \nQ 30.078125 56 35.796875 56 \nQ 45.21875 56 50.046875 50.171875 \nQ 54.890625 44.34375 54.890625 33.015625 \nz\n\" id=\"DejaVuSans-110\"/>\n      </defs>\n      <g transform=\"translate(326.848438 452.116563)scale(0.1 -0.1)\">\n       <use xlink:href=\"#DejaVuSans-110\"/>\n       <use x=\"63.378906\" xlink:href=\"#DejaVuSans-111\"/>\n       <use x=\"124.560547\" xlink:href=\"#DejaVuSans-110\"/>\n       <use x=\"187.939453\" xlink:href=\"#DejaVuSans-104\"/>\n       <use x=\"251.318359\" xlink:href=\"#DejaVuSans-111\"/>\n       <use x=\"312.5\" xlink:href=\"#DejaVuSans-115\"/>\n       <use x=\"364.599609\" xlink:href=\"#DejaVuSans-112\"/>\n       <use x=\"428.076172\" xlink:href=\"#DejaVuSans-105\"/>\n       <use x=\"455.859375\" xlink:href=\"#DejaVuSans-116\"/>\n       <use x=\"495.068359\" xlink:href=\"#DejaVuSans-97\"/>\n       <use x=\"556.347656\" xlink:href=\"#DejaVuSans-108\"/>\n       <use x=\"584.130859\" xlink:href=\"#DejaVuSans-105\"/>\n       <use x=\"611.914062\" xlink:href=\"#DejaVuSans-122\"/>\n       <use x=\"664.404297\" xlink:href=\"#DejaVuSans-101\"/>\n       <use x=\"725.927734\" xlink:href=\"#DejaVuSans-100\"/>\n      </g>\n     </g>\n    </g>\n    <g id=\"xtick_4\">\n     <g id=\"line2d_4\">\n      <g>\n       <use style=\"stroke:#000000;stroke-width:0.8;\" x=\"470.11875\" xlink:href=\"#m2ff9996a3a\" y=\"437.518125\"/>\n      </g>\n     </g>\n     <g id=\"text_4\">\n      <!-- recovered -->\n      <defs>\n       <path d=\"M 41.109375 46.296875 \nQ 39.59375 47.171875 37.8125 47.578125 \nQ 36.03125 48 33.890625 48 \nQ 26.265625 48 22.1875 43.046875 \nQ 18.109375 38.09375 18.109375 28.8125 \nL 18.109375 0 \nL 9.078125 0 \nL 9.078125 54.6875 \nL 18.109375 54.6875 \nL 18.109375 46.1875 \nQ 20.953125 51.171875 25.484375 53.578125 \nQ 30.03125 56 36.53125 56 \nQ 37.453125 56 38.578125 55.875 \nQ 39.703125 55.765625 41.0625 55.515625 \nz\n\" id=\"DejaVuSans-114\"/>\n       <path d=\"M 2.984375 54.6875 \nL 12.5 54.6875 \nL 29.59375 8.796875 \nL 46.6875 54.6875 \nL 56.203125 54.6875 \nL 35.6875 0 \nL 23.484375 0 \nz\n\" id=\"DejaVuSans-118\"/>\n      </defs>\n      <g transform=\"translate(445.060938 452.116563)scale(0.1 -0.1)\">\n       <use xlink:href=\"#DejaVuSans-114\"/>\n       <use x=\"38.863281\" xlink:href=\"#DejaVuSans-101\"/>\n       <use x=\"100.386719\" xlink:href=\"#DejaVuSans-99\"/>\n       <use x=\"155.367188\" xlink:href=\"#DejaVuSans-111\"/>\n       <use x=\"216.548828\" xlink:href=\"#DejaVuSans-118\"/>\n       <use x=\"275.728516\" xlink:href=\"#DejaVuSans-101\"/>\n       <use x=\"337.251953\" xlink:href=\"#DejaVuSans-114\"/>\n       <use x=\"376.115234\" xlink:href=\"#DejaVuSans-101\"/>\n       <use x=\"437.638672\" xlink:href=\"#DejaVuSans-100\"/>\n      </g>\n     </g>\n    </g>\n    <g id=\"text_5\">\n     <!-- Predicted label -->\n     <defs>\n      <path d=\"M 19.671875 64.796875 \nL 19.671875 37.40625 \nL 32.078125 37.40625 \nQ 38.96875 37.40625 42.71875 40.96875 \nQ 46.484375 44.53125 46.484375 51.125 \nQ 46.484375 57.671875 42.71875 61.234375 \nQ 38.96875 64.796875 32.078125 64.796875 \nz\nM 9.8125 72.90625 \nL 32.078125 72.90625 \nQ 44.34375 72.90625 50.609375 67.359375 \nQ 56.890625 61.8125 56.890625 51.125 \nQ 56.890625 40.328125 50.609375 34.8125 \nQ 44.34375 29.296875 32.078125 29.296875 \nL 19.671875 29.296875 \nL 19.671875 0 \nL 9.8125 0 \nz\n\" id=\"DejaVuSans-80\"/>\n      <path id=\"DejaVuSans-32\"/>\n      <path d=\"M 48.6875 27.296875 \nQ 48.6875 37.203125 44.609375 42.84375 \nQ 40.53125 48.484375 33.40625 48.484375 \nQ 26.265625 48.484375 22.1875 42.84375 \nQ 18.109375 37.203125 18.109375 27.296875 \nQ 18.109375 17.390625 22.1875 11.75 \nQ 26.265625 6.109375 33.40625 6.109375 \nQ 40.53125 6.109375 44.609375 11.75 \nQ 48.6875 17.390625 48.6875 27.296875 \nz\nM 18.109375 46.390625 \nQ 20.953125 51.265625 25.265625 53.625 \nQ 29.59375 56 35.59375 56 \nQ 45.5625 56 51.78125 48.09375 \nQ 58.015625 40.1875 58.015625 27.296875 \nQ 58.015625 14.40625 51.78125 6.484375 \nQ 45.5625 -1.421875 35.59375 -1.421875 \nQ 29.59375 -1.421875 25.265625 0.953125 \nQ 20.953125 3.328125 18.109375 8.203125 \nL 18.109375 0 \nL 9.078125 0 \nL 9.078125 75.984375 \nL 18.109375 75.984375 \nz\n\" id=\"DejaVuSans-98\"/>\n     </defs>\n     <g transform=\"translate(277.266406 465.794688)scale(0.1 -0.1)\">\n      <use xlink:href=\"#DejaVuSans-80\"/>\n      <use x=\"58.552734\" xlink:href=\"#DejaVuSans-114\"/>\n      <use x=\"97.416016\" xlink:href=\"#DejaVuSans-101\"/>\n      <use x=\"158.939453\" xlink:href=\"#DejaVuSans-100\"/>\n      <use x=\"222.416016\" xlink:href=\"#DejaVuSans-105\"/>\n      <use x=\"250.199219\" xlink:href=\"#DejaVuSans-99\"/>\n      <use x=\"305.179688\" xlink:href=\"#DejaVuSans-116\"/>\n      <use x=\"344.388672\" xlink:href=\"#DejaVuSans-101\"/>\n      <use x=\"405.912109\" xlink:href=\"#DejaVuSans-100\"/>\n      <use x=\"469.388672\" xlink:href=\"#DejaVuSans-32\"/>\n      <use x=\"501.175781\" xlink:href=\"#DejaVuSans-108\"/>\n      <use x=\"528.958984\" xlink:href=\"#DejaVuSans-97\"/>\n      <use x=\"590.238281\" xlink:href=\"#DejaVuSans-98\"/>\n      <use x=\"653.714844\" xlink:href=\"#DejaVuSans-101\"/>\n      <use x=\"715.238281\" xlink:href=\"#DejaVuSans-108\"/>\n     </g>\n    </g>\n   </g>\n   <g id=\"matplotlib.axis_2\">\n    <g id=\"ytick_1\">\n     <g id=\"line2d_5\">\n      <defs>\n       <path d=\"M 0 0 \nL -3.5 0 \n\" id=\"m315af247db\" style=\"stroke:#000000;stroke-width:0.8;\"/>\n      </defs>\n      <g>\n       <use style=\"stroke:#000000;stroke-width:0.8;\" x=\"106.81875\" xlink:href=\"#m315af247db\" y=\"74.218125\"/>\n      </g>\n     </g>\n     <g id=\"text_6\">\n      <!-- deceased -->\n      <g transform=\"translate(51.826563 78.017344)scale(0.1 -0.1)\">\n       <use xlink:href=\"#DejaVuSans-100\"/>\n       <use x=\"63.476562\" xlink:href=\"#DejaVuSans-101\"/>\n       <use x=\"125\" xlink:href=\"#DejaVuSans-99\"/>\n       <use x=\"179.980469\" xlink:href=\"#DejaVuSans-101\"/>\n       <use x=\"241.503906\" xlink:href=\"#DejaVuSans-97\"/>\n       <use x=\"302.783203\" xlink:href=\"#DejaVuSans-115\"/>\n       <use x=\"354.882812\" xlink:href=\"#DejaVuSans-101\"/>\n       <use x=\"416.40625\" xlink:href=\"#DejaVuSans-100\"/>\n      </g>\n     </g>\n    </g>\n    <g id=\"ytick_2\">\n     <g id=\"line2d_6\">\n      <g>\n       <use style=\"stroke:#000000;stroke-width:0.8;\" x=\"106.81875\" xlink:href=\"#m315af247db\" y=\"178.018125\"/>\n      </g>\n     </g>\n     <g id=\"text_7\">\n      <!-- hospitalized -->\n      <g transform=\"translate(39.671875 181.817344)scale(0.1 -0.1)\">\n       <use xlink:href=\"#DejaVuSans-104\"/>\n       <use x=\"63.378906\" xlink:href=\"#DejaVuSans-111\"/>\n       <use x=\"124.560547\" xlink:href=\"#DejaVuSans-115\"/>\n       <use x=\"176.660156\" xlink:href=\"#DejaVuSans-112\"/>\n       <use x=\"240.136719\" xlink:href=\"#DejaVuSans-105\"/>\n       <use x=\"267.919922\" xlink:href=\"#DejaVuSans-116\"/>\n       <use x=\"307.128906\" xlink:href=\"#DejaVuSans-97\"/>\n       <use x=\"368.408203\" xlink:href=\"#DejaVuSans-108\"/>\n       <use x=\"396.191406\" xlink:href=\"#DejaVuSans-105\"/>\n       <use x=\"423.974609\" xlink:href=\"#DejaVuSans-122\"/>\n       <use x=\"476.464844\" xlink:href=\"#DejaVuSans-101\"/>\n       <use x=\"537.988281\" xlink:href=\"#DejaVuSans-100\"/>\n      </g>\n     </g>\n    </g>\n    <g id=\"ytick_3\">\n     <g id=\"line2d_7\">\n      <g>\n       <use style=\"stroke:#000000;stroke-width:0.8;\" x=\"106.81875\" xlink:href=\"#m315af247db\" y=\"281.818125\"/>\n      </g>\n     </g>\n     <g id=\"text_8\">\n      <!-- nonhospitalized -->\n      <g transform=\"translate(20.878125 285.617344)scale(0.1 -0.1)\">\n       <use xlink:href=\"#DejaVuSans-110\"/>\n       <use x=\"63.378906\" xlink:href=\"#DejaVuSans-111\"/>\n       <use x=\"124.560547\" xlink:href=\"#DejaVuSans-110\"/>\n       <use x=\"187.939453\" xlink:href=\"#DejaVuSans-104\"/>\n       <use x=\"251.318359\" xlink:href=\"#DejaVuSans-111\"/>\n       <use x=\"312.5\" xlink:href=\"#DejaVuSans-115\"/>\n       <use x=\"364.599609\" xlink:href=\"#DejaVuSans-112\"/>\n       <use x=\"428.076172\" xlink:href=\"#DejaVuSans-105\"/>\n       <use x=\"455.859375\" xlink:href=\"#DejaVuSans-116\"/>\n       <use x=\"495.068359\" xlink:href=\"#DejaVuSans-97\"/>\n       <use x=\"556.347656\" xlink:href=\"#DejaVuSans-108\"/>\n       <use x=\"584.130859\" xlink:href=\"#DejaVuSans-105\"/>\n       <use x=\"611.914062\" xlink:href=\"#DejaVuSans-122\"/>\n       <use x=\"664.404297\" xlink:href=\"#DejaVuSans-101\"/>\n       <use x=\"725.927734\" xlink:href=\"#DejaVuSans-100\"/>\n      </g>\n     </g>\n    </g>\n    <g id=\"ytick_4\">\n     <g id=\"line2d_8\">\n      <g>\n       <use style=\"stroke:#000000;stroke-width:0.8;\" x=\"106.81875\" xlink:href=\"#m315af247db\" y=\"385.618125\"/>\n      </g>\n     </g>\n     <g id=\"text_9\">\n      <!-- recovered -->\n      <g transform=\"translate(49.703125 389.417344)scale(0.1 -0.1)\">\n       <use xlink:href=\"#DejaVuSans-114\"/>\n       <use x=\"38.863281\" xlink:href=\"#DejaVuSans-101\"/>\n       <use x=\"100.386719\" xlink:href=\"#DejaVuSans-99\"/>\n       <use x=\"155.367188\" xlink:href=\"#DejaVuSans-111\"/>\n       <use x=\"216.548828\" xlink:href=\"#DejaVuSans-118\"/>\n       <use x=\"275.728516\" xlink:href=\"#DejaVuSans-101\"/>\n       <use x=\"337.251953\" xlink:href=\"#DejaVuSans-114\"/>\n       <use x=\"376.115234\" xlink:href=\"#DejaVuSans-101\"/>\n       <use x=\"437.638672\" xlink:href=\"#DejaVuSans-100\"/>\n      </g>\n     </g>\n    </g>\n    <g id=\"text_10\">\n     <!-- True label -->\n     <defs>\n      <path d=\"M -0.296875 72.90625 \nL 61.375 72.90625 \nL 61.375 64.59375 \nL 35.5 64.59375 \nL 35.5 0 \nL 25.59375 0 \nL 25.59375 64.59375 \nL -0.296875 64.59375 \nz\n\" id=\"DejaVuSans-84\"/>\n      <path d=\"M 8.5 21.578125 \nL 8.5 54.6875 \nL 17.484375 54.6875 \nL 17.484375 21.921875 \nQ 17.484375 14.15625 20.5 10.265625 \nQ 23.53125 6.390625 29.59375 6.390625 \nQ 36.859375 6.390625 41.078125 11.03125 \nQ 45.3125 15.671875 45.3125 23.6875 \nL 45.3125 54.6875 \nL 54.296875 54.6875 \nL 54.296875 0 \nL 45.3125 0 \nL 45.3125 8.40625 \nQ 42.046875 3.421875 37.71875 1 \nQ 33.40625 -1.421875 27.6875 -1.421875 \nQ 18.265625 -1.421875 13.375 4.4375 \nQ 8.5 10.296875 8.5 21.578125 \nz\nM 31.109375 56 \nz\n\" id=\"DejaVuSans-117\"/>\n     </defs>\n     <g transform=\"translate(14.798438 254.217344)rotate(-90)scale(0.1 -0.1)\">\n      <use xlink:href=\"#DejaVuSans-84\"/>\n      <use x=\"46.333984\" xlink:href=\"#DejaVuSans-114\"/>\n      <use x=\"87.447266\" xlink:href=\"#DejaVuSans-117\"/>\n      <use x=\"150.826172\" xlink:href=\"#DejaVuSans-101\"/>\n      <use x=\"212.349609\" xlink:href=\"#DejaVuSans-32\"/>\n      <use x=\"244.136719\" xlink:href=\"#DejaVuSans-108\"/>\n      <use x=\"271.919922\" xlink:href=\"#DejaVuSans-97\"/>\n      <use x=\"333.199219\" xlink:href=\"#DejaVuSans-98\"/>\n      <use x=\"396.675781\" xlink:href=\"#DejaVuSans-101\"/>\n      <use x=\"458.199219\" xlink:href=\"#DejaVuSans-108\"/>\n     </g>\n    </g>\n   </g>\n   <g id=\"patch_3\">\n    <path d=\"M 106.81875 437.518125 \nL 106.81875 22.318125 \n\" style=\"fill:none;stroke:#000000;stroke-linecap:square;stroke-linejoin:miter;stroke-width:0.8;\"/>\n   </g>\n   <g id=\"patch_4\">\n    <path d=\"M 522.01875 437.518125 \nL 522.01875 22.318125 \n\" style=\"fill:none;stroke:#000000;stroke-linecap:square;stroke-linejoin:miter;stroke-width:0.8;\"/>\n   </g>\n   <g id=\"patch_5\">\n    <path d=\"M 106.81875 437.518125 \nL 522.01875 437.518125 \n\" style=\"fill:none;stroke:#000000;stroke-linecap:square;stroke-linejoin:miter;stroke-width:0.8;\"/>\n   </g>\n   <g id=\"patch_6\">\n    <path d=\"M 106.81875 22.318125 \nL 522.01875 22.318125 \n\" style=\"fill:none;stroke:#000000;stroke-linecap:square;stroke-linejoin:miter;stroke-width:0.8;\"/>\n   </g>\n   <g id=\"text_11\">\n    <!-- 97349 -->\n    <defs>\n     <path d=\"M 10.984375 1.515625 \nL 10.984375 10.5 \nQ 14.703125 8.734375 18.5 7.8125 \nQ 22.3125 6.890625 25.984375 6.890625 \nQ 35.75 6.890625 40.890625 13.453125 \nQ 46.046875 20.015625 46.78125 33.40625 \nQ 43.953125 29.203125 39.59375 26.953125 \nQ 35.25 24.703125 29.984375 24.703125 \nQ 19.046875 24.703125 12.671875 31.3125 \nQ 6.296875 37.9375 6.296875 49.421875 \nQ 6.296875 60.640625 12.9375 67.421875 \nQ 19.578125 74.21875 30.609375 74.21875 \nQ 43.265625 74.21875 49.921875 64.515625 \nQ 56.59375 54.828125 56.59375 36.375 \nQ 56.59375 19.140625 48.40625 8.859375 \nQ 40.234375 -1.421875 26.421875 -1.421875 \nQ 22.703125 -1.421875 18.890625 -0.6875 \nQ 15.09375 0.046875 10.984375 1.515625 \nz\nM 30.609375 32.421875 \nQ 37.25 32.421875 41.125 36.953125 \nQ 45.015625 41.5 45.015625 49.421875 \nQ 45.015625 57.28125 41.125 61.84375 \nQ 37.25 66.40625 30.609375 66.40625 \nQ 23.96875 66.40625 20.09375 61.84375 \nQ 16.21875 57.28125 16.21875 49.421875 \nQ 16.21875 41.5 20.09375 36.953125 \nQ 23.96875 32.421875 30.609375 32.421875 \nz\n\" id=\"DejaVuSans-57\"/>\n     <path d=\"M 8.203125 72.90625 \nL 55.078125 72.90625 \nL 55.078125 68.703125 \nL 28.609375 0 \nL 18.3125 0 \nL 43.21875 64.59375 \nL 8.203125 64.59375 \nz\n\" id=\"DejaVuSans-55\"/>\n     <path d=\"M 40.578125 39.3125 \nQ 47.65625 37.796875 51.625 33 \nQ 55.609375 28.21875 55.609375 21.1875 \nQ 55.609375 10.40625 48.1875 4.484375 \nQ 40.765625 -1.421875 27.09375 -1.421875 \nQ 22.515625 -1.421875 17.65625 -0.515625 \nQ 12.796875 0.390625 7.625 2.203125 \nL 7.625 11.71875 \nQ 11.71875 9.328125 16.59375 8.109375 \nQ 21.484375 6.890625 26.8125 6.890625 \nQ 36.078125 6.890625 40.9375 10.546875 \nQ 45.796875 14.203125 45.796875 21.1875 \nQ 45.796875 27.640625 41.28125 31.265625 \nQ 36.765625 34.90625 28.71875 34.90625 \nL 20.21875 34.90625 \nL 20.21875 43.015625 \nL 29.109375 43.015625 \nQ 36.375 43.015625 40.234375 45.921875 \nQ 44.09375 48.828125 44.09375 54.296875 \nQ 44.09375 59.90625 40.109375 62.90625 \nQ 36.140625 65.921875 28.71875 65.921875 \nQ 24.65625 65.921875 20.015625 65.03125 \nQ 15.375 64.15625 9.8125 62.3125 \nL 9.8125 71.09375 \nQ 15.4375 72.65625 20.34375 73.4375 \nQ 25.25 74.21875 29.59375 74.21875 \nQ 40.828125 74.21875 47.359375 69.109375 \nQ 53.90625 64.015625 53.90625 55.328125 \nQ 53.90625 49.265625 50.4375 45.09375 \nQ 46.96875 40.921875 40.578125 39.3125 \nz\n\" id=\"DejaVuSans-51\"/>\n     <path d=\"M 37.796875 64.3125 \nL 12.890625 25.390625 \nL 37.796875 25.390625 \nz\nM 35.203125 72.90625 \nL 47.609375 72.90625 \nL 47.609375 25.390625 \nL 58.015625 25.390625 \nL 58.015625 17.1875 \nL 47.609375 17.1875 \nL 47.609375 0 \nL 37.796875 0 \nL 37.796875 17.1875 \nL 4.890625 17.1875 \nL 4.890625 26.703125 \nz\n\" id=\"DejaVuSans-52\"/>\n    </defs>\n    <g style=\"fill:#f7fbff;\" transform=\"translate(142.8125 76.9775)scale(0.1 -0.1)\">\n     <use xlink:href=\"#DejaVuSans-57\"/>\n     <use x=\"63.623047\" xlink:href=\"#DejaVuSans-55\"/>\n     <use x=\"127.246094\" xlink:href=\"#DejaVuSans-51\"/>\n     <use x=\"190.869141\" xlink:href=\"#DejaVuSans-52\"/>\n     <use x=\"254.492188\" xlink:href=\"#DejaVuSans-57\"/>\n    </g>\n   </g>\n   <g id=\"text_12\">\n    <!-- 9082 -->\n    <defs>\n     <path d=\"M 31.78125 66.40625 \nQ 24.171875 66.40625 20.328125 58.90625 \nQ 16.5 51.421875 16.5 36.375 \nQ 16.5 21.390625 20.328125 13.890625 \nQ 24.171875 6.390625 31.78125 6.390625 \nQ 39.453125 6.390625 43.28125 13.890625 \nQ 47.125 21.390625 47.125 36.375 \nQ 47.125 51.421875 43.28125 58.90625 \nQ 39.453125 66.40625 31.78125 66.40625 \nz\nM 31.78125 74.21875 \nQ 44.046875 74.21875 50.515625 64.515625 \nQ 56.984375 54.828125 56.984375 36.375 \nQ 56.984375 17.96875 50.515625 8.265625 \nQ 44.046875 -1.421875 31.78125 -1.421875 \nQ 19.53125 -1.421875 13.0625 8.265625 \nQ 6.59375 17.96875 6.59375 36.375 \nQ 6.59375 54.828125 13.0625 64.515625 \nQ 19.53125 74.21875 31.78125 74.21875 \nz\n\" id=\"DejaVuSans-48\"/>\n     <path d=\"M 31.78125 34.625 \nQ 24.75 34.625 20.71875 30.859375 \nQ 16.703125 27.09375 16.703125 20.515625 \nQ 16.703125 13.921875 20.71875 10.15625 \nQ 24.75 6.390625 31.78125 6.390625 \nQ 38.8125 6.390625 42.859375 10.171875 \nQ 46.921875 13.96875 46.921875 20.515625 \nQ 46.921875 27.09375 42.890625 30.859375 \nQ 38.875 34.625 31.78125 34.625 \nz\nM 21.921875 38.8125 \nQ 15.578125 40.375 12.03125 44.71875 \nQ 8.5 49.078125 8.5 55.328125 \nQ 8.5 64.0625 14.71875 69.140625 \nQ 20.953125 74.21875 31.78125 74.21875 \nQ 42.671875 74.21875 48.875 69.140625 \nQ 55.078125 64.0625 55.078125 55.328125 \nQ 55.078125 49.078125 51.53125 44.71875 \nQ 48 40.375 41.703125 38.8125 \nQ 48.828125 37.15625 52.796875 32.3125 \nQ 56.78125 27.484375 56.78125 20.515625 \nQ 56.78125 9.90625 50.3125 4.234375 \nQ 43.84375 -1.421875 31.78125 -1.421875 \nQ 19.734375 -1.421875 13.25 4.234375 \nQ 6.78125 9.90625 6.78125 20.515625 \nQ 6.78125 27.484375 10.78125 32.3125 \nQ 14.796875 37.15625 21.921875 38.8125 \nz\nM 18.3125 54.390625 \nQ 18.3125 48.734375 21.84375 45.5625 \nQ 25.390625 42.390625 31.78125 42.390625 \nQ 38.140625 42.390625 41.71875 45.5625 \nQ 45.3125 48.734375 45.3125 54.390625 \nQ 45.3125 60.0625 41.71875 63.234375 \nQ 38.140625 66.40625 31.78125 66.40625 \nQ 25.390625 66.40625 21.84375 63.234375 \nQ 18.3125 60.0625 18.3125 54.390625 \nz\n\" id=\"DejaVuSans-56\"/>\n     <path d=\"M 19.1875 8.296875 \nL 53.609375 8.296875 \nL 53.609375 0 \nL 7.328125 0 \nL 7.328125 8.296875 \nQ 12.9375 14.109375 22.625 23.890625 \nQ 32.328125 33.6875 34.8125 36.53125 \nQ 39.546875 41.84375 41.421875 45.53125 \nQ 43.3125 49.21875 43.3125 52.78125 \nQ 43.3125 58.59375 39.234375 62.25 \nQ 35.15625 65.921875 28.609375 65.921875 \nQ 23.96875 65.921875 18.8125 64.3125 \nQ 13.671875 62.703125 7.8125 59.421875 \nL 7.8125 69.390625 \nQ 13.765625 71.78125 18.9375 73 \nQ 24.125 74.21875 28.421875 74.21875 \nQ 39.75 74.21875 46.484375 68.546875 \nQ 53.21875 62.890625 53.21875 53.421875 \nQ 53.21875 48.921875 51.53125 44.890625 \nQ 49.859375 40.875 45.40625 35.40625 \nQ 44.1875 33.984375 37.640625 27.21875 \nQ 31.109375 20.453125 19.1875 8.296875 \nz\n\" id=\"DejaVuSans-50\"/>\n    </defs>\n    <g style=\"fill:#08306b;\" transform=\"translate(249.79375 76.9775)scale(0.1 -0.1)\">\n     <use xlink:href=\"#DejaVuSans-57\"/>\n     <use x=\"63.623047\" xlink:href=\"#DejaVuSans-48\"/>\n     <use x=\"127.246094\" xlink:href=\"#DejaVuSans-56\"/>\n     <use x=\"190.869141\" xlink:href=\"#DejaVuSans-50\"/>\n    </g>\n   </g>\n   <g id=\"text_13\">\n    <!-- 28 -->\n    <g style=\"fill:#08306b;\" transform=\"translate(359.95625 76.9775)scale(0.1 -0.1)\">\n     <use xlink:href=\"#DejaVuSans-50\"/>\n     <use x=\"63.623047\" xlink:href=\"#DejaVuSans-56\"/>\n    </g>\n   </g>\n   <g id=\"text_14\">\n    <!-- 13469 -->\n    <defs>\n     <path d=\"M 12.40625 8.296875 \nL 28.515625 8.296875 \nL 28.515625 63.921875 \nL 10.984375 60.40625 \nL 10.984375 69.390625 \nL 28.421875 72.90625 \nL 38.28125 72.90625 \nL 38.28125 8.296875 \nL 54.390625 8.296875 \nL 54.390625 0 \nL 12.40625 0 \nz\n\" id=\"DejaVuSans-49\"/>\n     <path d=\"M 33.015625 40.375 \nQ 26.375 40.375 22.484375 35.828125 \nQ 18.609375 31.296875 18.609375 23.390625 \nQ 18.609375 15.53125 22.484375 10.953125 \nQ 26.375 6.390625 33.015625 6.390625 \nQ 39.65625 6.390625 43.53125 10.953125 \nQ 47.40625 15.53125 47.40625 23.390625 \nQ 47.40625 31.296875 43.53125 35.828125 \nQ 39.65625 40.375 33.015625 40.375 \nz\nM 52.59375 71.296875 \nL 52.59375 62.3125 \nQ 48.875 64.0625 45.09375 64.984375 \nQ 41.3125 65.921875 37.59375 65.921875 \nQ 27.828125 65.921875 22.671875 59.328125 \nQ 17.53125 52.734375 16.796875 39.40625 \nQ 19.671875 43.65625 24.015625 45.921875 \nQ 28.375 48.1875 33.59375 48.1875 \nQ 44.578125 48.1875 50.953125 41.515625 \nQ 57.328125 34.859375 57.328125 23.390625 \nQ 57.328125 12.15625 50.6875 5.359375 \nQ 44.046875 -1.421875 33.015625 -1.421875 \nQ 20.359375 -1.421875 13.671875 8.265625 \nQ 6.984375 17.96875 6.984375 36.375 \nQ 6.984375 53.65625 15.1875 63.9375 \nQ 23.390625 74.21875 37.203125 74.21875 \nQ 40.921875 74.21875 44.703125 73.484375 \nQ 48.484375 72.75 52.59375 71.296875 \nz\n\" id=\"DejaVuSans-54\"/>\n    </defs>\n    <g style=\"fill:#08306b;\" transform=\"translate(454.2125 76.9775)scale(0.1 -0.1)\">\n     <use xlink:href=\"#DejaVuSans-49\"/>\n     <use x=\"63.623047\" xlink:href=\"#DejaVuSans-51\"/>\n     <use x=\"127.246094\" xlink:href=\"#DejaVuSans-52\"/>\n     <use x=\"190.869141\" xlink:href=\"#DejaVuSans-54\"/>\n     <use x=\"254.492188\" xlink:href=\"#DejaVuSans-57\"/>\n    </g>\n   </g>\n   <g id=\"text_15\">\n    <!-- 16305 -->\n    <defs>\n     <path d=\"M 10.796875 72.90625 \nL 49.515625 72.90625 \nL 49.515625 64.59375 \nL 19.828125 64.59375 \nL 19.828125 46.734375 \nQ 21.96875 47.46875 24.109375 47.828125 \nQ 26.265625 48.1875 28.421875 48.1875 \nQ 40.625 48.1875 47.75 41.5 \nQ 54.890625 34.8125 54.890625 23.390625 \nQ 54.890625 11.625 47.5625 5.09375 \nQ 40.234375 -1.421875 26.90625 -1.421875 \nQ 22.3125 -1.421875 17.546875 -0.640625 \nQ 12.796875 0.140625 7.71875 1.703125 \nL 7.71875 11.625 \nQ 12.109375 9.234375 16.796875 8.0625 \nQ 21.484375 6.890625 26.703125 6.890625 \nQ 35.15625 6.890625 40.078125 11.328125 \nQ 45.015625 15.765625 45.015625 23.390625 \nQ 45.015625 31 40.078125 35.4375 \nQ 35.15625 39.890625 26.703125 39.890625 \nQ 22.75 39.890625 18.8125 39.015625 \nQ 14.890625 38.140625 10.796875 36.28125 \nz\n\" id=\"DejaVuSans-53\"/>\n    </defs>\n    <g style=\"fill:#08306b;\" transform=\"translate(142.8125 180.7775)scale(0.1 -0.1)\">\n     <use xlink:href=\"#DejaVuSans-49\"/>\n     <use x=\"63.623047\" xlink:href=\"#DejaVuSans-54\"/>\n     <use x=\"127.246094\" xlink:href=\"#DejaVuSans-51\"/>\n     <use x=\"190.869141\" xlink:href=\"#DejaVuSans-48\"/>\n     <use x=\"254.492188\" xlink:href=\"#DejaVuSans-53\"/>\n    </g>\n   </g>\n   <g id=\"text_16\">\n    <!-- 85183 -->\n    <g style=\"fill:#f7fbff;\" transform=\"translate(246.6125 180.7775)scale(0.1 -0.1)\">\n     <use xlink:href=\"#DejaVuSans-56\"/>\n     <use x=\"63.623047\" xlink:href=\"#DejaVuSans-53\"/>\n     <use x=\"127.246094\" xlink:href=\"#DejaVuSans-49\"/>\n     <use x=\"190.869141\" xlink:href=\"#DejaVuSans-56\"/>\n     <use x=\"254.492188\" xlink:href=\"#DejaVuSans-51\"/>\n    </g>\n   </g>\n   <g id=\"text_17\">\n    <!-- 0 -->\n    <g style=\"fill:#08306b;\" transform=\"translate(363.1375 180.7775)scale(0.1 -0.1)\">\n     <use xlink:href=\"#DejaVuSans-48\"/>\n    </g>\n   </g>\n   <g id=\"text_18\">\n    <!-- 18440 -->\n    <g style=\"fill:#08306b;\" transform=\"translate(454.2125 180.7775)scale(0.1 -0.1)\">\n     <use xlink:href=\"#DejaVuSans-49\"/>\n     <use x=\"63.623047\" xlink:href=\"#DejaVuSans-56\"/>\n     <use x=\"127.246094\" xlink:href=\"#DejaVuSans-52\"/>\n     <use x=\"190.869141\" xlink:href=\"#DejaVuSans-52\"/>\n     <use x=\"254.492188\" xlink:href=\"#DejaVuSans-48\"/>\n    </g>\n   </g>\n   <g id=\"text_19\">\n    <!-- 62 -->\n    <g style=\"fill:#08306b;\" transform=\"translate(152.35625 284.5775)scale(0.1 -0.1)\">\n     <use xlink:href=\"#DejaVuSans-54\"/>\n     <use x=\"63.623047\" xlink:href=\"#DejaVuSans-50\"/>\n    </g>\n   </g>\n   <g id=\"text_20\">\n    <!-- 0 -->\n    <g style=\"fill:#08306b;\" transform=\"translate(259.3375 284.5775)scale(0.1 -0.1)\">\n     <use xlink:href=\"#DejaVuSans-48\"/>\n    </g>\n   </g>\n   <g id=\"text_21\">\n    <!-- 119652 -->\n    <g style=\"fill:#f7fbff;\" transform=\"translate(347.23125 284.5775)scale(0.1 -0.1)\">\n     <use xlink:href=\"#DejaVuSans-49\"/>\n     <use x=\"63.623047\" xlink:href=\"#DejaVuSans-49\"/>\n     <use x=\"127.246094\" xlink:href=\"#DejaVuSans-57\"/>\n     <use x=\"190.869141\" xlink:href=\"#DejaVuSans-54\"/>\n     <use x=\"254.492188\" xlink:href=\"#DejaVuSans-53\"/>\n     <use x=\"318.115234\" xlink:href=\"#DejaVuSans-50\"/>\n    </g>\n   </g>\n   <g id=\"text_22\">\n    <!-- 214 -->\n    <g style=\"fill:#08306b;\" transform=\"translate(460.575 284.5775)scale(0.1 -0.1)\">\n     <use xlink:href=\"#DejaVuSans-50\"/>\n     <use x=\"63.623047\" xlink:href=\"#DejaVuSans-49\"/>\n     <use x=\"127.246094\" xlink:href=\"#DejaVuSans-52\"/>\n    </g>\n   </g>\n   <g id=\"text_23\">\n    <!-- 13887 -->\n    <g style=\"fill:#08306b;\" transform=\"translate(142.8125 388.3775)scale(0.1 -0.1)\">\n     <use xlink:href=\"#DejaVuSans-49\"/>\n     <use x=\"63.623047\" xlink:href=\"#DejaVuSans-51\"/>\n     <use x=\"127.246094\" xlink:href=\"#DejaVuSans-56\"/>\n     <use x=\"190.869141\" xlink:href=\"#DejaVuSans-56\"/>\n     <use x=\"254.492188\" xlink:href=\"#DejaVuSans-55\"/>\n    </g>\n   </g>\n   <g id=\"text_24\">\n    <!-- 13964 -->\n    <g style=\"fill:#08306b;\" transform=\"translate(246.6125 388.3775)scale(0.1 -0.1)\">\n     <use xlink:href=\"#DejaVuSans-49\"/>\n     <use x=\"63.623047\" xlink:href=\"#DejaVuSans-51\"/>\n     <use x=\"127.246094\" xlink:href=\"#DejaVuSans-57\"/>\n     <use x=\"190.869141\" xlink:href=\"#DejaVuSans-54\"/>\n     <use x=\"254.492188\" xlink:href=\"#DejaVuSans-52\"/>\n    </g>\n   </g>\n   <g id=\"text_25\">\n    <!-- 151 -->\n    <g style=\"fill:#08306b;\" transform=\"translate(356.775 388.3775)scale(0.1 -0.1)\">\n     <use xlink:href=\"#DejaVuSans-49\"/>\n     <use x=\"63.623047\" xlink:href=\"#DejaVuSans-53\"/>\n     <use x=\"127.246094\" xlink:href=\"#DejaVuSans-49\"/>\n    </g>\n   </g>\n   <g id=\"text_26\">\n    <!-- 91926 -->\n    <g style=\"fill:#f7fbff;\" transform=\"translate(454.2125 388.3775)scale(0.1 -0.1)\">\n     <use xlink:href=\"#DejaVuSans-57\"/>\n     <use x=\"63.623047\" xlink:href=\"#DejaVuSans-49\"/>\n     <use x=\"127.246094\" xlink:href=\"#DejaVuSans-57\"/>\n     <use x=\"190.869141\" xlink:href=\"#DejaVuSans-50\"/>\n     <use x=\"254.492188\" xlink:href=\"#DejaVuSans-54\"/>\n    </g>\n   </g>\n   <g id=\"text_27\">\n    <!-- LightGBM - Confusion Matrix of Training Data -->\n    <defs>\n     <path d=\"M 9.8125 72.90625 \nL 19.671875 72.90625 \nL 19.671875 8.296875 \nL 55.171875 8.296875 \nL 55.171875 0 \nL 9.8125 0 \nz\n\" id=\"DejaVuSans-76\"/>\n     <path d=\"M 45.40625 27.984375 \nQ 45.40625 37.75 41.375 43.109375 \nQ 37.359375 48.484375 30.078125 48.484375 \nQ 22.859375 48.484375 18.828125 43.109375 \nQ 14.796875 37.75 14.796875 27.984375 \nQ 14.796875 18.265625 18.828125 12.890625 \nQ 22.859375 7.515625 30.078125 7.515625 \nQ 37.359375 7.515625 41.375 12.890625 \nQ 45.40625 18.265625 45.40625 27.984375 \nz\nM 54.390625 6.78125 \nQ 54.390625 -7.171875 48.1875 -13.984375 \nQ 42 -20.796875 29.203125 -20.796875 \nQ 24.46875 -20.796875 20.265625 -20.09375 \nQ 16.0625 -19.390625 12.109375 -17.921875 \nL 12.109375 -9.1875 \nQ 16.0625 -11.328125 19.921875 -12.34375 \nQ 23.78125 -13.375 27.78125 -13.375 \nQ 36.625 -13.375 41.015625 -8.765625 \nQ 45.40625 -4.15625 45.40625 5.171875 \nL 45.40625 9.625 \nQ 42.625 4.78125 38.28125 2.390625 \nQ 33.9375 0 27.875 0 \nQ 17.828125 0 11.671875 7.65625 \nQ 5.515625 15.328125 5.515625 27.984375 \nQ 5.515625 40.671875 11.671875 48.328125 \nQ 17.828125 56 27.875 56 \nQ 33.9375 56 38.28125 53.609375 \nQ 42.625 51.21875 45.40625 46.390625 \nL 45.40625 54.6875 \nL 54.390625 54.6875 \nz\n\" id=\"DejaVuSans-103\"/>\n     <path d=\"M 59.515625 10.40625 \nL 59.515625 29.984375 \nL 43.40625 29.984375 \nL 43.40625 38.09375 \nL 69.28125 38.09375 \nL 69.28125 6.78125 \nQ 63.578125 2.734375 56.6875 0.65625 \nQ 49.8125 -1.421875 42 -1.421875 \nQ 24.90625 -1.421875 15.25 8.5625 \nQ 5.609375 18.5625 5.609375 36.375 \nQ 5.609375 54.25 15.25 64.234375 \nQ 24.90625 74.21875 42 74.21875 \nQ 49.125 74.21875 55.546875 72.453125 \nQ 61.96875 70.703125 67.390625 67.28125 \nL 67.390625 56.78125 \nQ 61.921875 61.421875 55.765625 63.765625 \nQ 49.609375 66.109375 42.828125 66.109375 \nQ 29.4375 66.109375 22.71875 58.640625 \nQ 16.015625 51.171875 16.015625 36.375 \nQ 16.015625 21.625 22.71875 14.15625 \nQ 29.4375 6.6875 42.828125 6.6875 \nQ 48.046875 6.6875 52.140625 7.59375 \nQ 56.25 8.5 59.515625 10.40625 \nz\n\" id=\"DejaVuSans-71\"/>\n     <path d=\"M 19.671875 34.8125 \nL 19.671875 8.109375 \nL 35.5 8.109375 \nQ 43.453125 8.109375 47.28125 11.40625 \nQ 51.125 14.703125 51.125 21.484375 \nQ 51.125 28.328125 47.28125 31.5625 \nQ 43.453125 34.8125 35.5 34.8125 \nz\nM 19.671875 64.796875 \nL 19.671875 42.828125 \nL 34.28125 42.828125 \nQ 41.5 42.828125 45.03125 45.53125 \nQ 48.578125 48.25 48.578125 53.8125 \nQ 48.578125 59.328125 45.03125 62.0625 \nQ 41.5 64.796875 34.28125 64.796875 \nz\nM 9.8125 72.90625 \nL 35.015625 72.90625 \nQ 46.296875 72.90625 52.390625 68.21875 \nQ 58.5 63.53125 58.5 54.890625 \nQ 58.5 48.1875 55.375 44.234375 \nQ 52.25 40.28125 46.1875 39.3125 \nQ 53.46875 37.75 57.5 32.78125 \nQ 61.53125 27.828125 61.53125 20.40625 \nQ 61.53125 10.640625 54.890625 5.3125 \nQ 48.25 0 35.984375 0 \nL 9.8125 0 \nz\n\" id=\"DejaVuSans-66\"/>\n     <path d=\"M 9.8125 72.90625 \nL 24.515625 72.90625 \nL 43.109375 23.296875 \nL 61.8125 72.90625 \nL 76.515625 72.90625 \nL 76.515625 0 \nL 66.890625 0 \nL 66.890625 64.015625 \nL 48.09375 14.015625 \nL 38.1875 14.015625 \nL 19.390625 64.015625 \nL 19.390625 0 \nL 9.8125 0 \nz\n\" id=\"DejaVuSans-77\"/>\n     <path d=\"M 4.890625 31.390625 \nL 31.203125 31.390625 \nL 31.203125 23.390625 \nL 4.890625 23.390625 \nz\n\" id=\"DejaVuSans-45\"/>\n     <path d=\"M 64.40625 67.28125 \nL 64.40625 56.890625 \nQ 59.421875 61.53125 53.78125 63.8125 \nQ 48.140625 66.109375 41.796875 66.109375 \nQ 29.296875 66.109375 22.65625 58.46875 \nQ 16.015625 50.828125 16.015625 36.375 \nQ 16.015625 21.96875 22.65625 14.328125 \nQ 29.296875 6.6875 41.796875 6.6875 \nQ 48.140625 6.6875 53.78125 8.984375 \nQ 59.421875 11.28125 64.40625 15.921875 \nL 64.40625 5.609375 \nQ 59.234375 2.09375 53.4375 0.328125 \nQ 47.65625 -1.421875 41.21875 -1.421875 \nQ 24.65625 -1.421875 15.125 8.703125 \nQ 5.609375 18.84375 5.609375 36.375 \nQ 5.609375 53.953125 15.125 64.078125 \nQ 24.65625 74.21875 41.21875 74.21875 \nQ 47.75 74.21875 53.53125 72.484375 \nQ 59.328125 70.75 64.40625 67.28125 \nz\n\" id=\"DejaVuSans-67\"/>\n     <path d=\"M 37.109375 75.984375 \nL 37.109375 68.5 \nL 28.515625 68.5 \nQ 23.6875 68.5 21.796875 66.546875 \nQ 19.921875 64.59375 19.921875 59.515625 \nL 19.921875 54.6875 \nL 34.71875 54.6875 \nL 34.71875 47.703125 \nL 19.921875 47.703125 \nL 19.921875 0 \nL 10.890625 0 \nL 10.890625 47.703125 \nL 2.296875 47.703125 \nL 2.296875 54.6875 \nL 10.890625 54.6875 \nL 10.890625 58.5 \nQ 10.890625 67.625 15.140625 71.796875 \nQ 19.390625 75.984375 28.609375 75.984375 \nz\n\" id=\"DejaVuSans-102\"/>\n     <path d=\"M 54.890625 54.6875 \nL 35.109375 28.078125 \nL 55.90625 0 \nL 45.3125 0 \nL 29.390625 21.484375 \nL 13.484375 0 \nL 2.875 0 \nL 24.125 28.609375 \nL 4.6875 54.6875 \nL 15.28125 54.6875 \nL 29.78125 35.203125 \nL 44.28125 54.6875 \nz\n\" id=\"DejaVuSans-120\"/>\n     <path d=\"M 19.671875 64.796875 \nL 19.671875 8.109375 \nL 31.59375 8.109375 \nQ 46.6875 8.109375 53.6875 14.9375 \nQ 60.6875 21.78125 60.6875 36.53125 \nQ 60.6875 51.171875 53.6875 57.984375 \nQ 46.6875 64.796875 31.59375 64.796875 \nz\nM 9.8125 72.90625 \nL 30.078125 72.90625 \nQ 51.265625 72.90625 61.171875 64.09375 \nQ 71.09375 55.28125 71.09375 36.53125 \nQ 71.09375 17.671875 61.125 8.828125 \nQ 51.171875 0 30.078125 0 \nL 9.8125 0 \nz\n\" id=\"DejaVuSans-68\"/>\n    </defs>\n    <g transform=\"translate(179.38125 16.318125)scale(0.12 -0.12)\">\n     <use xlink:href=\"#DejaVuSans-76\"/>\n     <use x=\"55.712891\" xlink:href=\"#DejaVuSans-105\"/>\n     <use x=\"83.496094\" xlink:href=\"#DejaVuSans-103\"/>\n     <use x=\"146.972656\" xlink:href=\"#DejaVuSans-104\"/>\n     <use x=\"210.351562\" xlink:href=\"#DejaVuSans-116\"/>\n     <use x=\"249.560547\" xlink:href=\"#DejaVuSans-71\"/>\n     <use x=\"327.050781\" xlink:href=\"#DejaVuSans-66\"/>\n     <use x=\"395.654297\" xlink:href=\"#DejaVuSans-77\"/>\n     <use x=\"481.933594\" xlink:href=\"#DejaVuSans-32\"/>\n     <use x=\"513.720703\" xlink:href=\"#DejaVuSans-45\"/>\n     <use x=\"549.804688\" xlink:href=\"#DejaVuSans-32\"/>\n     <use x=\"581.591797\" xlink:href=\"#DejaVuSans-67\"/>\n     <use x=\"651.416016\" xlink:href=\"#DejaVuSans-111\"/>\n     <use x=\"712.597656\" xlink:href=\"#DejaVuSans-110\"/>\n     <use x=\"775.976562\" xlink:href=\"#DejaVuSans-102\"/>\n     <use x=\"811.181641\" xlink:href=\"#DejaVuSans-117\"/>\n     <use x=\"874.560547\" xlink:href=\"#DejaVuSans-115\"/>\n     <use x=\"926.660156\" xlink:href=\"#DejaVuSans-105\"/>\n     <use x=\"954.443359\" xlink:href=\"#DejaVuSans-111\"/>\n     <use x=\"1015.625\" xlink:href=\"#DejaVuSans-110\"/>\n     <use x=\"1079.003906\" xlink:href=\"#DejaVuSans-32\"/>\n     <use x=\"1110.791016\" xlink:href=\"#DejaVuSans-77\"/>\n     <use x=\"1197.070312\" xlink:href=\"#DejaVuSans-97\"/>\n     <use x=\"1258.349609\" xlink:href=\"#DejaVuSans-116\"/>\n     <use x=\"1297.558594\" xlink:href=\"#DejaVuSans-114\"/>\n     <use x=\"1338.671875\" xlink:href=\"#DejaVuSans-105\"/>\n     <use x=\"1366.455078\" xlink:href=\"#DejaVuSans-120\"/>\n     <use x=\"1425.634766\" xlink:href=\"#DejaVuSans-32\"/>\n     <use x=\"1457.421875\" xlink:href=\"#DejaVuSans-111\"/>\n     <use x=\"1518.603516\" xlink:href=\"#DejaVuSans-102\"/>\n     <use x=\"1553.808594\" xlink:href=\"#DejaVuSans-32\"/>\n     <use x=\"1585.595703\" xlink:href=\"#DejaVuSans-84\"/>\n     <use x=\"1631.929688\" xlink:href=\"#DejaVuSans-114\"/>\n     <use x=\"1673.042969\" xlink:href=\"#DejaVuSans-97\"/>\n     <use x=\"1734.322266\" xlink:href=\"#DejaVuSans-105\"/>\n     <use x=\"1762.105469\" xlink:href=\"#DejaVuSans-110\"/>\n     <use x=\"1825.484375\" xlink:href=\"#DejaVuSans-105\"/>\n     <use x=\"1853.267578\" xlink:href=\"#DejaVuSans-110\"/>\n     <use x=\"1916.646484\" xlink:href=\"#DejaVuSans-103\"/>\n     <use x=\"1980.123047\" xlink:href=\"#DejaVuSans-32\"/>\n     <use x=\"2011.910156\" xlink:href=\"#DejaVuSans-68\"/>\n     <use x=\"2088.912109\" xlink:href=\"#DejaVuSans-97\"/>\n     <use x=\"2150.191406\" xlink:href=\"#DejaVuSans-116\"/>\n     <use x=\"2189.400391\" xlink:href=\"#DejaVuSans-97\"/>\n    </g>\n   </g>\n  </g>\n  <g id=\"axes_2\">\n   <g id=\"patch_7\">\n    <path d=\"M 753.837983 437.518125 \nL 1169.037983 437.518125 \nL 1169.037983 22.318125 \nL 753.837983 22.318125 \nz\n\" style=\"fill:#ffffff;\"/>\n   </g>\n   <g clip-path=\"url(#pc1eb994d92)\">\n    <image height=\"416\" id=\"imagef3ce82f3e7\" transform=\"scale(1 -1)translate(0 -416)\" width=\"416\" x=\"753.837983\" xlink:href=\"data:image/png;base64,\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\" y=\"-21.518125\"/>\n   </g>\n   <g id=\"matplotlib.axis_3\">\n    <g id=\"xtick_5\">\n     <g id=\"line2d_9\">\n      <g>\n       <use style=\"stroke:#000000;stroke-width:0.8;\" x=\"805.737983\" xlink:href=\"#m2ff9996a3a\" y=\"437.518125\"/>\n      </g>\n     </g>\n     <g id=\"text_28\">\n      <!-- deceased -->\n      <g transform=\"translate(781.741889 452.116563)scale(0.1 -0.1)\">\n       <use xlink:href=\"#DejaVuSans-100\"/>\n       <use x=\"63.476562\" xlink:href=\"#DejaVuSans-101\"/>\n       <use x=\"125\" xlink:href=\"#DejaVuSans-99\"/>\n       <use x=\"179.980469\" xlink:href=\"#DejaVuSans-101\"/>\n       <use x=\"241.503906\" xlink:href=\"#DejaVuSans-97\"/>\n       <use x=\"302.783203\" xlink:href=\"#DejaVuSans-115\"/>\n       <use x=\"354.882812\" xlink:href=\"#DejaVuSans-101\"/>\n       <use x=\"416.40625\" xlink:href=\"#DejaVuSans-100\"/>\n      </g>\n     </g>\n    </g>\n    <g id=\"xtick_6\">\n     <g id=\"line2d_10\">\n      <g>\n       <use style=\"stroke:#000000;stroke-width:0.8;\" x=\"909.537983\" xlink:href=\"#m2ff9996a3a\" y=\"437.518125\"/>\n      </g>\n     </g>\n     <g id=\"text_29\">\n      <!-- hospitalized -->\n      <g transform=\"translate(879.464545 452.116563)scale(0.1 -0.1)\">\n       <use xlink:href=\"#DejaVuSans-104\"/>\n       <use x=\"63.378906\" xlink:href=\"#DejaVuSans-111\"/>\n       <use x=\"124.560547\" xlink:href=\"#DejaVuSans-115\"/>\n       <use x=\"176.660156\" xlink:href=\"#DejaVuSans-112\"/>\n       <use x=\"240.136719\" xlink:href=\"#DejaVuSans-105\"/>\n       <use x=\"267.919922\" xlink:href=\"#DejaVuSans-116\"/>\n       <use x=\"307.128906\" xlink:href=\"#DejaVuSans-97\"/>\n       <use x=\"368.408203\" xlink:href=\"#DejaVuSans-108\"/>\n       <use x=\"396.191406\" xlink:href=\"#DejaVuSans-105\"/>\n       <use x=\"423.974609\" xlink:href=\"#DejaVuSans-122\"/>\n       <use x=\"476.464844\" xlink:href=\"#DejaVuSans-101\"/>\n       <use x=\"537.988281\" xlink:href=\"#DejaVuSans-100\"/>\n      </g>\n     </g>\n    </g>\n    <g id=\"xtick_7\">\n     <g id=\"line2d_11\">\n      <g>\n       <use style=\"stroke:#000000;stroke-width:0.8;\" x=\"1013.337983\" xlink:href=\"#m2ff9996a3a\" y=\"437.518125\"/>\n      </g>\n     </g>\n     <g id=\"text_30\">\n      <!-- nonhospitalized -->\n      <g transform=\"translate(973.86767 452.116563)scale(0.1 -0.1)\">\n       <use xlink:href=\"#DejaVuSans-110\"/>\n       <use x=\"63.378906\" xlink:href=\"#DejaVuSans-111\"/>\n       <use x=\"124.560547\" xlink:href=\"#DejaVuSans-110\"/>\n       <use x=\"187.939453\" xlink:href=\"#DejaVuSans-104\"/>\n       <use x=\"251.318359\" xlink:href=\"#DejaVuSans-111\"/>\n       <use x=\"312.5\" xlink:href=\"#DejaVuSans-115\"/>\n       <use x=\"364.599609\" xlink:href=\"#DejaVuSans-112\"/>\n       <use x=\"428.076172\" xlink:href=\"#DejaVuSans-105\"/>\n       <use x=\"455.859375\" xlink:href=\"#DejaVuSans-116\"/>\n       <use x=\"495.068359\" xlink:href=\"#DejaVuSans-97\"/>\n       <use x=\"556.347656\" xlink:href=\"#DejaVuSans-108\"/>\n       <use x=\"584.130859\" xlink:href=\"#DejaVuSans-105\"/>\n       <use x=\"611.914062\" xlink:href=\"#DejaVuSans-122\"/>\n       <use x=\"664.404297\" xlink:href=\"#DejaVuSans-101\"/>\n       <use x=\"725.927734\" xlink:href=\"#DejaVuSans-100\"/>\n      </g>\n     </g>\n    </g>\n    <g id=\"xtick_8\">\n     <g id=\"line2d_12\">\n      <g>\n       <use style=\"stroke:#000000;stroke-width:0.8;\" x=\"1117.137983\" xlink:href=\"#m2ff9996a3a\" y=\"437.518125\"/>\n      </g>\n     </g>\n     <g id=\"text_31\">\n      <!-- recovered -->\n      <g transform=\"translate(1092.08017 452.116563)scale(0.1 -0.1)\">\n       <use xlink:href=\"#DejaVuSans-114\"/>\n       <use x=\"38.863281\" xlink:href=\"#DejaVuSans-101\"/>\n       <use x=\"100.386719\" xlink:href=\"#DejaVuSans-99\"/>\n       <use x=\"155.367188\" xlink:href=\"#DejaVuSans-111\"/>\n       <use x=\"216.548828\" xlink:href=\"#DejaVuSans-118\"/>\n       <use x=\"275.728516\" xlink:href=\"#DejaVuSans-101\"/>\n       <use x=\"337.251953\" xlink:href=\"#DejaVuSans-114\"/>\n       <use x=\"376.115234\" xlink:href=\"#DejaVuSans-101\"/>\n       <use x=\"437.638672\" xlink:href=\"#DejaVuSans-100\"/>\n      </g>\n     </g>\n    </g>\n    <g id=\"text_32\">\n     <!-- Predicted label -->\n     <g transform=\"translate(924.285639 465.794688)scale(0.1 -0.1)\">\n      <use xlink:href=\"#DejaVuSans-80\"/>\n      <use x=\"58.552734\" xlink:href=\"#DejaVuSans-114\"/>\n      <use x=\"97.416016\" xlink:href=\"#DejaVuSans-101\"/>\n      <use x=\"158.939453\" xlink:href=\"#DejaVuSans-100\"/>\n      <use x=\"222.416016\" xlink:href=\"#DejaVuSans-105\"/>\n      <use x=\"250.199219\" xlink:href=\"#DejaVuSans-99\"/>\n      <use x=\"305.179688\" xlink:href=\"#DejaVuSans-116\"/>\n      <use x=\"344.388672\" xlink:href=\"#DejaVuSans-101\"/>\n      <use x=\"405.912109\" xlink:href=\"#DejaVuSans-100\"/>\n      <use x=\"469.388672\" xlink:href=\"#DejaVuSans-32\"/>\n      <use x=\"501.175781\" xlink:href=\"#DejaVuSans-108\"/>\n      <use x=\"528.958984\" xlink:href=\"#DejaVuSans-97\"/>\n      <use x=\"590.238281\" xlink:href=\"#DejaVuSans-98\"/>\n      <use x=\"653.714844\" xlink:href=\"#DejaVuSans-101\"/>\n      <use x=\"715.238281\" xlink:href=\"#DejaVuSans-108\"/>\n     </g>\n    </g>\n   </g>\n   <g id=\"matplotlib.axis_4\">\n    <g id=\"ytick_5\">\n     <g id=\"line2d_13\">\n      <g>\n       <use style=\"stroke:#000000;stroke-width:0.8;\" x=\"753.837983\" xlink:href=\"#m315af247db\" y=\"74.218125\"/>\n      </g>\n     </g>\n     <g id=\"text_33\">\n      <!-- deceased -->\n      <g transform=\"translate(698.845795 78.017344)scale(0.1 -0.1)\">\n       <use xlink:href=\"#DejaVuSans-100\"/>\n       <use x=\"63.476562\" xlink:href=\"#DejaVuSans-101\"/>\n       <use x=\"125\" xlink:href=\"#DejaVuSans-99\"/>\n       <use x=\"179.980469\" xlink:href=\"#DejaVuSans-101\"/>\n       <use x=\"241.503906\" xlink:href=\"#DejaVuSans-97\"/>\n       <use x=\"302.783203\" xlink:href=\"#DejaVuSans-115\"/>\n       <use x=\"354.882812\" xlink:href=\"#DejaVuSans-101\"/>\n       <use x=\"416.40625\" xlink:href=\"#DejaVuSans-100\"/>\n      </g>\n     </g>\n    </g>\n    <g id=\"ytick_6\">\n     <g id=\"line2d_14\">\n      <g>\n       <use style=\"stroke:#000000;stroke-width:0.8;\" x=\"753.837983\" xlink:href=\"#m315af247db\" y=\"178.018125\"/>\n      </g>\n     </g>\n     <g id=\"text_34\">\n      <!-- hospitalized -->\n      <g transform=\"translate(686.691108 181.817344)scale(0.1 -0.1)\">\n       <use xlink:href=\"#DejaVuSans-104\"/>\n       <use x=\"63.378906\" xlink:href=\"#DejaVuSans-111\"/>\n       <use x=\"124.560547\" xlink:href=\"#DejaVuSans-115\"/>\n       <use x=\"176.660156\" xlink:href=\"#DejaVuSans-112\"/>\n       <use x=\"240.136719\" xlink:href=\"#DejaVuSans-105\"/>\n       <use x=\"267.919922\" xlink:href=\"#DejaVuSans-116\"/>\n       <use x=\"307.128906\" xlink:href=\"#DejaVuSans-97\"/>\n       <use x=\"368.408203\" xlink:href=\"#DejaVuSans-108\"/>\n       <use x=\"396.191406\" xlink:href=\"#DejaVuSans-105\"/>\n       <use x=\"423.974609\" xlink:href=\"#DejaVuSans-122\"/>\n       <use x=\"476.464844\" xlink:href=\"#DejaVuSans-101\"/>\n       <use x=\"537.988281\" xlink:href=\"#DejaVuSans-100\"/>\n      </g>\n     </g>\n    </g>\n    <g id=\"ytick_7\">\n     <g id=\"line2d_15\">\n      <g>\n       <use style=\"stroke:#000000;stroke-width:0.8;\" x=\"753.837983\" xlink:href=\"#m315af247db\" y=\"281.818125\"/>\n      </g>\n     </g>\n     <g id=\"text_35\">\n      <!-- nonhospitalized -->\n      <g transform=\"translate(667.897358 285.617344)scale(0.1 -0.1)\">\n       <use xlink:href=\"#DejaVuSans-110\"/>\n       <use x=\"63.378906\" xlink:href=\"#DejaVuSans-111\"/>\n       <use x=\"124.560547\" xlink:href=\"#DejaVuSans-110\"/>\n       <use x=\"187.939453\" xlink:href=\"#DejaVuSans-104\"/>\n       <use x=\"251.318359\" xlink:href=\"#DejaVuSans-111\"/>\n       <use x=\"312.5\" xlink:href=\"#DejaVuSans-115\"/>\n       <use x=\"364.599609\" xlink:href=\"#DejaVuSans-112\"/>\n       <use x=\"428.076172\" xlink:href=\"#DejaVuSans-105\"/>\n       <use x=\"455.859375\" xlink:href=\"#DejaVuSans-116\"/>\n       <use x=\"495.068359\" xlink:href=\"#DejaVuSans-97\"/>\n       <use x=\"556.347656\" xlink:href=\"#DejaVuSans-108\"/>\n       <use x=\"584.130859\" xlink:href=\"#DejaVuSans-105\"/>\n       <use x=\"611.914062\" xlink:href=\"#DejaVuSans-122\"/>\n       <use x=\"664.404297\" xlink:href=\"#DejaVuSans-101\"/>\n       <use x=\"725.927734\" xlink:href=\"#DejaVuSans-100\"/>\n      </g>\n     </g>\n    </g>\n    <g id=\"ytick_8\">\n     <g id=\"line2d_16\">\n      <g>\n       <use style=\"stroke:#000000;stroke-width:0.8;\" x=\"753.837983\" xlink:href=\"#m315af247db\" y=\"385.618125\"/>\n      </g>\n     </g>\n     <g id=\"text_36\">\n      <!-- recovered -->\n      <g transform=\"translate(696.722358 389.417344)scale(0.1 -0.1)\">\n       <use xlink:href=\"#DejaVuSans-114\"/>\n       <use x=\"38.863281\" xlink:href=\"#DejaVuSans-101\"/>\n       <use x=\"100.386719\" xlink:href=\"#DejaVuSans-99\"/>\n       <use x=\"155.367188\" xlink:href=\"#DejaVuSans-111\"/>\n       <use x=\"216.548828\" xlink:href=\"#DejaVuSans-118\"/>\n       <use x=\"275.728516\" xlink:href=\"#DejaVuSans-101\"/>\n       <use x=\"337.251953\" xlink:href=\"#DejaVuSans-114\"/>\n       <use x=\"376.115234\" xlink:href=\"#DejaVuSans-101\"/>\n       <use x=\"437.638672\" xlink:href=\"#DejaVuSans-100\"/>\n      </g>\n     </g>\n    </g>\n    <g id=\"text_37\">\n     <!-- True label -->\n     <g transform=\"translate(661.81767 254.217344)rotate(-90)scale(0.1 -0.1)\">\n      <use xlink:href=\"#DejaVuSans-84\"/>\n      <use x=\"46.333984\" xlink:href=\"#DejaVuSans-114\"/>\n      <use x=\"87.447266\" xlink:href=\"#DejaVuSans-117\"/>\n      <use x=\"150.826172\" xlink:href=\"#DejaVuSans-101\"/>\n      <use x=\"212.349609\" xlink:href=\"#DejaVuSans-32\"/>\n      <use x=\"244.136719\" xlink:href=\"#DejaVuSans-108\"/>\n      <use x=\"271.919922\" xlink:href=\"#DejaVuSans-97\"/>\n      <use x=\"333.199219\" xlink:href=\"#DejaVuSans-98\"/>\n      <use x=\"396.675781\" xlink:href=\"#DejaVuSans-101\"/>\n      <use x=\"458.199219\" xlink:href=\"#DejaVuSans-108\"/>\n     </g>\n    </g>\n   </g>\n   <g id=\"patch_8\">\n    <path d=\"M 753.837983 437.518125 \nL 753.837983 22.318125 \n\" style=\"fill:none;stroke:#000000;stroke-linecap:square;stroke-linejoin:miter;stroke-width:0.8;\"/>\n   </g>\n   <g id=\"patch_9\">\n    <path d=\"M 1169.037983 437.518125 \nL 1169.037983 22.318125 \n\" style=\"fill:none;stroke:#000000;stroke-linecap:square;stroke-linejoin:miter;stroke-width:0.8;\"/>\n   </g>\n   <g id=\"patch_10\">\n    <path d=\"M 753.837983 437.518125 \nL 1169.037983 437.518125 \n\" style=\"fill:none;stroke:#000000;stroke-linecap:square;stroke-linejoin:miter;stroke-width:0.8;\"/>\n   </g>\n   <g id=\"patch_11\">\n    <path d=\"M 753.837983 22.318125 \nL 1169.037983 22.318125 \n\" style=\"fill:none;stroke:#000000;stroke-linecap:square;stroke-linejoin:miter;stroke-width:0.8;\"/>\n   </g>\n   <g id=\"text_38\">\n    <!-- 397 -->\n    <g style=\"fill:#08306b;\" transform=\"translate(796.194233 76.9775)scale(0.1 -0.1)\">\n     <use xlink:href=\"#DejaVuSans-51\"/>\n     <use x=\"63.623047\" xlink:href=\"#DejaVuSans-57\"/>\n     <use x=\"127.246094\" xlink:href=\"#DejaVuSans-55\"/>\n    </g>\n   </g>\n   <g id=\"text_39\">\n    <!-- 243 -->\n    <g style=\"fill:#08306b;\" transform=\"translate(899.994233 76.9775)scale(0.1 -0.1)\">\n     <use xlink:href=\"#DejaVuSans-50\"/>\n     <use x=\"63.623047\" xlink:href=\"#DejaVuSans-52\"/>\n     <use x=\"127.246094\" xlink:href=\"#DejaVuSans-51\"/>\n    </g>\n   </g>\n   <g id=\"text_40\">\n    <!-- 43 -->\n    <g style=\"fill:#08306b;\" transform=\"translate(1006.975483 76.9775)scale(0.1 -0.1)\">\n     <use xlink:href=\"#DejaVuSans-52\"/>\n     <use x=\"63.623047\" xlink:href=\"#DejaVuSans-51\"/>\n    </g>\n   </g>\n   <g id=\"text_41\">\n    <!-- 230 -->\n    <g style=\"fill:#08306b;\" transform=\"translate(1107.594233 76.9775)scale(0.1 -0.1)\">\n     <use xlink:href=\"#DejaVuSans-50\"/>\n     <use x=\"63.623047\" xlink:href=\"#DejaVuSans-51\"/>\n     <use x=\"127.246094\" xlink:href=\"#DejaVuSans-48\"/>\n    </g>\n   </g>\n   <g id=\"text_42\">\n    <!-- 3235 -->\n    <g style=\"fill:#08306b;\" transform=\"translate(793.012983 180.7775)scale(0.1 -0.1)\">\n     <use xlink:href=\"#DejaVuSans-51\"/>\n     <use x=\"63.623047\" xlink:href=\"#DejaVuSans-50\"/>\n     <use x=\"127.246094\" xlink:href=\"#DejaVuSans-51\"/>\n     <use x=\"190.869141\" xlink:href=\"#DejaVuSans-53\"/>\n    </g>\n   </g>\n   <g id=\"text_43\">\n    <!-- 17683 -->\n    <g style=\"fill:#f7fbff;\" transform=\"translate(893.631733 180.7775)scale(0.1 -0.1)\">\n     <use xlink:href=\"#DejaVuSans-49\"/>\n     <use x=\"63.623047\" xlink:href=\"#DejaVuSans-55\"/>\n     <use x=\"127.246094\" xlink:href=\"#DejaVuSans-54\"/>\n     <use x=\"190.869141\" xlink:href=\"#DejaVuSans-56\"/>\n     <use x=\"254.492188\" xlink:href=\"#DejaVuSans-51\"/>\n    </g>\n   </g>\n   <g id=\"text_44\">\n    <!-- 0 -->\n    <g style=\"fill:#08306b;\" transform=\"translate(1010.156733 180.7775)scale(0.1 -0.1)\">\n     <use xlink:href=\"#DejaVuSans-48\"/>\n    </g>\n   </g>\n   <g id=\"text_45\">\n    <!-- 3990 -->\n    <g style=\"fill:#08306b;\" transform=\"translate(1104.412983 180.7775)scale(0.1 -0.1)\">\n     <use xlink:href=\"#DejaVuSans-51\"/>\n     <use x=\"63.623047\" xlink:href=\"#DejaVuSans-57\"/>\n     <use x=\"127.246094\" xlink:href=\"#DejaVuSans-57\"/>\n     <use x=\"190.869141\" xlink:href=\"#DejaVuSans-48\"/>\n    </g>\n   </g>\n   <g id=\"text_46\">\n    <!-- 77 -->\n    <g style=\"fill:#08306b;\" transform=\"translate(799.375483 284.5775)scale(0.1 -0.1)\">\n     <use xlink:href=\"#DejaVuSans-55\"/>\n     <use x=\"63.623047\" xlink:href=\"#DejaVuSans-55\"/>\n    </g>\n   </g>\n   <g id=\"text_47\">\n    <!-- 1 -->\n    <g style=\"fill:#08306b;\" transform=\"translate(906.356733 284.5775)scale(0.1 -0.1)\">\n     <use xlink:href=\"#DejaVuSans-49\"/>\n    </g>\n   </g>\n   <g id=\"text_48\">\n    <!-- 29796 -->\n    <g style=\"fill:#f7fbff;\" transform=\"translate(997.431733 284.5775)scale(0.1 -0.1)\">\n     <use xlink:href=\"#DejaVuSans-50\"/>\n     <use x=\"63.623047\" xlink:href=\"#DejaVuSans-57\"/>\n     <use x=\"127.246094\" xlink:href=\"#DejaVuSans-55\"/>\n     <use x=\"190.869141\" xlink:href=\"#DejaVuSans-57\"/>\n     <use x=\"254.492188\" xlink:href=\"#DejaVuSans-54\"/>\n    </g>\n   </g>\n   <g id=\"text_49\">\n    <!-- 188 -->\n    <g style=\"fill:#08306b;\" transform=\"translate(1107.594233 284.5775)scale(0.1 -0.1)\">\n     <use xlink:href=\"#DejaVuSans-49\"/>\n     <use x=\"63.623047\" xlink:href=\"#DejaVuSans-56\"/>\n     <use x=\"127.246094\" xlink:href=\"#DejaVuSans-56\"/>\n    </g>\n   </g>\n   <g id=\"text_50\">\n    <!-- 1931 -->\n    <g style=\"fill:#08306b;\" transform=\"translate(793.012983 388.3775)scale(0.1 -0.1)\">\n     <use xlink:href=\"#DejaVuSans-49\"/>\n     <use x=\"63.623047\" xlink:href=\"#DejaVuSans-57\"/>\n     <use x=\"127.246094\" xlink:href=\"#DejaVuSans-51\"/>\n     <use x=\"190.869141\" xlink:href=\"#DejaVuSans-49\"/>\n    </g>\n   </g>\n   <g id=\"text_51\">\n    <!-- 2718 -->\n    <g style=\"fill:#08306b;\" transform=\"translate(896.812983 388.3775)scale(0.1 -0.1)\">\n     <use xlink:href=\"#DejaVuSans-50\"/>\n     <use x=\"63.623047\" xlink:href=\"#DejaVuSans-55\"/>\n     <use x=\"127.246094\" xlink:href=\"#DejaVuSans-49\"/>\n     <use x=\"190.869141\" xlink:href=\"#DejaVuSans-56\"/>\n    </g>\n   </g>\n   <g id=\"text_52\">\n    <!-- 145 -->\n    <g style=\"fill:#08306b;\" transform=\"translate(1003.794233 388.3775)scale(0.1 -0.1)\">\n     <use xlink:href=\"#DejaVuSans-49\"/>\n     <use x=\"63.623047\" xlink:href=\"#DejaVuSans-52\"/>\n     <use x=\"127.246094\" xlink:href=\"#DejaVuSans-53\"/>\n    </g>\n   </g>\n   <g id=\"text_53\">\n    <!-- 12849 -->\n    <g style=\"fill:#08306b;\" transform=\"translate(1101.231733 388.3775)scale(0.1 -0.1)\">\n     <use xlink:href=\"#DejaVuSans-49\"/>\n     <use x=\"63.623047\" xlink:href=\"#DejaVuSans-50\"/>\n     <use x=\"127.246094\" xlink:href=\"#DejaVuSans-56\"/>\n     <use x=\"190.869141\" xlink:href=\"#DejaVuSans-52\"/>\n     <use x=\"254.492188\" xlink:href=\"#DejaVuSans-57\"/>\n    </g>\n   </g>\n   <g id=\"text_54\">\n    <!-- LightGBM - Confusion Matrix of Validation Data -->\n    <defs>\n     <path d=\"M 28.609375 0 \nL 0.78125 72.90625 \nL 11.078125 72.90625 \nL 34.1875 11.53125 \nL 57.328125 72.90625 \nL 67.578125 72.90625 \nL 39.796875 0 \nz\n\" id=\"DejaVuSans-86\"/>\n    </defs>\n    <g transform=\"translate(820.44267 16.318125)scale(0.12 -0.12)\">\n     <use xlink:href=\"#DejaVuSans-76\"/>\n     <use x=\"55.712891\" xlink:href=\"#DejaVuSans-105\"/>\n     <use x=\"83.496094\" xlink:href=\"#DejaVuSans-103\"/>\n     <use x=\"146.972656\" xlink:href=\"#DejaVuSans-104\"/>\n     <use x=\"210.351562\" xlink:href=\"#DejaVuSans-116\"/>\n     <use x=\"249.560547\" xlink:href=\"#DejaVuSans-71\"/>\n     <use x=\"327.050781\" xlink:href=\"#DejaVuSans-66\"/>\n     <use x=\"395.654297\" xlink:href=\"#DejaVuSans-77\"/>\n     <use x=\"481.933594\" xlink:href=\"#DejaVuSans-32\"/>\n     <use x=\"513.720703\" xlink:href=\"#DejaVuSans-45\"/>\n     <use x=\"549.804688\" xlink:href=\"#DejaVuSans-32\"/>\n     <use x=\"581.591797\" xlink:href=\"#DejaVuSans-67\"/>\n     <use x=\"651.416016\" xlink:href=\"#DejaVuSans-111\"/>\n     <use x=\"712.597656\" xlink:href=\"#DejaVuSans-110\"/>\n     <use x=\"775.976562\" xlink:href=\"#DejaVuSans-102\"/>\n     <use x=\"811.181641\" xlink:href=\"#DejaVuSans-117\"/>\n     <use x=\"874.560547\" xlink:href=\"#DejaVuSans-115\"/>\n     <use x=\"926.660156\" xlink:href=\"#DejaVuSans-105\"/>\n     <use x=\"954.443359\" xlink:href=\"#DejaVuSans-111\"/>\n     <use x=\"1015.625\" xlink:href=\"#DejaVuSans-110\"/>\n     <use x=\"1079.003906\" xlink:href=\"#DejaVuSans-32\"/>\n     <use x=\"1110.791016\" xlink:href=\"#DejaVuSans-77\"/>\n     <use x=\"1197.070312\" xlink:href=\"#DejaVuSans-97\"/>\n     <use x=\"1258.349609\" xlink:href=\"#DejaVuSans-116\"/>\n     <use x=\"1297.558594\" xlink:href=\"#DejaVuSans-114\"/>\n     <use x=\"1338.671875\" xlink:href=\"#DejaVuSans-105\"/>\n     <use x=\"1366.455078\" xlink:href=\"#DejaVuSans-120\"/>\n     <use x=\"1425.634766\" xlink:href=\"#DejaVuSans-32\"/>\n     <use x=\"1457.421875\" xlink:href=\"#DejaVuSans-111\"/>\n     <use x=\"1518.603516\" xlink:href=\"#DejaVuSans-102\"/>\n     <use x=\"1553.808594\" xlink:href=\"#DejaVuSans-32\"/>\n     <use x=\"1585.595703\" xlink:href=\"#DejaVuSans-86\"/>\n     <use x=\"1646.253906\" xlink:href=\"#DejaVuSans-97\"/>\n     <use x=\"1707.533203\" xlink:href=\"#DejaVuSans-108\"/>\n     <use x=\"1735.316406\" xlink:href=\"#DejaVuSans-105\"/>\n     <use x=\"1763.099609\" xlink:href=\"#DejaVuSans-100\"/>\n     <use x=\"1826.576172\" xlink:href=\"#DejaVuSans-97\"/>\n     <use x=\"1887.855469\" xlink:href=\"#DejaVuSans-116\"/>\n     <use x=\"1927.064453\" xlink:href=\"#DejaVuSans-105\"/>\n     <use x=\"1954.847656\" xlink:href=\"#DejaVuSans-111\"/>\n     <use x=\"2016.029297\" xlink:href=\"#DejaVuSans-110\"/>\n     <use x=\"2079.408203\" xlink:href=\"#DejaVuSans-32\"/>\n     <use x=\"2111.195312\" xlink:href=\"#DejaVuSans-68\"/>\n     <use x=\"2188.197266\" xlink:href=\"#DejaVuSans-97\"/>\n     <use x=\"2249.476562\" xlink:href=\"#DejaVuSans-116\"/>\n     <use x=\"2288.685547\" xlink:href=\"#DejaVuSans-97\"/>\n    </g>\n   </g>\n  </g>\n  <g id=\"axes_3\">\n   <g id=\"patch_12\">\n    <path clip-path=\"url(#p67c8f59364)\" d=\"M 548.934038 437.518125 \nL 548.934038 435.89625 \nL 548.934038 23.94 \nL 548.934038 22.318125 \nL 569.694038 22.318125 \nL 569.694038 23.94 \nL 569.694038 435.89625 \nL 569.694038 437.518125 \nz\n\" style=\"fill:#ffffff;stroke:#ffffff;stroke-linejoin:miter;stroke-width:0.01;\"/>\n   </g>\n   <image height=\"415\" id=\"imagec7c8330e88\" transform=\"scale(1 -1)translate(0 -415)\" width=\"21\" x=\"549\" xlink:href=\"data:image/png;base64,\niVBORw0KGgoAAAANSUhEUgAAABUAAAGfCAYAAACwS5mcAAAABHNCSVQICAgIfAhkiAAAAelJREFUeJztnMGNwzAQA3WB+2/3HgGsNEE+BkMWsFiCXK5kO/n7/957wnjyJc957slX/cQrnnOeQqOlTguNdtRv0c+3Kle/1Kk7UDATJaffCRQS/Tw4K1oeKHL1Fyh5gCxVmaizQEmDQx8UKKQ8zYNjKdAJpXRAy4Oj/gIlD7mlFih5cNRfoOQht9QCJQ+O+guUPOSWWqDkwVF/gZJH56OBtyA/hz5nokB5+oImSv6Wp0DfrT4pUDBCvXKh3PTd6nPOUs/FHCXfQtGWpRonlHhJFH23+pzoA/nUfYsG+bQx+6C9D/Jp5SiJod+4RZN8qj7zg56hcCZKLlTnJI2hz+nU/lAW02kj+uRCydcJ6MozoeJonfkpQlXok/IUI1SjKIc+KVDcnze46YNWdKUohr5873MmSv4MBWSpRlFQni5Q0uCsaBB9jqU6K9r9ksutPmeiQIGyFR0vOvp5gCaqFCgTKgx78o9+vChnouT0OZYa/XhNEH1Op3KhQPTfwt2ck/yoMc0X3UTlYb/xgf4Oxi2Uu9P51Kw+J/pA9N2dgujPp/GinE7li4/TqZ3+fBrHfDqfhsHp9DkY+ufmfyLU6rQi1OiHMZ/KhTJH3+ib6XMmikQf89q4NFEYoeQ+VUefnD7HUqNvpi+fqB/g+hv6xme+MQAAAABJRU5ErkJggg==\" y=\"-22\"/>\n   <g id=\"matplotlib.axis_5\"/>\n   <g id=\"matplotlib.axis_6\">\n    <g id=\"ytick_9\">\n     <g id=\"line2d_17\">\n      <defs>\n       <path d=\"M 0 0 \nL 3.5 0 \n\" id=\"m907df3cecc\" style=\"stroke:#000000;stroke-width:0.8;\"/>\n      </defs>\n      <g>\n       <use style=\"stroke:#000000;stroke-width:0.8;\" x=\"569.694038\" xlink:href=\"#m907df3cecc\" y=\"437.518125\"/>\n      </g>\n     </g>\n     <g id=\"text_55\">\n      <!-- 0 -->\n      <g transform=\"translate(576.694038 441.317344)scale(0.1 -0.1)\">\n       <use xlink:href=\"#DejaVuSans-48\"/>\n      </g>\n     </g>\n    </g>\n    <g id=\"ytick_10\">\n     <g id=\"line2d_18\">\n      <g>\n       <use style=\"stroke:#000000;stroke-width:0.8;\" x=\"569.694038\" xlink:href=\"#m907df3cecc\" y=\"368.116861\"/>\n      </g>\n     </g>\n     <g id=\"text_56\">\n      <!-- 20000 -->\n      <g transform=\"translate(576.694038 371.91608)scale(0.1 -0.1)\">\n       <use xlink:href=\"#DejaVuSans-50\"/>\n       <use x=\"63.623047\" xlink:href=\"#DejaVuSans-48\"/>\n       <use x=\"127.246094\" xlink:href=\"#DejaVuSans-48\"/>\n       <use x=\"190.869141\" xlink:href=\"#DejaVuSans-48\"/>\n       <use x=\"254.492188\" xlink:href=\"#DejaVuSans-48\"/>\n      </g>\n     </g>\n    </g>\n    <g id=\"ytick_11\">\n     <g id=\"line2d_19\">\n      <g>\n       <use style=\"stroke:#000000;stroke-width:0.8;\" x=\"569.694038\" xlink:href=\"#m907df3cecc\" y=\"298.715598\"/>\n      </g>\n     </g>\n     <g id=\"text_57\">\n      <!-- 40000 -->\n      <g transform=\"translate(576.694038 302.514816)scale(0.1 -0.1)\">\n       <use xlink:href=\"#DejaVuSans-52\"/>\n       <use x=\"63.623047\" xlink:href=\"#DejaVuSans-48\"/>\n       <use x=\"127.246094\" xlink:href=\"#DejaVuSans-48\"/>\n       <use x=\"190.869141\" xlink:href=\"#DejaVuSans-48\"/>\n       <use x=\"254.492188\" xlink:href=\"#DejaVuSans-48\"/>\n      </g>\n     </g>\n    </g>\n    <g id=\"ytick_12\">\n     <g id=\"line2d_20\">\n      <g>\n       <use style=\"stroke:#000000;stroke-width:0.8;\" x=\"569.694038\" xlink:href=\"#m907df3cecc\" y=\"229.314334\"/>\n      </g>\n     </g>\n     <g id=\"text_58\">\n      <!-- 60000 -->\n      <g transform=\"translate(576.694038 233.113553)scale(0.1 -0.1)\">\n       <use xlink:href=\"#DejaVuSans-54\"/>\n       <use x=\"63.623047\" xlink:href=\"#DejaVuSans-48\"/>\n       <use x=\"127.246094\" xlink:href=\"#DejaVuSans-48\"/>\n       <use x=\"190.869141\" xlink:href=\"#DejaVuSans-48\"/>\n       <use x=\"254.492188\" xlink:href=\"#DejaVuSans-48\"/>\n      </g>\n     </g>\n    </g>\n    <g id=\"ytick_13\">\n     <g id=\"line2d_21\">\n      <g>\n       <use style=\"stroke:#000000;stroke-width:0.8;\" x=\"569.694038\" xlink:href=\"#m907df3cecc\" y=\"159.91307\"/>\n      </g>\n     </g>\n     <g id=\"text_59\">\n      <!-- 80000 -->\n      <g transform=\"translate(576.694038 163.712289)scale(0.1 -0.1)\">\n       <use xlink:href=\"#DejaVuSans-56\"/>\n       <use x=\"63.623047\" xlink:href=\"#DejaVuSans-48\"/>\n       <use x=\"127.246094\" xlink:href=\"#DejaVuSans-48\"/>\n       <use x=\"190.869141\" xlink:href=\"#DejaVuSans-48\"/>\n       <use x=\"254.492188\" xlink:href=\"#DejaVuSans-48\"/>\n      </g>\n     </g>\n    </g>\n    <g id=\"ytick_14\">\n     <g id=\"line2d_22\">\n      <g>\n       <use style=\"stroke:#000000;stroke-width:0.8;\" x=\"569.694038\" xlink:href=\"#m907df3cecc\" y=\"90.511807\"/>\n      </g>\n     </g>\n     <g id=\"text_60\">\n      <!-- 100000 -->\n      <g transform=\"translate(576.694038 94.311025)scale(0.1 -0.1)\">\n       <use xlink:href=\"#DejaVuSans-49\"/>\n       <use x=\"63.623047\" xlink:href=\"#DejaVuSans-48\"/>\n       <use x=\"127.246094\" xlink:href=\"#DejaVuSans-48\"/>\n       <use x=\"190.869141\" xlink:href=\"#DejaVuSans-48\"/>\n       <use x=\"254.492188\" xlink:href=\"#DejaVuSans-48\"/>\n       <use x=\"318.115234\" xlink:href=\"#DejaVuSans-48\"/>\n      </g>\n     </g>\n    </g>\n   </g>\n   <g id=\"patch_13\">\n    <path d=\"M 548.934038 437.518125 \nL 548.934038 435.89625 \nL 548.934038 23.94 \nL 548.934038 22.318125 \nL 569.694038 22.318125 \nL 569.694038 23.94 \nL 569.694038 435.89625 \nL 569.694038 437.518125 \nz\n\" style=\"fill:none;stroke:#000000;stroke-linejoin:miter;stroke-width:0.8;\"/>\n   </g>\n  </g>\n  <g id=\"axes_4\">\n   <g id=\"patch_14\">\n    <path clip-path=\"url(#p502b57eb62)\" d=\"M 1195.953271 437.518125 \nL 1195.953271 435.89625 \nL 1195.953271 23.94 \nL 1195.953271 22.318125 \nL 1216.713271 22.318125 \nL 1216.713271 23.94 \nL 1216.713271 435.89625 \nL 1216.713271 437.518125 \nz\n\" style=\"fill:#ffffff;stroke:#ffffff;stroke-linejoin:miter;stroke-width:0.01;\"/>\n   </g>\n   <image height=\"415\" id=\"imagea17e0f9b59\" transform=\"scale(1 -1)translate(0 -415)\" width=\"21\" x=\"1196\" xlink:href=\"data:image/png;base64,\niVBORw0KGgoAAAANSUhEUgAAABUAAAGfCAYAAACwS5mcAAAABHNCSVQICAgIfAhkiAAAAelJREFUeJztnMGNwzAQA3WB+2/3HgGsNEE+BkMWsFiCXK5kO/n7/957wnjyJc957slX/cQrnnOeQqOlTguNdtRv0c+3Kle/1Kk7UDATJaffCRQS/Tw4K1oeKHL1Fyh5gCxVmaizQEmDQx8UKKQ8zYNjKdAJpXRAy4Oj/gIlD7mlFih5cNRfoOQht9QCJQ+O+guUPOSWWqDkwVF/gZJH56OBtyA/hz5nokB5+oImSv6Wp0DfrT4pUDBCvXKh3PTd6nPOUs/FHCXfQtGWpRonlHhJFH23+pzoA/nUfYsG+bQx+6C9D/Jp5SiJod+4RZN8qj7zg56hcCZKLlTnJI2hz+nU/lAW02kj+uRCydcJ6MozoeJonfkpQlXok/IUI1SjKIc+KVDcnze46YNWdKUohr5873MmSv4MBWSpRlFQni5Q0uCsaBB9jqU6K9r9ksutPmeiQIGyFR0vOvp5gCaqFCgTKgx78o9+vChnouT0OZYa/XhNEH1Op3KhQPTfwt2ck/yoMc0X3UTlYb/xgf4Oxi2Uu9P51Kw+J/pA9N2dgujPp/GinE7li4/TqZ3+fBrHfDqfhsHp9DkY+ufmfyLU6rQi1OiHMZ/KhTJH3+ib6XMmikQf89q4NFEYoeQ+VUefnD7HUqNvpi+fqB/g+hv6xme+MQAAAABJRU5ErkJggg==\" y=\"-22\"/>\n   <g id=\"matplotlib.axis_7\"/>\n   <g id=\"matplotlib.axis_8\">\n    <g id=\"ytick_15\">\n     <g id=\"line2d_23\">\n      <g>\n       <use style=\"stroke:#000000;stroke-width:0.8;\" x=\"1216.713271\" xlink:href=\"#m907df3cecc\" y=\"437.518125\"/>\n      </g>\n     </g>\n     <g id=\"text_61\">\n      <!-- 0 -->\n      <g transform=\"translate(1223.713271 441.317344)scale(0.1 -0.1)\">\n       <use xlink:href=\"#DejaVuSans-48\"/>\n      </g>\n     </g>\n    </g>\n    <g id=\"ytick_16\">\n     <g id=\"line2d_24\">\n      <g>\n       <use style=\"stroke:#000000;stroke-width:0.8;\" x=\"1216.713271\" xlink:href=\"#m907df3cecc\" y=\"367.844343\"/>\n      </g>\n     </g>\n     <g id=\"text_62\">\n      <!-- 5000 -->\n      <g transform=\"translate(1223.713271 371.643562)scale(0.1 -0.1)\">\n       <use xlink:href=\"#DejaVuSans-53\"/>\n       <use x=\"63.623047\" xlink:href=\"#DejaVuSans-48\"/>\n       <use x=\"127.246094\" xlink:href=\"#DejaVuSans-48\"/>\n       <use x=\"190.869141\" xlink:href=\"#DejaVuSans-48\"/>\n      </g>\n     </g>\n    </g>\n    <g id=\"ytick_17\">\n     <g id=\"line2d_25\">\n      <g>\n       <use style=\"stroke:#000000;stroke-width:0.8;\" x=\"1216.713271\" xlink:href=\"#m907df3cecc\" y=\"298.170562\"/>\n      </g>\n     </g>\n     <g id=\"text_63\">\n      <!-- 10000 -->\n      <g transform=\"translate(1223.713271 301.96978)scale(0.1 -0.1)\">\n       <use xlink:href=\"#DejaVuSans-49\"/>\n       <use x=\"63.623047\" xlink:href=\"#DejaVuSans-48\"/>\n       <use x=\"127.246094\" xlink:href=\"#DejaVuSans-48\"/>\n       <use x=\"190.869141\" xlink:href=\"#DejaVuSans-48\"/>\n       <use x=\"254.492188\" xlink:href=\"#DejaVuSans-48\"/>\n      </g>\n     </g>\n    </g>\n    <g id=\"ytick_18\">\n     <g id=\"line2d_26\">\n      <g>\n       <use style=\"stroke:#000000;stroke-width:0.8;\" x=\"1216.713271\" xlink:href=\"#m907df3cecc\" y=\"228.49678\"/>\n      </g>\n     </g>\n     <g id=\"text_64\">\n      <!-- 15000 -->\n      <g transform=\"translate(1223.713271 232.295999)scale(0.1 -0.1)\">\n       <use xlink:href=\"#DejaVuSans-49\"/>\n       <use x=\"63.623047\" xlink:href=\"#DejaVuSans-53\"/>\n       <use x=\"127.246094\" xlink:href=\"#DejaVuSans-48\"/>\n       <use x=\"190.869141\" xlink:href=\"#DejaVuSans-48\"/>\n       <use x=\"254.492188\" xlink:href=\"#DejaVuSans-48\"/>\n      </g>\n     </g>\n    </g>\n    <g id=\"ytick_19\">\n     <g id=\"line2d_27\">\n      <g>\n       <use style=\"stroke:#000000;stroke-width:0.8;\" x=\"1216.713271\" xlink:href=\"#m907df3cecc\" y=\"158.822998\"/>\n      </g>\n     </g>\n     <g id=\"text_65\">\n      <!-- 20000 -->\n      <g transform=\"translate(1223.713271 162.622217)scale(0.1 -0.1)\">\n       <use xlink:href=\"#DejaVuSans-50\"/>\n       <use x=\"63.623047\" xlink:href=\"#DejaVuSans-48\"/>\n       <use x=\"127.246094\" xlink:href=\"#DejaVuSans-48\"/>\n       <use x=\"190.869141\" xlink:href=\"#DejaVuSans-48\"/>\n       <use x=\"254.492188\" xlink:href=\"#DejaVuSans-48\"/>\n      </g>\n     </g>\n    </g>\n    <g id=\"ytick_20\">\n     <g id=\"line2d_28\">\n      <g>\n       <use style=\"stroke:#000000;stroke-width:0.8;\" x=\"1216.713271\" xlink:href=\"#m907df3cecc\" y=\"89.149216\"/>\n      </g>\n     </g>\n     <g id=\"text_66\">\n      <!-- 25000 -->\n      <g transform=\"translate(1223.713271 92.948435)scale(0.1 -0.1)\">\n       <use xlink:href=\"#DejaVuSans-50\"/>\n       <use x=\"63.623047\" xlink:href=\"#DejaVuSans-53\"/>\n       <use x=\"127.246094\" xlink:href=\"#DejaVuSans-48\"/>\n       <use x=\"190.869141\" xlink:href=\"#DejaVuSans-48\"/>\n       <use x=\"254.492188\" xlink:href=\"#DejaVuSans-48\"/>\n      </g>\n     </g>\n    </g>\n   </g>\n   <g id=\"patch_15\">\n    <path d=\"M 1195.953271 437.518125 \nL 1195.953271 435.89625 \nL 1195.953271 23.94 \nL 1195.953271 22.318125 \nL 1216.713271 22.318125 \nL 1216.713271 23.94 \nL 1216.713271 435.89625 \nL 1216.713271 437.518125 \nz\n\" style=\"fill:none;stroke:#000000;stroke-linejoin:miter;stroke-width:0.8;\"/>\n   </g>\n  </g>\n </g>\n <defs>\n  <clipPath id=\"p38da0577ff\">\n   <rect height=\"415.2\" width=\"415.2\" x=\"106.81875\" y=\"22.318125\"/>\n  </clipPath>\n  <clipPath id=\"pc1eb994d92\">\n   <rect height=\"415.2\" width=\"415.2\" x=\"753.837983\" y=\"22.318125\"/>\n  </clipPath>\n  <clipPath id=\"p67c8f59364\">\n   <rect height=\"415.2\" width=\"20.76\" x=\"548.934038\" y=\"22.318125\"/>\n  </clipPath>\n  <clipPath id=\"p502b57eb62\">\n   <rect height=\"415.2\" width=\"20.76\" x=\"1195.953271\" y=\"22.318125\"/>\n  </clipPath>\n </defs>\n</svg>\n",
      "image/png": "[encoded data removed]"
     },
     "metadata": {
      "needs_background": "light"
     }
    }
   ],
   "source": [
    "fig, ax = plt.subplots(figsize = (20, 15), nrows = 1, ncols = 2) \n",
    "metrics.plot_confusion_matrix(best_lgbm, training_data, training_truth, cmap = plt.cm.Blues, ax = ax[0], values_format = '.6g') \n",
    "ax[0].set_title('LightGBM - Confusion Matrix of Training Data')\n",
    "metrics.plot_confusion_matrix(best_lgbm, validation_data, validation_truth, cmap = plt.cm.Blues, ax = ax[1], values_format = '.6g') \n",
    "ax[1].set_title('LightGBM - Confusion Matrix of Validation Data')\n",
    "\n",
    "# figure settings\n",
    "fig.tight_layout()\n",
    "fig.subplots_adjust(top=0.4)\n",
    "fig.subplots_adjust(right=0.9)\n",
    "#fig.savefig('../plots/lgbm_cm.png', bbox_inches='tight', pad_inches=0.3)"
   ]
  },
  {
   "source": [
    "## USING BEST MODEL TO PREDICT OUTCOME LABELS ON CASES_TEST_PROCESSED"
   ],
   "cell_type": "markdown",
   "metadata": {}
  },
  {
   "cell_type": "code",
   "execution_count": 80,
   "metadata": {},
   "outputs": [
    {
     "output_type": "execute_result",
     "data": {
      "text/plain": [
       "age                       float64\n",
       "sex                         int64\n",
       "province                    int64\n",
       "country                     int64\n",
       "latitude_x                float64\n",
       "longitude_x               float64\n",
       "date_confirmation           int64\n",
       "additional_information      int64\n",
       "source                      int64\n",
       "key                         int64\n",
       "latitude_y                float64\n",
       "longitude_y               float64\n",
       "confirmed_sum             float64\n",
       "death_sum                 float64\n",
       "recovered_sum             float64\n",
       "incidence_rate_avg        float64\n",
       "active_sum                float64\n",
       "Case-Fatality_Ratio       float64\n",
       "dtype: object"
      ]
     },
     "metadata": {},
     "execution_count": 80
    }
   ],
   "source": [
    "test_df.dtypes"
   ]
  },
  {
   "cell_type": "code",
   "execution_count": 81,
   "metadata": {},
   "outputs": [],
   "source": [
    "final_predictions = lgbm_model.predict(test_df)"
   ]
  },
  {
   "cell_type": "code",
   "execution_count": 87,
   "metadata": {},
   "outputs": [
    {
     "output_type": "execute_result",
     "data": {
      "text/plain": [
       "array(['recovered', 'nonhospitalized', 'recovered', ...,\n",
       "       'nonhospitalized', 'nonhospitalized', 'nonhospitalized'],\n",
       "      dtype=object)"
      ]
     },
     "metadata": {},
     "execution_count": 87
    }
   ],
   "source": [
    "final_predictions"
   ]
  },
  {
   "cell_type": "code",
   "execution_count": 92,
   "metadata": {},
   "outputs": [],
   "source": [
    "with open(os.path.join('../results/','predictions.txt'), \"w\") as outfile:\n",
    "    outfile.write(\"\\n\".join(final_predictions))"
   ]
  },
  {
   "cell_type": "code",
   "execution_count": 95,
   "metadata": {},
   "outputs": [],
   "source": [
    "def check_if_file_valid(filename):\n",
    "    assert filename.endswith('predictions.txt'), 'Incorrect filename' \n",
    "    f = open(filename).read()\n",
    "    l = f.split('\\n')\n",
    "    assert len(l) == 46500, 'Incorrect number of items'\n",
    "    assert (len(set(l)) == 4), 'Wrong class labels'\n",
    "    return 'The predictions file is valid'"
   ]
  },
  {
   "cell_type": "code",
   "execution_count": 98,
   "metadata": {},
   "outputs": [
    {
     "output_type": "execute_result",
     "data": {
      "text/plain": [
       "'The predictions file is valid'"
      ]
     },
     "metadata": {},
     "execution_count": 98
    }
   ],
   "source": [
    "check_if_file_valid('../results/predictions.txt')"
   ]
  }
 ]
}