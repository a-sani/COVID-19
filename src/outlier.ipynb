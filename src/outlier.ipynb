{
 "cells": [
  {
   "cell_type": "markdown",
   "metadata": {},
   "source": [
    "## Performing Outlier Detection\n",
    "### 1.Read the inputs (of the training data and location data)"
   ]
  },
  {
   "cell_type": "code",
   "execution_count": null,
   "metadata": {},
   "outputs": [],
   "source": [
    "import numpy as np\n",
    "import pandas as pd\n",
    "from numpy import percentile"
   ]
  },
  {
   "cell_type": "code",
   "execution_count": null,
   "metadata": {},
   "outputs": [],
   "source": [
    "train = pd.read_csv('../data/cases_train.csv')\n",
    "location = pd.read_csv('../data/location.csv')"
   ]
  },
  {
   "cell_type": "markdown",
   "metadata": {},
   "source": [
    "## Training Dataset\n",
    "*Only dealing with the important numerical attributes*"
   ]
  },
  {
   "cell_type": "code",
   "execution_count": null,
   "metadata": {},
   "outputs": [],
   "source": [
    "train_df = train[[\"age\",\"latitude\", \"longitude\"]] "
   ]
  },
  {
   "cell_type": "markdown",
   "metadata": {},
   "source": [
    "## Location Dataset\n",
    "*Only dealing with the numerical attributes*"
   ]
  },
  {
   "cell_type": "code",
   "execution_count": null,
   "metadata": {},
   "outputs": [],
   "source": [
    "location_df = location[[\"Lat\", \"Long_\", \"Confirmed\", \"Deaths\", \"Recovered\", \"Active\", \"Incidence_Rate\", \"Case-Fatality_Ratio\"]]"
   ]
  },
  {
   "source": [
    "## Using Inter-Quartile Range to find Outliers"
   ],
   "cell_type": "markdown",
   "metadata": {}
  },
  {
   "cell_type": "code",
   "execution_count": null,
   "metadata": {},
   "outputs": [],
   "source": [
    "def IQR(data):\n",
    "\n",
    "    '''\n",
    "    This function identifies outliers and non-outliers with interquartile range\n",
    "    \n",
    "    Input: dataframe\n",
    "    Ouput: series of print statements\n",
    "    \n",
    "    References:\n",
    "    # reference: https://machinelearningmastery.com/how-to-use-statistics-to-identify-outliers-in-data/\n",
    "    # reference: https://www.thoughtco.com/what-is-the-interquartile-range-rule-3126244#:~:text=Using%20the%20Interquartile%20Rule%20to%20Find%20Outliers&text=Multiply%20the%20interquartile%20range%20(IQR,this%20is%20a%20suspected%20outlier.&text=Any%20number%20less%20than%20this%20is%20a%20suspected%20outlier.    \n",
    "    '''\n",
    " \n",
    "    # calculate interquartile range\n",
    "    q25, q75 = percentile(data, 25), percentile(data, 75)\n",
    "    iqr = q75 - q25\n",
    "    print('Percentiles: 25th=%.3f, 75th=%.3f, IQR=%.3f' % (q25, q75, iqr))\n",
    "\n",
    "    # calculate the outlier cutoff\n",
    "    # Multiply the interquartile range (IQR) by 1.5\n",
    "    # Add 1.5 x (IQR) to the third quartile - anything more are considered outliers\n",
    "    # Subtract 1.5 x (IQR) from the first quartile -  - anything more are considered outliers\n",
    "    cut_off = iqr * 1.5\n",
    "    lower, upper = q25 - cut_off, q75 + cut_off\n",
    "    print(\"lower bound: \", lower)\n",
    "    print(\"upper bound: \", upper)\n",
    "\n",
    "    # identify outliers\n",
    "    outliers = [x for x in data if x < lower or x > upper]\n",
    "    print('Identified outliers: %d' % len(outliers))\n",
    "\n",
    "    # remove outliers\n",
    "    outliers_removed = [x for x in data if x >= lower and x <= upper]\n",
    "    print('Non-outlier observations: %d' % len(outliers_removed))\n",
    "    \n",
    "    return"
   ]
  },
  {
   "cell_type": "code",
   "execution_count": null,
   "metadata": {},
   "outputs": [],
   "source": [
    "def outlier_detection(df):\n",
    "    \n",
    "    '''\n",
    "    This function displays number of outliers, number of non-outliers and interquartile range\n",
    "    \n",
    "    Input: dataframe\n",
    "    Ouput: series of print statements\n",
    "    \n",
    "    References:\n",
    "    # https://stackoverflow.com/questions/28218698/how-to-iterate-over-columns-of-pandas-dataframe-to-run-regression\n",
    "    # https://pandas.pydata.org/pandas-docs/stable/reference/api/pandas.Series.name.html\n",
    "    # https://pandas.pydata.org/pandas-docs/stable/user_guide/dsintro.html\n",
    "    # https://stackoverflow.com/questions/40705480/python-pandas-remove-everything-after-a-delimiter-in-a-string\n",
    "    '''\n",
    "    \n",
    "    for column in df:\n",
    "        \n",
    "        if df[column].name == \"age\":\n",
    "            data = df[column].dropna()\n",
    "            data = data.map(lambda x: str(x)[:2])\n",
    "            data = data.str.split('.').str[0]\n",
    "            data = data.str.split('-').str[0]\n",
    "            data = data.astype(int)\n",
    "            print(df[column].name, \" outlier summary:\")\n",
    "            IQR(data)\n",
    "            print()\n",
    "\n",
    "        else:\n",
    "            data = df[column].dropna()\n",
    "            print(df[column].name, \" outlier summary:\")\n",
    "            IQR(data)\n",
    "            print()\n",
    "    \n",
    "    return"
   ]
  },
  {
   "source": [
    "## The Results of Outlier Detection"
   ],
   "cell_type": "markdown",
   "metadata": {}
  },
  {
   "cell_type": "code",
   "execution_count": null,
   "metadata": {},
   "outputs": [],
   "source": [
    "outlier_detection(train_df)"
   ]
  },
  {
   "cell_type": "code",
   "execution_count": null,
   "metadata": {},
   "outputs": [],
   "source": [
    "outlier_detection(location_df)"
   ]
  },
  {
   "source": [
    "*Below is a table that summarizes the Outlier detection, and is referred to by the report.*"
   ],
   "cell_type": "markdown",
   "metadata": {}
  },
  {
   "cell_type": "code",
   "execution_count": null,
   "metadata": {},
   "outputs": [],
   "source": [
    "from IPython.display import Image\n",
    "Image(filename='../plots/table1-outlier_summary.png') "
   ]
  },
  {
   "source": [
    "***NOTE: These outliers that are identified are statically based of the IQR calculations and not the logical (actual) outliers of the data.***\n",
    "\n",
    "For example, while the Latitude lower bound = 19.9 and upper bound = 55.5 for the location data, latitudes and longitudes are always within range: -90 to 90 and -180 to 180, respectively."
   ],
   "cell_type": "markdown",
   "metadata": {}
  }
 ],
 "metadata": {
  "kernelspec": {
   "display_name": "Python 3",
   "language": "python",
   "name": "python3"
  },
  "language_info": {
   "codemirror_mode": {
    "name": "ipython",
    "version": 3
   },
   "file_extension": ".py",
   "mimetype": "text/x-python",
   "name": "python",
   "nbconvert_exporter": "python",
   "pygments_lexer": "ipython3",
   "version": "3.8.3-final"
  }
 },
 "nbformat": 4,
 "nbformat_minor": 4
}