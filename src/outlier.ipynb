{
 "cells": [
  {
   "cell_type": "markdown",
   "metadata": {},
   "source": [
    "## Performing Outlier Detection\n",
    "### 1.Read the inputs (of the training data and location data)"
   ]
  },
  {
   "cell_type": "code",
   "execution_count": 19,
   "metadata": {},
   "outputs": [],
   "source": [
    "import numpy as np\n",
    "import pandas as pd\n",
    "from numpy import percentile"
   ]
  },
  {
   "cell_type": "code",
   "execution_count": 20,
   "metadata": {},
   "outputs": [],
   "source": [
    "train = pd.read_csv('../data/cases_train.csv')\n",
    "location = pd.read_csv('../data/location.csv')"
   ]
  },
  {
   "cell_type": "markdown",
   "metadata": {},
   "source": [
    "## Training Dataset\n",
    "*Only dealing with the important numerical attributes*"
   ]
  },
  {
   "cell_type": "code",
   "execution_count": 21,
   "metadata": {},
   "outputs": [],
   "source": [
    "train_df = train[[\"age\",\"latitude\", \"longitude\"]] "
   ]
  },
  {
   "cell_type": "markdown",
   "metadata": {},
   "source": [
    "## Location Dataset\n",
    "*Only dealing with the numerical attributes*"
   ]
  },
  {
   "cell_type": "code",
   "execution_count": 22,
   "metadata": {},
   "outputs": [],
   "source": [
    "location_df = location[[\"Lat\", \"Long_\", \"Confirmed\", \"Deaths\", \"Recovered\", \"Active\", \"Incidence_Rate\", \"Case-Fatality_Ratio\"]]"
   ]
  },
  {
   "source": [
    "## Using Inter-Quartile Range to find Outliers"
   ],
   "cell_type": "markdown",
   "metadata": {}
  },
  {
   "cell_type": "code",
   "execution_count": 23,
   "metadata": {},
   "outputs": [],
   "source": [
    "def IQR(data):\n",
    "\n",
    "    '''\n",
    "    This function identifies outliers and non-outliers with interquartile range\n",
    "    \n",
    "    Input: dataframe\n",
    "    Ouput: series of print statements\n",
    "    \n",
    "    References:\n",
    "    # reference: https://machinelearningmastery.com/how-to-use-statistics-to-identify-outliers-in-data/\n",
    "    # reference: https://www.thoughtco.com/what-is-the-interquartile-range-rule-3126244#:~:text=Using%20the%20Interquartile%20Rule%20to%20Find%20Outliers&text=Multiply%20the%20interquartile%20range%20(IQR,this%20is%20a%20suspected%20outlier.&text=Any%20number%20less%20than%20this%20is%20a%20suspected%20outlier.    \n",
    "    '''\n",
    " \n",
    "    # calculate interquartile range\n",
    "    q25, q75 = percentile(data, 25), percentile(data, 75)\n",
    "    iqr = q75 - q25\n",
    "    print('Percentiles: 25th=%.3f, 75th=%.3f, IQR=%.3f' % (q25, q75, iqr))\n",
    "\n",
    "    # calculate the outlier cutoff\n",
    "    # Multiply the interquartile range (IQR) by 1.5\n",
    "    # Add 1.5 x (IQR) to the third quartile - anything more are considered outliers\n",
    "    # Subtract 1.5 x (IQR) from the first quartile -  - anything more are considered outliers\n",
    "    cut_off = iqr * 1.5\n",
    "    lower, upper = q25 - cut_off, q75 + cut_off\n",
    "    print(\"lower bound: \", lower)\n",
    "    print(\"upper bound: \", upper)\n",
    "\n",
    "    # identify outliers\n",
    "    outliers = [x for x in data if x < lower or x > upper]\n",
    "    print('Identified outliers: %d' % len(outliers))\n",
    "\n",
    "    # remove outliers\n",
    "    outliers_removed = [x for x in data if x >= lower and x <= upper]\n",
    "    print('Non-outlier observations: %d' % len(outliers_removed))\n",
    "    \n",
    "    return"
   ]
  },
  {
   "cell_type": "code",
   "execution_count": 24,
   "metadata": {},
   "outputs": [],
   "source": [
    "def outlier_detection(df):\n",
    "    \n",
    "    '''\n",
    "    This function displays number of outliers, number of non-outliers and interquartile range\n",
    "    \n",
    "    Input: dataframe\n",
    "    Ouput: series of print statements\n",
    "    \n",
    "    References:\n",
    "    # https://stackoverflow.com/questions/28218698/how-to-iterate-over-columns-of-pandas-dataframe-to-run-regression\n",
    "    # https://pandas.pydata.org/pandas-docs/stable/reference/api/pandas.Series.name.html\n",
    "    # https://pandas.pydata.org/pandas-docs/stable/user_guide/dsintro.html\n",
    "    # https://stackoverflow.com/questions/40705480/python-pandas-remove-everything-after-a-delimiter-in-a-string\n",
    "    '''\n",
    "    \n",
    "    for column in df:\n",
    "        \n",
    "        if df[column].name == \"age\":\n",
    "            data = df[column].dropna()\n",
    "            data = data.map(lambda x: str(x)[:2])\n",
    "            data = data.str.split('.').str[0]\n",
    "            data = data.str.split('-').str[0]\n",
    "            data = data.astype(int)\n",
    "            print(df[column].name, \" outlier summary:\")\n",
    "            IQR(data)\n",
    "            print()\n",
    "\n",
    "        else:\n",
    "            data = df[column].dropna()\n",
    "            print(df[column].name, \" outlier summary:\")\n",
    "            IQR(data)\n",
    "            print()\n",
    "    \n",
    "    return"
   ]
  },
  {
   "source": [
    "## The Results of Outlier Detection"
   ],
   "cell_type": "markdown",
   "metadata": {}
  },
  {
   "cell_type": "code",
   "execution_count": 25,
   "metadata": {},
   "outputs": [
    {
     "output_type": "stream",
     "name": "stdout",
     "text": [
      "age  outlier summary:\n",
      "Percentiles: 25th=28.000, 75th=57.000, IQR=29.000\n",
      "lower bound:  -15.5\n",
      "upper bound:  100.5\n",
      "Identified outliers: 0\n",
      "Non-outlier observations: 158371\n",
      "\n",
      "latitude  outlier summary:\n",
      "Percentiles: 25th=12.682, 75th=27.577, IQR=14.895\n",
      "lower bound:  -9.659629999999986\n",
      "upper bound:  49.91869000000007\n",
      "Identified outliers: 84142\n",
      "Non-outlier observations: 283492\n",
      "\n",
      "longitude  outlier summary:\n",
      "Percentiles: 25th=-0.143, 75th=77.209, IQR=77.352\n",
      "lower bound:  -116.17190000000001\n",
      "upper bound:  193.23770000000002\n",
      "Identified outliers: 295\n",
      "Non-outlier observations: 367339\n",
      "\n"
     ]
    }
   ],
   "source": [
    "outlier_detection(train_df)"
   ]
  },
  {
   "cell_type": "code",
   "execution_count": 26,
   "metadata": {},
   "outputs": [
    {
     "output_type": "stream",
     "name": "stdout",
     "text": [
      "Lat  outlier summary:\nPercentiles: 25th=33.270, 75th=42.159, IQR=8.888\nlower bound:  19.93817088125\nupper bound:  55.490836791250004\nIdentified outliers: 415\nNon-outlier observations: 3459\n\nLong_  outlier summary:\nPercentiles: 25th=-96.611, 75th=-77.639, IQR=18.972\nlower bound:  -125.06939710625\nupper bound:  -49.18077613625001\nIdentified outliers: 530\nNon-outlier observations: 3344\n\nConfirmed  outlier summary:\nPercentiles: 25th=137.000, 75th=2129.000, IQR=1992.000\nlower bound:  -2851.0\nupper bound:  5117.0\nIdentified outliers: 639\nNon-outlier observations: 3315\n\nDeaths  outlier summary:\nPercentiles: 25th=1.000, 75th=48.000, IQR=47.000\nlower bound:  -69.5\nupper bound:  118.5\nIdentified outliers: 609\nNon-outlier observations: 3345\n\nRecovered  outlier summary:\nPercentiles: 25th=0.000, 75th=0.000, IQR=0.000\nlower bound:  0.0\nupper bound:  0.0\nIdentified outliers: 614\nNon-outlier observations: 3340\n\nActive  outlier summary:\nPercentiles: 25th=114.000, 75th=1453.000, IQR=1339.000\nlower bound:  -1894.5\nupper bound:  3461.5\nIdentified outliers: 543\nNon-outlier observations: 3409\n\nIncidence_Rate  outlier summary:\nPercentiles: 25th=618.904, 75th=2097.994, IQR=1479.089\nlower bound:  -1599.7300858676801\nupper bound:  4316.627864452694\nIdentified outliers: 155\nNon-outlier observations: 3719\n\nCase-Fatality_Ratio  outlier summary:\nPercentiles: 25th=0.638, 75th=3.007, IQR=2.369\nlower bound:  -2.9156090273065907\nupper bound:  6.559959134964171\nIdentified outliers: 246\nNon-outlier observations: 3660\n\n"
     ]
    }
   ],
   "source": [
    "outlier_detection(location_df)"
   ]
  },
  {
   "source": [
    "***NOTE: These outliers that are identified are statically based of the IQR calculations and not the logical (actual) outliers of the data.***\n",
    "\n",
    "For example, while the Latitude lower bound = 19.9 and upper bound = 55.5 for the location data, latitudes and longitudes are always within range: -90 to 90 and -180 to 180, respectively."
   ],
   "cell_type": "markdown",
   "metadata": {}
  }
 ],
 "metadata": {
  "kernelspec": {
   "display_name": "Python 3",
   "language": "python",
   "name": "python3"
  },
  "language_info": {
   "codemirror_mode": {
    "name": "ipython",
    "version": 3
   },
   "file_extension": ".py",
   "mimetype": "text/x-python",
   "name": "python",
   "nbconvert_exporter": "python",
   "pygments_lexer": "ipython3",
   "version": "3.8.3-final"
  }
 },
 "nbformat": 4,
 "nbformat_minor": 4
}